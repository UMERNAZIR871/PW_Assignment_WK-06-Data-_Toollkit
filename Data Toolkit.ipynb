{
 "cells": [
  {
   "cell_type": "markdown",
   "id": "3292c021-7fe2-41de-bd5d-be4cd7601337",
   "metadata": {},
   "source": [
    "# DATA TOOLKIT ASSIGNMENT"
   ]
  },
  {
   "cell_type": "markdown",
   "id": "a3eb1f79-f4e7-41d2-8e17-4bec085761a0",
   "metadata": {},
   "source": [
    "#     Theory Questions"
   ]
  },
  {
   "cell_type": "markdown",
   "id": "47a7dd21-784c-492d-96dd-845505490f25",
   "metadata": {},
   "source": [
    "**Q 1. What is NumPy, and why is it widely used in Python?**"
   ]
  },
  {
   "cell_type": "markdown",
   "id": "975507a0-472e-4194-a2a9-65bf8c244731",
   "metadata": {},
   "source": [
    "**Ans,** NumPy (short for Numerical Python) is a powerful open-source Python library primarily used for numerical computations and scientific computing. It provides support for large, multi-dimensional arrays and matrices, along with a collection of mathematical functions to operate on these arrays efficiently.\n",
    "\n",
    "\n",
    "> Key Features of NumPy:\n",
    "\n",
    "1. Ndarray Object:\n",
    "    - The core of NumPy is the ndarray, a fast, flexible, and powerful N-dimensional array object.\n",
    "    - Much more efficient than Python's built-in list when dealing with numerical data.\n",
    "\n",
    "2. Broadcasting:\n",
    "    - Allows arithmetic operations on arrays of different shapes without explicit looping.\n",
    "\n",
    "3. Vectorized Operations:\n",
    "    - Eliminates the need for many loops, making code faster and more concise.\n",
    "    - Uses C under the hood, so it's much faster than standard Python loops.\n",
    "\n",
    "4. Mathematical Functions:\n",
    "    - Includes tools for linear algebra, Fourier transforms, statistics, random number generation, etc.\n",
    "\n",
    "5. Integration:\n",
    "    - Works well with other libraries like Pandas, Matplotlib, SciPy, and TensorFlow.\n",
    "\n",
    "\n",
    "> Why is NumPy Widely Used?\n",
    "\n",
    "| Reason                | Explanation                                                                 |\n",
    "| --------------------- | --------------------------------------------------------------------------- |\n",
    "| **Performance**       | Operations are implemented in C and optimized for speed.                    |\n",
    "| **Simplicity**        | Easy syntax and array operations streamline code development.               |\n",
    "| **Memory Efficiency** | Arrays use less memory than Python lists for large datasets.                |\n",
    "| **Ecosystem Support** | Foundation for many data science and machine learning libraries.            |\n",
    "| **Data Analysis**     | Essential for handling structured and unstructured data in arrays/matrices. |\n",
    "\n"
   ]
  },
  {
   "cell_type": "code",
   "execution_count": 3,
   "id": "aaede6d9-4083-43f6-a071-1c8ca345c0ac",
   "metadata": {},
   "outputs": [
    {
     "name": "stdout",
     "output_type": "stream",
     "text": [
      "[5 7 9]\n"
     ]
    }
   ],
   "source": [
    "# Example \n",
    "\n",
    "import numpy as np\n",
    "\n",
    "# Create an array\n",
    "a = np.array([1, 2, 3])\n",
    "b = np.array([4, 5, 6])\n",
    "\n",
    "# Element-wise addition\n",
    "result = a + b\n",
    "print(result)  # Output: [5 7 9]\n"
   ]
  },
  {
   "cell_type": "markdown",
   "id": "8339a4f6-4a9c-4031-a101-71ac7a06f56a",
   "metadata": {},
   "source": [
    "**Q 2. How does broadcasting work in NumPy?**"
   ]
  },
  {
   "cell_type": "markdown",
   "id": "6ebff5c4-7769-4d5a-ae6c-afa64e4942db",
   "metadata": {},
   "source": [
    "**Ans.** Broadcasting in NumPy is a powerful mechanism that allows operations between arrays of different shapes without writing explicit loops."
   ]
  },
  {
   "cell_type": "markdown",
   "id": "22c8e3ba-f418-4322-9f24-377df3ed028e",
   "metadata": {},
   "source": [
    "Instead of manually expanding the smaller array to match the shape of the larger one, NumPy automatically \"broadcasts\" it, following a set of rules."
   ]
  },
  {
   "cell_type": "markdown",
   "id": "67967307-a0c6-4965-893b-2b26d784b203",
   "metadata": {},
   "source": [
    "Why Broadcasting:  To perform element-wise operations (like addition, subtraction"
   ]
  },
  {
   "cell_type": "markdown",
   "id": "d8ef7410-98e1-4686-bdbd-1ff0397bcacb",
   "metadata": {},
   "source": [
    "Broadcasting Rules:\n",
    "1. Compare shapes from right to left.\n",
    "2. Two dimensions are compatible when:\n",
    "    - They are equal, or\n",
    "    - One of them is 1\n",
    "\n",
    "If the shapes are compatible, NumPy stretches the smaller array along the mismatched dimension(s)."
   ]
  },
  {
   "cell_type": "markdown",
   "id": "58b3d8c5-f63e-4010-8b6c-0fd65ceaed23",
   "metadata": {},
   "source": [
    "Examples:"
   ]
  },
  {
   "cell_type": "markdown",
   "id": "72c30de8-8223-4ced-b659-6b0b70664af8",
   "metadata": {},
   "source": [
    "1. Scalar and Array:"
   ]
  },
  {
   "cell_type": "code",
   "execution_count": 4,
   "id": "12894648-9087-45ae-8ac3-d185bfdad0fd",
   "metadata": {},
   "outputs": [
    {
     "name": "stdout",
     "output_type": "stream",
     "text": [
      "[11 12 13]\n"
     ]
    }
   ],
   "source": [
    "import numpy as np\n",
    "\n",
    "a = np.array([1, 2, 3])\n",
    "b = 10\n",
    "\n",
    "print(a + b)\n",
    "# Output: [11 12 13]\n"
   ]
  },
  {
   "cell_type": "markdown",
   "id": "214925ca-dc6f-4e54-a053-55905ad61013",
   "metadata": {},
   "source": [
    "Here, scalar b is broadcast to match shape (3,)."
   ]
  },
  {
   "cell_type": "markdown",
   "id": "8a580e94-f308-4c0e-b06d-420f54403e68",
   "metadata": {},
   "source": [
    "2. 2D and 1D Array;"
   ]
  },
  {
   "cell_type": "code",
   "execution_count": 5,
   "id": "522f5d17-5a98-4baa-8339-bc774cd60a7d",
   "metadata": {},
   "outputs": [
    {
     "name": "stdout",
     "output_type": "stream",
     "text": [
      "[[11 22 33]\n",
      " [14 25 36]]\n"
     ]
    }
   ],
   "source": [
    "a = np.array([[1, 2, 3],\n",
    "              [4, 5, 6]])  # Shape: (2, 3)\n",
    "\n",
    "b = np.array([10, 20, 30])  # Shape: (3,)\n",
    "\n",
    "print(a + b)\n"
   ]
  },
  {
   "cell_type": "markdown",
   "id": "48a401a2-5edb-47ff-8d12-e01294250b7a",
   "metadata": {},
   "source": [
    "Broadcast Result: b is \"stretched\" to shape (2, 3)"
   ]
  },
  {
   "cell_type": "markdown",
   "id": "067efaa0-b435-49e7-8602-a8bb8a235f9a",
   "metadata": {},
   "source": [
    "3. Incompatible Shapes (Error):"
   ]
  },
  {
   "cell_type": "code",
   "execution_count": 6,
   "id": "1a82f059-1596-49a1-a4f4-d94b2c4a2db6",
   "metadata": {},
   "outputs": [
    {
     "ename": "ValueError",
     "evalue": "operands could not be broadcast together with shapes (2,2) (3,) ",
     "output_type": "error",
     "traceback": [
      "\u001b[1;31m---------------------------------------------------------------------------\u001b[0m",
      "\u001b[1;31mValueError\u001b[0m                                Traceback (most recent call last)",
      "Cell \u001b[1;32mIn[6], line 4\u001b[0m\n\u001b[0;32m      1\u001b[0m a \u001b[38;5;241m=\u001b[39m np\u001b[38;5;241m.\u001b[39marray([[\u001b[38;5;241m1\u001b[39m, \u001b[38;5;241m2\u001b[39m], [\u001b[38;5;241m3\u001b[39m, \u001b[38;5;241m4\u001b[39m]])  \u001b[38;5;66;03m# Shape: (2, 2)\u001b[39;00m\n\u001b[0;32m      2\u001b[0m b \u001b[38;5;241m=\u001b[39m np\u001b[38;5;241m.\u001b[39marray([\u001b[38;5;241m1\u001b[39m, \u001b[38;5;241m2\u001b[39m, \u001b[38;5;241m3\u001b[39m])         \u001b[38;5;66;03m# Shape: (3,)\u001b[39;00m\n\u001b[1;32m----> 4\u001b[0m \u001b[43ma\u001b[49m\u001b[43m \u001b[49m\u001b[38;5;241;43m+\u001b[39;49m\u001b[43m \u001b[49m\u001b[43mb\u001b[49m  \u001b[38;5;66;03m# ❌ Raises ValueError: shapes (2,2) and (3,) not compatible\u001b[39;00m\n",
      "\u001b[1;31mValueError\u001b[0m: operands could not be broadcast together with shapes (2,2) (3,) "
     ]
    }
   ],
   "source": [
    "a = np.array([[1, 2], [3, 4]])  # Shape: (2, 2)\n",
    "b = np.array([1, 2, 3])         # Shape: (3,)\n",
    "\n",
    "a + b  # ❌ Raises ValueError: shapes (2,2) and (3,) not compatible\n"
   ]
  },
  {
   "cell_type": "markdown",
   "id": "5950f151-a8e7-46e1-9d48-848e0360da3a",
   "metadata": {},
   "source": [
    "Visual Summary:\n",
    "\n",
    "| Array A shape | Array B shape | Result Shape | Works? |\n",
    "| ------------- | ------------- | ------------ | ------ |\n",
    "| (3, 4)        | (4,)          | (3, 4)       | ✅      |\n",
    "| (5, 1)        | (1, 6)        | (5, 6)       | ✅      |\n",
    "| (2, 3)        | (3, 2)        | ❌            | ❌      |\n"
   ]
  },
  {
   "cell_type": "markdown",
   "id": "9addd64f-5256-40df-9ca7-719834f71a45",
   "metadata": {},
   "source": [
    "**Q 3. What is a Pandas DataFrame?**"
   ]
  },
  {
   "cell_type": "markdown",
   "id": "632a72e7-aa9c-4ff9-9692-c339b9de8b87",
   "metadata": {},
   "source": [
    "**Ans.** A Pandas DataFrame is a two-dimensional, labeled, tabular data structure in Python—similar to a spreadsheet, SQL table, or an Excel sheet."
   ]
  },
  {
   "cell_type": "markdown",
   "id": "e84e2f68-c9c0-4510-8778-6d062fc64016",
   "metadata": {},
   "source": [
    "It is one of the core data structures provided by the Pandas library, widely used for data analysis, cleaning, and manipulation."
   ]
  },
  {
   "cell_type": "markdown",
   "id": "35f136f3-45e7-4342-8544-11a712e83009",
   "metadata": {},
   "source": [
    "Key Features of a DataFrame:\n",
    "\n",
    "\n",
    "| Feature                 | Description                                                        |\n",
    "| ----------------------- | ------------------------------------------------------------------ |\n",
    "| **Rows and Columns**    | Data is organized in rows (axis=0) and columns (axis=1).           |\n",
    "| **Labeled Axes**        | Both rows and columns have labels (like indexes and column names). |\n",
    "| **Mixed Data Types**    | Columns can hold different data types (e.g., int, float, string).  |\n",
    "| **Size Mutable**        | Can insert or delete columns/rows easily.                          |\n",
    "| **Powerful Operations** | Supports filtering, grouping, merging, reshaping, and more.        |\n"
   ]
  },
  {
   "cell_type": "markdown",
   "id": "6f12fcb8-8718-4fa0-a87f-7f05ec60546c",
   "metadata": {},
   "source": [
    "> Creating a Simple DataFrame:"
   ]
  },
  {
   "cell_type": "code",
   "execution_count": 9,
   "id": "0193c698-06e9-4eb9-89ad-7b5a102b266a",
   "metadata": {},
   "outputs": [
    {
     "name": "stdout",
     "output_type": "stream",
     "text": [
      "      Name  Age    City\n",
      "0     Umer   25   Delhi\n",
      "1      Bob   30  Mumbai\n",
      "2  Charlie   35   Jammu\n"
     ]
    }
   ],
   "source": [
    "import pandas as pd\n",
    "\n",
    "data = {\n",
    "    'Name': ['Umer', 'Bob', 'Charlie'],\n",
    "    'Age': [25, 30, 35],\n",
    "    'City': ['Delhi', 'Mumbai', 'Jammu']\n",
    "}\n",
    "\n",
    "df = pd.DataFrame(data)\n",
    "\n",
    "print(df)\n"
   ]
  },
  {
   "cell_type": "markdown",
   "id": "37bffb0b-f525-4239-90f3-757cd08458e6",
   "metadata": {},
   "source": [
    "Important Attributes & Methods:\n",
    "\n",
    "| Attribute/Method         | Description                                    |\n",
    "| ------------------------ | ---------------------------------------------- |\n",
    "| `df.shape`               | Returns number of rows and columns             |\n",
    "| `df.columns`             | Returns column names                           |\n",
    "| `df.head()`              | Shows first 5 rows                             |\n",
    "| `df.info()`              | Summary of the DataFrame                       |\n",
    "| `df.describe()`          | Statistical summary (for numeric columns)      |\n",
    "| `df.loc[]` / `df.iloc[]` | Access rows/columns by label or index position |\n"
   ]
  },
  {
   "cell_type": "markdown",
   "id": "ec61c580-c615-4c51-b91b-ac5ac8e6facc",
   "metadata": {},
   "source": [
    "Example Use Case: Reading a CSV and filtering data:"
   ]
  },
  {
   "cell_type": "code",
   "execution_count": 13,
   "id": "5c748e91-9240-4264-b287-625618e2603a",
   "metadata": {},
   "outputs": [
    {
     "data": {
      "text/html": [
       "<div>\n",
       "<style scoped>\n",
       "    .dataframe tbody tr th:only-of-type {\n",
       "        vertical-align: middle;\n",
       "    }\n",
       "\n",
       "    .dataframe tbody tr th {\n",
       "        vertical-align: top;\n",
       "    }\n",
       "\n",
       "    .dataframe thead th {\n",
       "        text-align: right;\n",
       "    }\n",
       "</style>\n",
       "<table border=\"1\" class=\"dataframe\">\n",
       "  <thead>\n",
       "    <tr style=\"text-align: right;\">\n",
       "      <th></th>\n",
       "      <th>Product</th>\n",
       "      <th>Sales</th>\n",
       "      <th>Region</th>\n",
       "    </tr>\n",
       "  </thead>\n",
       "  <tbody>\n",
       "    <tr>\n",
       "      <th>2</th>\n",
       "      <td>Keyboard</td>\n",
       "      <td>14500</td>\n",
       "      <td>East</td>\n",
       "    </tr>\n",
       "    <tr>\n",
       "      <th>4</th>\n",
       "      <td>Printer</td>\n",
       "      <td>15000</td>\n",
       "      <td>North</td>\n",
       "    </tr>\n",
       "  </tbody>\n",
       "</table>\n",
       "</div>"
      ],
      "text/plain": [
       "    Product  Sales Region\n",
       "2  Keyboard  14500   East\n",
       "4   Printer  15000  North"
      ]
     },
     "execution_count": 13,
     "metadata": {},
     "output_type": "execute_result"
    }
   ],
   "source": [
    "df = pd.read_csv('sales.csv')\n",
    "df[df['Sales'] > 5000]\n"
   ]
  },
  {
   "cell_type": "markdown",
   "id": "b03ed65d-99a4-476d-a56b-da9ef7e96d29",
   "metadata": {},
   "source": [
    "**Q 4. Explain the use of the groupby() method in Pandas?**"
   ]
  },
  {
   "cell_type": "markdown",
   "id": "a15b0493-e241-46ea-8fb8-92258b0466ff",
   "metadata": {},
   "source": [
    "**Ans.** The groupby() method in Pandas is used to split data into groups based on one or more columns, perform operations on each group independently (like sum(), mean(), count()), and then combine the results."
   ]
  },
  {
   "cell_type": "markdown",
   "id": "56673e1a-a693-4ac3-b382-9747c6842d8a",
   "metadata": {},
   "source": [
    "This is extremely useful for data analysis, aggregation, and reporting."
   ]
  },
  {
   "cell_type": "markdown",
   "id": "fe3633ba-3a59-4f99-9e18-62a85254f822",
   "metadata": {},
   "source": [
    "Syntax: \n",
    "\n",
    "\n",
    "df.groupby('column_name')\n"
   ]
  },
  {
   "cell_type": "code",
   "execution_count": 14,
   "id": "2ba2b414-b983-402d-a039-e8186bc1b33f",
   "metadata": {},
   "outputs": [
    {
     "name": "stdout",
     "output_type": "stream",
     "text": [
      "Product\n",
      "A    380\n",
      "B    450\n",
      "C    300\n",
      "Name: Sales, dtype: int64\n"
     ]
    }
   ],
   "source": [
    "import pandas as pd\n",
    "\n",
    "data = {\n",
    "    'Product': ['A', 'B', 'A', 'C', 'B', 'A'],\n",
    "    'Region': ['North', 'North', 'South', 'South', 'North', 'South'],\n",
    "    'Sales': [100, 200, 150, 300, 250, 130]\n",
    "}\n",
    "\n",
    "df = pd.DataFrame(data)\n",
    "\n",
    "# Group by Product and calculate total sales\n",
    "grouped = df.groupby('Product')['Sales'].sum()\n",
    "print(grouped)\n"
   ]
  },
  {
   "cell_type": "markdown",
   "id": "82a1d400-cb0f-417c-a67b-6ba85705776a",
   "metadata": {},
   "source": [
    "Common Aggregations with groupby():\n",
    "\n",
    "\n",
    "| Operation          | Example                                      |\n",
    "| ------------------ | -------------------------------------------- |\n",
    "| Sum per group      | `df.groupby('Region')['Sales'].sum()`        |\n",
    "| Mean per group     | `df.groupby('Product')['Sales'].mean()`      |\n",
    "| Count per group    | `df.groupby('Product').count()`              |\n",
    "| Multiple functions | `df.groupby('Product').agg(['sum', 'mean'])` |\n",
    "| Group by multiple  | `df.groupby(['Region', 'Product']).sum()`    |"
   ]
  },
  {
   "cell_type": "markdown",
   "id": "d90c8bdb-c1c3-4dd0-ac71-491b404aa9b5",
   "metadata": {},
   "source": [
    "Example with Multiple Aggregations:"
   ]
  },
  {
   "cell_type": "code",
   "execution_count": 15,
   "id": "7a5a2a0b-b4f1-42aa-9546-aeeff24e44e0",
   "metadata": {},
   "outputs": [
    {
     "data": {
      "text/html": [
       "<div>\n",
       "<style scoped>\n",
       "    .dataframe tbody tr th:only-of-type {\n",
       "        vertical-align: middle;\n",
       "    }\n",
       "\n",
       "    .dataframe tbody tr th {\n",
       "        vertical-align: top;\n",
       "    }\n",
       "\n",
       "    .dataframe thead tr th {\n",
       "        text-align: left;\n",
       "    }\n",
       "\n",
       "    .dataframe thead tr:last-of-type th {\n",
       "        text-align: right;\n",
       "    }\n",
       "</style>\n",
       "<table border=\"1\" class=\"dataframe\">\n",
       "  <thead>\n",
       "    <tr>\n",
       "      <th></th>\n",
       "      <th colspan=\"3\" halign=\"left\">Sales</th>\n",
       "    </tr>\n",
       "    <tr>\n",
       "      <th></th>\n",
       "      <th>sum</th>\n",
       "      <th>mean</th>\n",
       "      <th>max</th>\n",
       "    </tr>\n",
       "    <tr>\n",
       "      <th>Product</th>\n",
       "      <th></th>\n",
       "      <th></th>\n",
       "      <th></th>\n",
       "    </tr>\n",
       "  </thead>\n",
       "  <tbody>\n",
       "    <tr>\n",
       "      <th>A</th>\n",
       "      <td>380</td>\n",
       "      <td>126.666667</td>\n",
       "      <td>150</td>\n",
       "    </tr>\n",
       "    <tr>\n",
       "      <th>B</th>\n",
       "      <td>450</td>\n",
       "      <td>225.000000</td>\n",
       "      <td>250</td>\n",
       "    </tr>\n",
       "    <tr>\n",
       "      <th>C</th>\n",
       "      <td>300</td>\n",
       "      <td>300.000000</td>\n",
       "      <td>300</td>\n",
       "    </tr>\n",
       "  </tbody>\n",
       "</table>\n",
       "</div>"
      ],
      "text/plain": [
       "        Sales                 \n",
       "          sum        mean  max\n",
       "Product                       \n",
       "A         380  126.666667  150\n",
       "B         450  225.000000  250\n",
       "C         300  300.000000  300"
      ]
     },
     "execution_count": 15,
     "metadata": {},
     "output_type": "execute_result"
    }
   ],
   "source": [
    "df.groupby('Product').agg({\n",
    "    'Sales': ['sum', 'mean', 'max']\n",
    "})"
   ]
  },
  {
   "cell_type": "markdown",
   "id": "5bdfa125-d411-4c9a-a79b-d33b45dbc15d",
   "metadata": {},
   "source": [
    "**Q 5.  Why is Seaborn preferred for statistical visualizations?**"
   ]
  },
  {
   "cell_type": "markdown",
   "id": "85720ef1-657f-43ce-a686-0236f3ba47b6",
   "metadata": {},
   "source": [
    "**Ans.** Seaborn is preferred for statistical visualizations in Python because it is a high-level interface built on top of Matplotlib, designed specifically to make statistical graphics easier and more beautiful."
   ]
  },
  {
   "cell_type": "markdown",
   "id": "f2237b9d-adf0-48c7-a8dc-11a50b5a9cfb",
   "metadata": {},
   "source": [
    "Seaborn is Preferred based on:\n",
    "\n",
    "\n",
    "| Feature                       | Explanation                                                                                     |\n",
    "| ----------------------------- | ----------------------------------------------------------------------------------------------- |\n",
    "| 🎯 **Statistical Focus**      | Built-in support for visualizing **distributions**, **regressions**, **categorical data**, etc. |\n",
    "| 🎨 **Beautiful Defaults**     | Automatically uses **aesthetically pleasing styles** and color palettes.                        |\n",
    "| 📊 **Simplified Syntax**      | Fewer lines of code needed to create **complex visualizations**.                                |\n",
    "| 🔄 **Built-in Aggregation**   | Automatically computes and plots **summaries (mean, confidence intervals)**.                    |\n",
    "| 🤝 **Works Well with Pandas** | Accepts Pandas DataFrames directly and understands **column names as variables**.               |\n",
    "| 📈 **Complex Plots Easily**   | Makes **facet plots**, **heatmaps**, **pairplots**, and **regression plots** with ease.         |\n"
   ]
  },
  {
   "cell_type": "markdown",
   "id": "bb964da0-22d0-44ed-bd6d-8edb29ca33ca",
   "metadata": {},
   "source": [
    "Example: Comparing with Matplotlib"
   ]
  },
  {
   "cell_type": "markdown",
   "id": "7257dc51-d07a-463c-a8d3-4c55a6c4cf29",
   "metadata": {},
   "source": [
    "With Matplotlib:"
   ]
  },
  {
   "cell_type": "code",
   "execution_count": 6,
   "id": "01204a2d-ed8e-46ce-866f-3b819ef4d1f6",
   "metadata": {},
   "outputs": [
    {
     "data": {
      "image/png": "[encoded data removed]",
      "text/plain": [
       "<Figure size 640x480 with 1 Axes>"
      ]
     },
     "metadata": {},
     "output_type": "display_data"
    }
   ],
   "source": [
    "import matplotlib.pyplot as plt\n",
    "import pandas as pd\n",
    "\n",
    "df = pd.DataFrame({'x': [1, 2, 3], 'y': [2, 5, 7]})\n",
    "\n",
    "plt.plot(df['x'], df['y'])\n",
    "plt.title('Line Plot')\n",
    "plt.show()\n"
   ]
  },
  {
   "cell_type": "markdown",
   "id": "5cde88ff-a4f7-49a0-9fc7-9e9993309f65",
   "metadata": {},
   "source": [
    "With Seaborn:"
   ]
  },
  {
   "cell_type": "code",
   "execution_count": 7,
   "id": "91ea91f4-0812-4c37-8d7d-94a245e998c0",
   "metadata": {},
   "outputs": [
    {
     "data": {
      "text/plain": [
       "<Axes: xlabel='x', ylabel='y'>"
      ]
     },
     "execution_count": 7,
     "metadata": {},
     "output_type": "execute_result"
    },
    {
     "data": {
      "image/png": "[encoded data removed]",
      "text/plain": [
       "<Figure size 640x480 with 1 Axes>"
      ]
     },
     "metadata": {},
     "output_type": "display_data"
    }
   ],
   "source": [
    "import seaborn as sns\n",
    "import pandas as pd\n",
    "\n",
    "df = pd.DataFrame({'x': [1, 2, 3], 'y': [2, 5, 7]})\n",
    "\n",
    "sns.lineplot(data=df, x='x', y='y')\n"
   ]
  },
  {
   "cell_type": "markdown",
   "id": "8e739176-26ae-46a8-8c43-287bf77706b7",
   "metadata": {},
   "source": [
    "`Same plot with less effort and better design.`"
   ]
  },
  {
   "cell_type": "markdown",
   "id": "d5f5232e-acc1-4fa5-b9af-ad567e7936bc",
   "metadata": {},
   "source": [
    "**Types of Plots Easily Created in Seaborn:**"
   ]
  },
  {
   "cell_type": "markdown",
   "id": "46e3e1f1-ba77-4469-9abb-22b37513108d",
   "metadata": {},
   "source": [
    "| Plot Type         | Function            |\n",
    "| ----------------- | ------------------- |\n",
    "| Distribution plot | `sns.histplot()`    |\n",
    "| Box plot          | `sns.boxplot()`     |\n",
    "| Violin plot       | `sns.violinplot()`  |\n",
    "| Bar plot          | `sns.barplot()`     |\n",
    "| Line plot         | `sns.lineplot()`    |\n",
    "| Scatter plot      | `sns.scatterplot()` |\n",
    "| Heatmap           | `sns.heatmap()`     |\n",
    "| Pair plot         | `sns.pairplot()`    |\n",
    "| Regression plot   | `sns.regplot()`     |\n"
   ]
  },
  {
   "cell_type": "markdown",
   "id": "9a468935-fc34-4c9b-8735-b5f11e72853b",
   "metadata": {},
   "source": [
    "**Q 6. What are the differences between NumPy arrays and Python lists?**"
   ]
  },
  {
   "cell_type": "markdown",
   "id": "02386473-5694-48a7-b2a7-8f4b7cbe02f6",
   "metadata": {},
   "source": [
    "**Ans.** "
   ]
  },
  {
   "cell_type": "markdown",
   "id": "1136ee23-46ce-4a02-a402-e8964d0997c3",
   "metadata": {},
   "source": [
    "Maint Point of digfference between Numpy & Python List:\n",
    "\n",
    "| Feature           | NumPy Array     | Python List         |\n",
    "| ----------------- | --------------- | ------------------- |\n",
    "| Speed             | Fast            | Slow                |\n",
    "| Memory Efficiency | High            | Low                 |\n",
    "| Data Type         | Same type only  | Mixed types allowed |\n",
    "| Multidimensional  | Yes             | With nesting        |\n",
    "| Math Operations   | Built-in        | Manual              |\n",
    "| Use Case          | Scientific data | General data        |\n"
   ]
  },
  {
   "cell_type": "code",
   "execution_count": 20,
   "id": "a9c40410-cc0d-4459-9913-94b7eadcff02",
   "metadata": {},
   "outputs": [
    {
     "name": "stdout",
     "output_type": "stream",
     "text": [
      "[6 7 8]\n",
      "[6, 7, 8]\n"
     ]
    }
   ],
   "source": [
    "import numpy as np\n",
    "\n",
    "# NumPy array\n",
    "a = np.array([1, 2, 3])\n",
    "print(a + 5)  # Output: [6 7 8]\n",
    "\n",
    "# Python list\n",
    "b = [1, 2, 3]\n",
    "# print(b + 5) ❌ Error\n",
    "print([x + 5 for x in b])  # ✅ [6, 7, 8]\n"
   ]
  },
  {
   "cell_type": "markdown",
   "id": "36aa0a36-12a2-4d6e-b190-b2a3e7a17369",
   "metadata": {},
   "source": [
    "**Q 7. What is a heatmap, and when should it be used?**"
   ]
  },
  {
   "cell_type": "markdown",
   "id": "65b5ea70-addd-43bf-be4f-bb7d30226a14",
   "metadata": {},
   "source": [
    "**Ans.** A heatmap is a data visualization technique that uses color gradients to represent the magnitude of values in a matrix or two-dimensional dataset. Typically, higher values are shown in darker or more intense colors, while lower values are shown in lighter or cooler tones.\n",
    "\n",
    "1. Key Characteristics:\n",
    "    - Rows and columns represent variables (e.g., time, categories, features).\n",
    "    - Color intensity reflects data values.\n",
    "    - Commonly used in exploratory data analysis to find patterns, correlations, or anomalies.\n",
    "\n",
    "2. Heatmapcan be Used: Use a heatmap when you want to:\n",
    "    - Visualize Correlations: In data science, heatmaps are often used to display the correlation matrix to see how variables are related (e.g., with seaborn.heatmap() in Python).\n",
    "    - Understand Distribution in a Grid: Like in website analytics to see user click density (hot zones vs cold zones), or in sports to show player movements or shot locations.\n",
    "    - Identify Patterns or Trends: In time series (e.g., sales over months across different regions), it helps spot patterns across time and categories.\n",
    "    - Highlight Anomalies or Outliers: Easily detect values that deviate from the norm due to the color contrast.\n",
    "    - Summarize Large Datasets: Useful for summarizing and simplifying data that would otherwise be difficult to interpret in raw numerical format.\n",
    "\n",
    "3. Examples of Heatmap Usage:\n",
    "    - Biology: Gene expression heatmaps\n",
    "    - Finance: Stock correlation heatmaps\n",
    "    - Education: Student performance across subjects\n",
    "    - Marketing: Website interaction analysis\n",
    "    - Data Science: Visualizing missing values or feature correlations\n",
    "\n",
    "4. Tools for Creating Heatmaps:\n",
    "    - Python: seaborn.heatmap(), matplotlib.imshow(), plotly\n",
    "    - Excel: Conditional formatting\n",
    "    - Tableau, Power BI: Built-in visualization options"
   ]
  },
  {
   "cell_type": "markdown",
   "id": "8c6d5e52-6375-47d2-83c3-482b19f9739c",
   "metadata": {},
   "source": [
    "**Q 8. What does the term “vectorized operation” mean in NumPy?**"
   ]
  },
  {
   "cell_type": "markdown",
   "id": "b83fdd06-47e4-4f1a-9345-2c0e474909bf",
   "metadata": {},
   "source": [
    "**Ans,** In NumPy, a vectorized operation refers to performing operations on entire arrays (vectors, matrices, etc.) at once, without using explicit loops in Python."
   ]
  },
  {
   "cell_type": "markdown",
   "id": "d7488361-0400-4eba-a06a-b8b92068229a",
   "metadata": {},
   "source": [
    "What It Means: Instead of writing a loop like:"
   ]
  },
  {
   "cell_type": "markdown",
   "id": "2bfed6af-2798-4483-bac0-5fd4998509ab",
   "metadata": {},
   "source": [
    "result = []\n",
    "for x in data:\n",
    "    result.append(x * 2)\n"
   ]
  },
  {
   "cell_type": "markdown",
   "id": "9505a8ce-7df6-49b2-b547-6812b3837ed5",
   "metadata": {},
   "source": [
    "You can use a vectorized operation:"
   ]
  },
  {
   "cell_type": "code",
   "execution_count": 3,
   "id": "7863ee8d-5579-4b49-be0a-c7b3c59327c3",
   "metadata": {},
   "outputs": [],
   "source": [
    "import numpy as np\n",
    "data = np.array([1, 2, 3, 4])\n",
    "result = data * 2  # Vectorized\n"
   ]
  },
  {
   "cell_type": "markdown",
   "id": "905c64c0-e7c6-49db-aa99-2c906eb5dca5",
   "metadata": {},
   "source": [
    "Advantages of Vectorized Operations:\n",
    "1. Faster Execution:  NumPy uses optimized C code under the hood, so operations are much faster than Python loops.\n",
    "2. Cleaner Code: You write shorter and more readable code.\n",
    "3. Efficient Memory Usage:  Operations are often done in-place or with minimal overhead.\n"
   ]
  },
  {
   "cell_type": "markdown",
   "id": "f07f9851-6bfd-42a3-816f-96e26ea499e4",
   "metadata": {},
   "source": [
    "Examples of Vectorized Operations in NumPy:"
   ]
  },
  {
   "cell_type": "code",
   "execution_count": 4,
   "id": "d62741bb-6ea9-469b-83fe-be6a5cdd1d81",
   "metadata": {},
   "outputs": [],
   "source": [
    "import numpy as np\n",
    "\n",
    "# Arrays\n",
    "a = np.array([1, 2, 3])\n",
    "b = np.array([4, 5, 6])\n",
    "\n",
    "# Arithmetic (element-wise)\n",
    "sum_ab = a + b        # array([5, 7, 9])\n",
    "product = a * b       # array([ 4, 10, 18])\n",
    "square = a ** 2       # array([1, 4, 9])\n",
    "\n",
    "# Comparison\n",
    "greater = a > 2       # array([False, False, True])\n"
   ]
  },
  {
   "cell_type": "markdown",
   "id": "a1ddde52-01d7-4114-a92b-7e73a92a137e",
   "metadata": {},
   "source": [
    "Without Vectorization (slower and verbose):"
   ]
  },
  {
   "cell_type": "code",
   "execution_count": 5,
   "id": "cacafb19-6e1c-4f9f-8bf1-1752a9b3ce36",
   "metadata": {},
   "outputs": [],
   "source": [
    "result = []\n",
    "for i in range(len(a)):\n",
    "    result.append(a[i] + b[i])\n"
   ]
  },
  {
   "cell_type": "markdown",
   "id": "bd607913-edb6-475a-a8d7-a93c341ec577",
   "metadata": {},
   "source": [
    "With Vectorization:"
   ]
  },
  {
   "cell_type": "code",
   "execution_count": 8,
   "id": "8d9d8e52-bb23-49da-ac70-151ea812550e",
   "metadata": {},
   "outputs": [],
   "source": [
    "result = a + b\n"
   ]
  },
  {
   "cell_type": "markdown",
   "id": "30f3ae09-ac07-46b8-af68-10a347e9684e",
   "metadata": {},
   "source": [
    "**Q 9.  How does Matplotlib differ from Plotly?**"
   ]
  },
  {
   "cell_type": "markdown",
   "id": "3fce2b49-d3a0-41c0-9b3f-f47a3a309b25",
   "metadata": {},
   "source": [
    "**Ans.** Matplotlib and Plotly are both powerful Python libraries for data visualization, but they differ significantly in terms of interactivity, ease of use, and typical use cases."
   ]
  },
  {
   "cell_type": "markdown",
   "id": "780df5c3-dee9-404b-b3ff-cc478a6764f2",
   "metadata": {},
   "source": [
    "1. Interactivity:\n",
    "\n",
    "| Feature       | **Matplotlib** | **Plotly**                        |\n",
    "| ------------- | -------------- | --------------------------------- |\n",
    "| Type          | Static         | Interactive (zoom, hover, drag)   |\n",
    "| Output        | PNG, PDF, SVG  | HTML (web-ready, interactive)     |\n",
    "| Interactivity | Very limited   | Built-in, extensive interactivity |\n"
   ]
  },
  {
   "cell_type": "markdown",
   "id": "897b9932-cdf9-4411-aab9-deebc524d71e",
   "metadata": {},
   "source": [
    "2. Ease of Use and Syntax:\n",
    "\n",
    "| Aspect         | **Matplotlib**                         | **Plotly**                           |\n",
    "| -------------- | -------------------------------------- | ------------------------------------ |\n",
    "| Syntax style   | Low-level, more code for customization | Higher-level, cleaner for some tasks |\n",
    "| Learning curve | Steeper for beginners                  | Easier for modern-looking plots      |\n",
    "| Customization  | Very flexible, but verbose             | Easier for complex interactive plots |\n"
   ]
  },
  {
   "cell_type": "markdown",
   "id": "53dccfbc-3e70-4bb5-a0fd-19250ceaaf05",
   "metadata": {},
   "source": [
    "3. Visualization Capabilities:\n",
    "\n",
    "| Feature                | **Matplotlib**        | **Plotly**                    |\n",
    "| ---------------------- | --------------------- | ----------------------------- |\n",
    "| Basic charts           | ✅ Supported           | ✅ Supported                   |\n",
    "| 3D plotting            | ✅ With `mpl_toolkits` | ✅ More advanced and smoother  |\n",
    "| Interactive dashboards | ❌ Not native          | ✅ Excellent (works with Dash) |\n",
    "| Real-time updates      | ❌ Limited             | ✅ Good support                |\n",
    "| Hover tooltips         | ❌ Not built-in        | ✅ Built-in                    |\n"
   ]
  },
  {
   "cell_type": "markdown",
   "id": "1056acc7-e5d8-4dcb-ba1f-b3925eae5e33",
   "metadata": {},
   "source": [
    " 4. Use Cases:\n",
    "\n",
    "1)  Matplotlib:\n",
    "    - Academic research\n",
    "    - Static publications and print-ready figures\n",
    "    - Custom scientific plotting\n",
    "\n",
    "2) Plotly:\n",
    "    - Interactive web dashboards\n",
    "    - Business analytics tools\n",
    "    - Presentations and storytelling\n"
   ]
  },
  {
   "cell_type": "code",
   "execution_count": null,
   "id": "c99ed48a-2ddd-41d3-b8ee-dacf7d244300",
   "metadata": {},
   "outputs": [],
   "source": [
    "Example cases:"
   ]
  },
  {
   "cell_type": "markdown",
   "id": "bc8c3d73-eefc-4d0c-bdc8-c0ca8722c788",
   "metadata": {},
   "source": [
    "1. Matplotlib:"
   ]
  },
  {
   "cell_type": "code",
   "execution_count": 9,
   "id": "4e3eec71-c46a-48e9-b878-ce58fd5c610e",
   "metadata": {},
   "outputs": [
    {
     "data": {
      "image/png": "[encoded data removed]",
      "text/plain": [
       "<Figure size 640x480 with 1 Axes>"
      ]
     },
     "metadata": {},
     "output_type": "display_data"
    }
   ],
   "source": [
    "import matplotlib.pyplot as plt\n",
    "\n",
    "plt.plot([1, 2, 3], [4, 5, 6])\n",
    "plt.title(\"Matplotlib Plot\")\n",
    "plt.show()\n"
   ]
  },
  {
   "cell_type": "markdown",
   "id": "354bfa16-53ff-471a-9f93-c07a9c655f4d",
   "metadata": {},
   "source": [
    "2. Plotly:"
   ]
  },
  {
   "cell_type": "code",
   "execution_count": 15,
   "id": "e95af8fa-48eb-41a3-931a-eb27d82f02c8",
   "metadata": {},
   "outputs": [
    {
     "data": {
      "application/vnd.plotly.v1+json": {
       "config": {
        "plotlyServerURL": "https://plot.ly"
       },
       "data": [
        {
         "hovertemplate": "x=%{x}<br>y=%{y}<extra></extra>",
         "legendgroup": "",
         "line": {
          "color": "#636efa",
          "dash": "solid"
         },
         "marker": {
          "symbol": "circle"
         },
         "mode": "lines",
         "name": "",
         "orientation": "v",
         "showlegend": false,
         "type": "scatter",
         "x": {
          "bdata": "AQID",
          "dtype": "i1"
         },
         "xaxis": "x",
         "y": {
          "bdata": "BAUG",
          "dtype": "i1"
         },
         "yaxis": "y"
        }
       ],
       "layout": {
        "legend": {
         "tracegroupgap": 0
        },
        "template": {
         "data": {
          "bar": [
           {
            "error_x": {
             "color": "#2a3f5f"
            },
            "error_y": {
             "color": "#2a3f5f"
            },
            "marker": {
             "line": {
              "color": "#E5ECF6",
              "width": 0.5
             },
             "pattern": {
              "fillmode": "overlay",
              "size": 10,
              "solidity": 0.2
             }
            },
            "type": "bar"
           }
          ],
          "barpolar": [
           {
            "marker": {
             "line": {
              "color": "#E5ECF6",
              "width": 0.5
             },
             "pattern": {
              "fillmode": "overlay",
              "size": 10,
              "solidity": 0.2
             }
            },
            "type": "barpolar"
           }
          ],
          "carpet": [
           {
            "aaxis": {
             "endlinecolor": "#2a3f5f",
             "gridcolor": "white",
             "linecolor": "white",
             "minorgridcolor": "white",
             "startlinecolor": "#2a3f5f"
            },
            "baxis": {
             "endlinecolor": "#2a3f5f",
             "gridcolor": "white",
             "linecolor": "white",
             "minorgridcolor": "white",
             "startlinecolor": "#2a3f5f"
            },
            "type": "carpet"
           }
          ],
          "choropleth": [
           {
            "colorbar": {
             "outlinewidth": 0,
             "ticks": ""
            },
            "type": "choropleth"
           }
          ],
          "contour": [
           {
            "colorbar": {
             "outlinewidth": 0,
             "ticks": ""
            },
            "colorscale": [
             [
              0,
              "#0d0887"
             ],
             [
              0.1111111111111111,
              "#46039f"
             ],
             [
              0.2222222222222222,
              "#7201a8"
             ],
             [
              0.3333333333333333,
              "#9c179e"
             ],
             [
              0.4444444444444444,
              "#bd3786"
             ],
             [
              0.5555555555555556,
              "#d8576b"
             ],
             [
              0.6666666666666666,
              "#ed7953"
             ],
             [
              0.7777777777777778,
              "#fb9f3a"
             ],
             [
              0.8888888888888888,
              "#fdca26"
             ],
             [
              1,
              "#f0f921"
             ]
            ],
            "type": "contour"
           }
          ],
          "contourcarpet": [
           {
            "colorbar": {
             "outlinewidth": 0,
             "ticks": ""
            },
            "type": "contourcarpet"
           }
          ],
          "heatmap": [
           {
            "colorbar": {
             "outlinewidth": 0,
             "ticks": ""
            },
            "colorscale": [
             [
              0,
              "#0d0887"
             ],
             [
              0.1111111111111111,
              "#46039f"
             ],
             [
              0.2222222222222222,
              "#7201a8"
             ],
             [
              0.3333333333333333,
              "#9c179e"
             ],
             [
              0.4444444444444444,
              "#bd3786"
             ],
             [
              0.5555555555555556,
              "#d8576b"
             ],
             [
              0.6666666666666666,
              "#ed7953"
             ],
             [
              0.7777777777777778,
              "#fb9f3a"
             ],
             [
              0.8888888888888888,
              "#fdca26"
             ],
             [
              1,
              "#f0f921"
             ]
            ],
            "type": "heatmap"
           }
          ],
          "histogram": [
           {
            "marker": {
             "pattern": {
              "fillmode": "overlay",
              "size": 10,
              "solidity": 0.2
             }
            },
            "type": "histogram"
           }
          ],
          "histogram2d": [
           {
            "colorbar": {
             "outlinewidth": 0,
             "ticks": ""
            },
            "colorscale": [
             [
              0,
              "#0d0887"
             ],
             [
              0.1111111111111111,
              "#46039f"
             ],
             [
              0.2222222222222222,
              "#7201a8"
             ],
             [
              0.3333333333333333,
              "#9c179e"
             ],
             [
              0.4444444444444444,
              "#bd3786"
             ],
             [
              0.5555555555555556,
              "#d8576b"
             ],
             [
              0.6666666666666666,
              "#ed7953"
             ],
             [
              0.7777777777777778,
              "#fb9f3a"
             ],
             [
              0.8888888888888888,
              "#fdca26"
             ],
             [
              1,
              "#f0f921"
             ]
            ],
            "type": "histogram2d"
           }
          ],
          "histogram2dcontour": [
           {
            "colorbar": {
             "outlinewidth": 0,
             "ticks": ""
            },
            "colorscale": [
             [
              0,
              "#0d0887"
             ],
             [
              0.1111111111111111,
              "#46039f"
             ],
             [
              0.2222222222222222,
              "#7201a8"
             ],
             [
              0.3333333333333333,
              "#9c179e"
             ],
             [
              0.4444444444444444,
              "#bd3786"
             ],
             [
              0.5555555555555556,
              "#d8576b"
             ],
             [
              0.6666666666666666,
              "#ed7953"
             ],
             [
              0.7777777777777778,
              "#fb9f3a"
             ],
             [
              0.8888888888888888,
              "#fdca26"
             ],
             [
              1,
              "#f0f921"
             ]
            ],
            "type": "histogram2dcontour"
           }
          ],
          "mesh3d": [
           {
            "colorbar": {
             "outlinewidth": 0,
             "ticks": ""
            },
            "type": "mesh3d"
           }
          ],
          "parcoords": [
           {
            "line": {
             "colorbar": {
              "outlinewidth": 0,
              "ticks": ""
             }
            },
            "type": "parcoords"
           }
          ],
          "pie": [
           {
            "automargin": true,
            "type": "pie"
           }
          ],
          "scatter": [
           {
            "fillpattern": {
             "fillmode": "overlay",
             "size": 10,
             "solidity": 0.2
            },
            "type": "scatter"
           }
          ],
          "scatter3d": [
           {
            "line": {
             "colorbar": {
              "outlinewidth": 0,
              "ticks": ""
             }
            },
            "marker": {
             "colorbar": {
              "outlinewidth": 0,
              "ticks": ""
             }
            },
            "type": "scatter3d"
           }
          ],
          "scattercarpet": [
           {
            "marker": {
             "colorbar": {
              "outlinewidth": 0,
              "ticks": ""
             }
            },
            "type": "scattercarpet"
           }
          ],
          "scattergeo": [
           {
            "marker": {
             "colorbar": {
              "outlinewidth": 0,
              "ticks": ""
             }
            },
            "type": "scattergeo"
           }
          ],
          "scattergl": [
           {
            "marker": {
             "colorbar": {
              "outlinewidth": 0,
              "ticks": ""
             }
            },
            "type": "scattergl"
           }
          ],
          "scattermap": [
           {
            "marker": {
             "colorbar": {
              "outlinewidth": 0,
              "ticks": ""
             }
            },
            "type": "scattermap"
           }
          ],
          "scattermapbox": [
           {
            "marker": {
             "colorbar": {
              "outlinewidth": 0,
              "ticks": ""
             }
            },
            "type": "scattermapbox"
           }
          ],
          "scatterpolar": [
           {
            "marker": {
             "colorbar": {
              "outlinewidth": 0,
              "ticks": ""
             }
            },
            "type": "scatterpolar"
           }
          ],
          "scatterpolargl": [
           {
            "marker": {
             "colorbar": {
              "outlinewidth": 0,
              "ticks": ""
             }
            },
            "type": "scatterpolargl"
           }
          ],
          "scatterternary": [
           {
            "marker": {
             "colorbar": {
              "outlinewidth": 0,
              "ticks": ""
             }
            },
            "type": "scatterternary"
           }
          ],
          "surface": [
           {
            "colorbar": {
             "outlinewidth": 0,
             "ticks": ""
            },
            "colorscale": [
             [
              0,
              "#0d0887"
             ],
             [
              0.1111111111111111,
              "#46039f"
             ],
             [
              0.2222222222222222,
              "#7201a8"
             ],
             [
              0.3333333333333333,
              "#9c179e"
             ],
             [
              0.4444444444444444,
              "#bd3786"
             ],
             [
              0.5555555555555556,
              "#d8576b"
             ],
             [
              0.6666666666666666,
              "#ed7953"
             ],
             [
              0.7777777777777778,
              "#fb9f3a"
             ],
             [
              0.8888888888888888,
              "#fdca26"
             ],
             [
              1,
              "#f0f921"
             ]
            ],
            "type": "surface"
           }
          ],
          "table": [
           {
            "cells": {
             "fill": {
              "color": "#EBF0F8"
             },
             "line": {
              "color": "white"
             }
            },
            "header": {
             "fill": {
              "color": "#C8D4E3"
             },
             "line": {
              "color": "white"
             }
            },
            "type": "table"
           }
          ]
         },
         "layout": {
          "annotationdefaults": {
           "arrowcolor": "#2a3f5f",
           "arrowhead": 0,
           "arrowwidth": 1
          },
          "autotypenumbers": "strict",
          "coloraxis": {
           "colorbar": {
            "outlinewidth": 0,
            "ticks": ""
           }
          },
          "colorscale": {
           "diverging": [
            [
             0,
             "#8e0152"
            ],
            [
             0.1,
             "#c51b7d"
            ],
            [
             0.2,
             "#de77ae"
            ],
            [
             0.3,
             "#f1b6da"
            ],
            [
             0.4,
             "#fde0ef"
            ],
            [
             0.5,
             "#f7f7f7"
            ],
            [
             0.6,
             "#e6f5d0"
            ],
            [
             0.7,
             "#b8e186"
            ],
            [
             0.8,
             "#7fbc41"
            ],
            [
             0.9,
             "#4d9221"
            ],
            [
             1,
             "#276419"
            ]
           ],
           "sequential": [
            [
             0,
             "#0d0887"
            ],
            [
             0.1111111111111111,
             "#46039f"
            ],
            [
             0.2222222222222222,
             "#7201a8"
            ],
            [
             0.3333333333333333,
             "#9c179e"
            ],
            [
             0.4444444444444444,
             "#bd3786"
            ],
            [
             0.5555555555555556,
             "#d8576b"
            ],
            [
             0.6666666666666666,
             "#ed7953"
            ],
            [
             0.7777777777777778,
             "#fb9f3a"
            ],
            [
             0.8888888888888888,
             "#fdca26"
            ],
            [
             1,
             "#f0f921"
            ]
           ],
           "sequentialminus": [
            [
             0,
             "#0d0887"
            ],
            [
             0.1111111111111111,
             "#46039f"
            ],
            [
             0.2222222222222222,
             "#7201a8"
            ],
            [
             0.3333333333333333,
             "#9c179e"
            ],
            [
             0.4444444444444444,
             "#bd3786"
            ],
            [
             0.5555555555555556,
             "#d8576b"
            ],
            [
             0.6666666666666666,
             "#ed7953"
            ],
            [
             0.7777777777777778,
             "#fb9f3a"
            ],
            [
             0.8888888888888888,
             "#fdca26"
            ],
            [
             1,
             "#f0f921"
            ]
           ]
          },
          "colorway": [
           "#636efa",
           "#EF553B",
           "#00cc96",
           "#ab63fa",
           "#FFA15A",
           "#19d3f3",
           "#FF6692",
           "#B6E880",
           "#FF97FF",
           "#FECB52"
          ],
          "font": {
           "color": "#2a3f5f"
          },
          "geo": {
           "bgcolor": "white",
           "lakecolor": "white",
           "landcolor": "#E5ECF6",
           "showlakes": true,
           "showland": true,
           "subunitcolor": "white"
          },
          "hoverlabel": {
           "align": "left"
          },
          "hovermode": "closest",
          "mapbox": {
           "style": "light"
          },
          "paper_bgcolor": "white",
          "plot_bgcolor": "#E5ECF6",
          "polar": {
           "angularaxis": {
            "gridcolor": "white",
            "linecolor": "white",
            "ticks": ""
           },
           "bgcolor": "#E5ECF6",
           "radialaxis": {
            "gridcolor": "white",
            "linecolor": "white",
            "ticks": ""
           }
          },
          "scene": {
           "xaxis": {
            "backgroundcolor": "#E5ECF6",
            "gridcolor": "white",
            "gridwidth": 2,
            "linecolor": "white",
            "showbackground": true,
            "ticks": "",
            "zerolinecolor": "white"
           },
           "yaxis": {
            "backgroundcolor": "#E5ECF6",
            "gridcolor": "white",
            "gridwidth": 2,
            "linecolor": "white",
            "showbackground": true,
            "ticks": "",
            "zerolinecolor": "white"
           },
           "zaxis": {
            "backgroundcolor": "#E5ECF6",
            "gridcolor": "white",
            "gridwidth": 2,
            "linecolor": "white",
            "showbackground": true,
            "ticks": "",
            "zerolinecolor": "white"
           }
          },
          "shapedefaults": {
           "line": {
            "color": "#2a3f5f"
           }
          },
          "ternary": {
           "aaxis": {
            "gridcolor": "white",
            "linecolor": "white",
            "ticks": ""
           },
           "baxis": {
            "gridcolor": "white",
            "linecolor": "white",
            "ticks": ""
           },
           "bgcolor": "#E5ECF6",
           "caxis": {
            "gridcolor": "white",
            "linecolor": "white",
            "ticks": ""
           }
          },
          "title": {
           "x": 0.05
          },
          "xaxis": {
           "automargin": true,
           "gridcolor": "white",
           "linecolor": "white",
           "ticks": "",
           "title": {
            "standoff": 15
           },
           "zerolinecolor": "white",
           "zerolinewidth": 2
          },
          "yaxis": {
           "automargin": true,
           "gridcolor": "white",
           "linecolor": "white",
           "ticks": "",
           "title": {
            "standoff": 15
           },
           "zerolinecolor": "white",
           "zerolinewidth": 2
          }
         }
        },
        "title": {
         "text": "Plotly Plot"
        },
        "xaxis": {
         "anchor": "y",
         "domain": [
          0,
          1
         ],
         "title": {
          "text": "x"
         }
        },
        "yaxis": {
         "anchor": "x",
         "domain": [
          0,
          1
         ],
         "title": {
          "text": "y"
         }
        }
       }
      }
     },
     "metadata": {},
     "output_type": "display_data"
    }
   ],
   "source": [
    "import plotly.express as px\n",
    "\n",
    "fig = px.line(x=[1, 2, 3], y=[4, 5, 6], title=\"Plotly Plot\")\n",
    "fig.show()\n"
   ]
  },
  {
   "cell_type": "markdown",
   "id": "0f047899-cf41-44dc-b119-bd49c2e3bed2",
   "metadata": {},
   "source": [
    "Summary :\n",
    "\n",
    "\n",
    "| Category       | **Matplotlib**           | **Plotly**                |\n",
    "| -------------- | ------------------------ | ------------------------- |\n",
    "| Interactivity  | ❌ Static                 | ✅ Interactive             |\n",
    "| Output Style   | Print-ready              | Web-ready                 |\n",
    "| Learning Curve | Steeper                  | Smoother for basic tasks  |\n",
    "| Best For       | Scientific plots, papers | Dashboards, presentations |\n"
   ]
  },
  {
   "cell_type": "markdown",
   "id": "277d0fd9-c06c-4f05-96b5-6785b6e53f2e",
   "metadata": {},
   "source": [
    "**Q 10.  What is the significance of hierarchical indexing in Pandas?**"
   ]
  },
  {
   "cell_type": "markdown",
   "id": "48024d63-ba34-4eb3-96ae-78d0544afa45",
   "metadata": {},
   "source": [
    "**Ans.** Hierarchical indexing (also known as multi-level indexing) in Pandas allows you to work with higher-dimensional data in a lower-dimensional (2D) DataFrame or Series. It enables more powerful and flexible data organization, selection, and aggregation.\n",
    "\n",
    "> Hierarchical Indexing: \n",
    "\n",
    "It means having multiple index levels (layers) on rows or columns.\n",
    "This turns a regular index into a MultiIndex, which can represent complex relationships between data points.\n"
   ]
  },
  {
   "cell_type": "code",
   "execution_count": 16,
   "id": "36524c79-8e6d-4751-be30-88a9b0a5393b",
   "metadata": {},
   "outputs": [
    {
     "name": "stdout",
     "output_type": "stream",
     "text": [
      "Region1  ProductA    100\n",
      "         ProductB    200\n",
      "Region2  ProductA    300\n",
      "         ProductB    400\n",
      "dtype: int64\n"
     ]
    }
   ],
   "source": [
    "# Example: \n",
    "\n",
    "import pandas as pd\n",
    "\n",
    "# Creating a multi-level index DataFrame\n",
    "data = pd.Series(\n",
    "    [100, 200, 300, 400],\n",
    "    index=[['Region1', 'Region1', 'Region2', 'Region2'],\n",
    "           ['ProductA', 'ProductB', 'ProductA', 'ProductB']]\n",
    ")\n",
    "\n",
    "print(data)\n"
   ]
  },
  {
   "cell_type": "markdown",
   "id": "85af0284-5c65-4e9d-9911-7e6981963db6",
   "metadata": {},
   "source": [
    "Hierarchical Indexing is Significant:\n",
    "\n",
    "1. Improved Data Representation:\n",
    "    - Lets you naturally model multi-dimensional data in tabular form.\n",
    "    - Useful for time series with multiple levels (e.g., country → city → date).\n",
    "2. Advanced Data Selection: Use .loc[] or .xs() to select data at any level."
   ]
  },
  {
   "cell_type": "code",
   "execution_count": 17,
   "id": "f9cdf4a8-7690-45c9-a422-d7c18008ea7b",
   "metadata": {},
   "outputs": [
    {
     "data": {
      "text/plain": [
       "np.int64(300)"
      ]
     },
     "execution_count": 17,
     "metadata": {},
     "output_type": "execute_result"
    }
   ],
   "source": [
    "data.loc['Region1']           # All products in Region1\n",
    "data.loc[('Region2', 'ProductA')]  # Specific entry\n"
   ]
  },
  {
   "cell_type": "markdown",
   "id": "de584fc4-c3ad-43b7-acfa-b3f79f8c37f5",
   "metadata": {},
   "source": [
    "3. GroupBy and Aggregation: Makes grouping and summarizing by multiple keys easy.\n"
   ]
  },
  {
   "cell_type": "markdown",
   "id": "f4a65555-28ee-4cad-9d0c-60ced78972aa",
   "metadata": {},
   "source": [
    "df.groupby(['Region', 'Product']).sum()\n"
   ]
  },
  {
   "cell_type": "markdown",
   "id": "ee5b3307-4113-4b65-8af3-7cef27370a86",
   "metadata": {},
   "source": [
    "4. Pivoting and Reshaping:  Essential for using .stack(), .unstack(), .melt(), and .pivot_table() for reshaping data.\n",
    "\n",
    "5. Labeling Complex Datasets: Ideal for financial data (e.g., multi-year, multi-company, multi-metric datasets) and multi-category surveys."
   ]
  },
  {
   "cell_type": "markdown",
   "id": "886ebc53-5161-4868-816e-c0e99ecaabde",
   "metadata": {},
   "source": [
    "**Q 11.  What is the role of Seaborn’s pairplot() function?** "
   ]
  },
  {
   "cell_type": "markdown",
   "id": "c9067b22-6b15-4c91-be13-3e74ec5bbf24",
   "metadata": {},
   "source": [
    "**Ans.** The **seaborn.pairplot()** function is a powerful tool in data exploration and visualization. It creates a matrix of scatter plots (and histograms or KDE plots on the diagonal) to show pairwise relationships between variables in a DataFrame."
   ]
  },
  {
   "cell_type": "markdown",
   "id": "b3bdf88c-00f7-4923-9cba-a00d27eeb02c",
   "metadata": {},
   "source": [
    "Purpose of pairplot():\n",
    "1. To visually explore relationships between multiple numerical variables.\n",
    "2. To identify correlations, clusters, outliers, or patterns across features.\n",
    "3. Often used in exploratory data analysis (EDA) before modeling.\n"
   ]
  },
  {
   "cell_type": "markdown",
   "id": "6ecb77a5-f630-481f-b8a2-dba8f60281dc",
   "metadata": {},
   "source": [
    "Key Features:\n",
    "1. Shows scatter plots for each pair of variables.\n",
    "2. Diagonal shows distribution of each variable (histogram or KDE).\n",
    "3. Supports color-coding by category (hue parameter).\n",
    "4. Optionally adds regression lines, custom styling, and subset selection."
   ]
  },
  {
   "cell_type": "code",
   "execution_count": 19,
   "id": "d5fbcc04-cfad-4795-934f-20c2d1f0dd6f",
   "metadata": {},
   "outputs": [
    {
     "data": {
      "image/png": "[encoded data removed]",
      "text/plain": [
       "<Figure size 1117.75x1000 with 20 Axes>"
      ]
     },
     "metadata": {},
     "output_type": "display_data"
    }
   ],
   "source": [
    "# Example: \n",
    "\n",
    "\n",
    "import seaborn as sns\n",
    "import matplotlib.pyplot as plt\n",
    "\n",
    "# Load built-in dataset\n",
    "df = sns.load_dataset('iris')\n",
    "\n",
    "# Create pairplot\n",
    "sns.pairplot(df, hue='species')  # Color points by species\n",
    "plt.show()\n"
   ]
  },
  {
   "cell_type": "markdown",
   "id": "1cba1001-219f-4147-9fa8-ce03bbf5f5b1",
   "metadata": {},
   "source": [
    "This will generate a 4×4 grid of plots showing relationships between sepal/petal length and width, colored by iris species."
   ]
  },
  {
   "cell_type": "markdown",
   "id": "a7de6e5f-aa57-42f9-8605-0532f05b0111",
   "metadata": {},
   "source": [
    "Common Parameters:\n",
    "\n",
    "| Parameter   | Purpose                                         |\n",
    "| ----------- | ----------------------------------------------- |\n",
    "| `data`      | The DataFrame to plot                           |\n",
    "| `hue`       | Categorical variable for color grouping         |\n",
    "| `kind`      | `'scatter'` (default) or `'reg'` for regression |\n",
    "| `diag_kind` | `'hist'` or `'kde'` for diagonal plots          |\n",
    "| `corner`    | If `True`, removes upper triangle               |\n"
   ]
  },
  {
   "cell_type": "markdown",
   "id": "f03ecc9d-1c54-47f0-b668-a2cc0cd317cf",
   "metadata": {},
   "source": [
    "When to Use pairplot():\n",
    "1. When you want a quick overview of all pairwise variable relationships.\n",
    "2. During EDA to detect trends or potential features for ML models.\n",
    "3. To visualize class separation in classification problems."
   ]
  },
  {
   "cell_type": "markdown",
   "id": "e6b8886c-dc5a-49f3-9baf-9f89b77b5eff",
   "metadata": {},
   "source": [
    "Limitations:\n",
    "1. Not suitable for large datasets (can be slow or cluttered).\n",
    "2. Only works well with numeric variables.\n"
   ]
  },
  {
   "cell_type": "markdown",
   "id": "8668613e-5928-4a04-a9c9-129d46e03c7b",
   "metadata": {},
   "source": [
    "**Q 12. What is the purpose of the describe() function in Pandas?**"
   ]
  },
  {
   "cell_type": "markdown",
   "id": "35e45cf7-76dd-4f1f-8f0a-d7f4f80db0e7",
   "metadata": {},
   "source": [
    "**Ans.** The **describe()** function in Pandas is used to generate descriptive statistics of a DataFrame or Series, providing a quick summary of the central tendency, dispersion, and shape of the dataset's distribution.\n"
   ]
  },
  {
   "cell_type": "markdown",
   "id": "b628cdab-ca4f-4317-b53a-b83e59c2f2fc",
   "metadata": {},
   "source": [
    "Purpose of describe():\n",
    "- To give a quick statistical summary of your data, especially useful for exploratory data analysis (EDA)."
   ]
  },
  {
   "cell_type": "markdown",
   "id": "103a76b1-b89a-4842-928c-9f2d1582989f",
   "metadata": {},
   "source": [
    "What It Shows (for Numeric Columns by Default):\n",
    "- When called on a DataFrame:"
   ]
  },
  {
   "cell_type": "code",
   "execution_count": 21,
   "id": "e0fb2c53-aec2-4eec-b28c-f978e3c025b7",
   "metadata": {},
   "outputs": [
    {
     "name": "stdout",
     "output_type": "stream",
     "text": [
      "              Sales\n",
      "count      5.000000\n",
      "mean    6500.000000\n",
      "std     7546.191092\n",
      "min      300.000000\n",
      "25%     1200.000000\n",
      "50%     1500.000000\n",
      "75%    14500.000000\n",
      "max    15000.000000\n"
     ]
    }
   ],
   "source": [
    "import pandas as pd\n",
    "\n",
    "df = pd.read_csv(\"data.csv\")\n",
    "print(df.describe())\n"
   ]
  },
  {
   "cell_type": "markdown",
   "id": "6b59acc9-276e-4852-a10a-ec7979f6f7cc",
   "metadata": {},
   "source": [
    " What Each Value Means:\n",
    "\n",
    " | Statistic | Description                                      |\n",
    "| --------- | ------------------------------------------------ |\n",
    "| `count`   | Number of non-null values                        |\n",
    "| `mean`    | Average value                                    |\n",
    "| `std`     | Standard deviation (spread of data)              |\n",
    "| `min`     | Minimum value                                    |\n",
    "| `25%`     | 1st quartile (Q1) – 25% of values are below this |\n",
    "| `50%`     | Median (Q2)                                      |\n",
    "| `75%`     | 3rd quartile (Q3) – 75% of values are below this |\n",
    "| `max`     | Maximum value                                    |\n"
   ]
  },
  {
   "cell_type": "markdown",
   "id": "6ef37572-3e49-4c9c-9a01-082328bc73c5",
   "metadata": {},
   "source": [
    "> Options and Usage Variations:"
   ]
  },
  {
   "cell_type": "markdown",
   "id": "498d7915-27a3-4547-bd4a-0fe3b75a2e46",
   "metadata": {},
   "source": [
    "1. Include all columns (including categorical):\n"
   ]
  },
  {
   "cell_type": "code",
   "execution_count": 22,
   "id": "cd467213-2dc5-4e34-9669-8edfcc72e131",
   "metadata": {},
   "outputs": [
    {
     "data": {
      "text/html": [
       "<div>\n",
       "<style scoped>\n",
       "    .dataframe tbody tr th:only-of-type {\n",
       "        vertical-align: middle;\n",
       "    }\n",
       "\n",
       "    .dataframe tbody tr th {\n",
       "        vertical-align: top;\n",
       "    }\n",
       "\n",
       "    .dataframe thead th {\n",
       "        text-align: right;\n",
       "    }\n",
       "</style>\n",
       "<table border=\"1\" class=\"dataframe\">\n",
       "  <thead>\n",
       "    <tr style=\"text-align: right;\">\n",
       "      <th></th>\n",
       "      <th>Product</th>\n",
       "      <th>Sales</th>\n",
       "      <th>Region</th>\n",
       "    </tr>\n",
       "  </thead>\n",
       "  <tbody>\n",
       "    <tr>\n",
       "      <th>count</th>\n",
       "      <td>5</td>\n",
       "      <td>5.000000</td>\n",
       "      <td>5</td>\n",
       "    </tr>\n",
       "    <tr>\n",
       "      <th>unique</th>\n",
       "      <td>5</td>\n",
       "      <td>NaN</td>\n",
       "      <td>4</td>\n",
       "    </tr>\n",
       "    <tr>\n",
       "      <th>top</th>\n",
       "      <td>Laptop</td>\n",
       "      <td>NaN</td>\n",
       "      <td>North</td>\n",
       "    </tr>\n",
       "    <tr>\n",
       "      <th>freq</th>\n",
       "      <td>1</td>\n",
       "      <td>NaN</td>\n",
       "      <td>2</td>\n",
       "    </tr>\n",
       "    <tr>\n",
       "      <th>mean</th>\n",
       "      <td>NaN</td>\n",
       "      <td>6500.000000</td>\n",
       "      <td>NaN</td>\n",
       "    </tr>\n",
       "    <tr>\n",
       "      <th>std</th>\n",
       "      <td>NaN</td>\n",
       "      <td>7546.191092</td>\n",
       "      <td>NaN</td>\n",
       "    </tr>\n",
       "    <tr>\n",
       "      <th>min</th>\n",
       "      <td>NaN</td>\n",
       "      <td>300.000000</td>\n",
       "      <td>NaN</td>\n",
       "    </tr>\n",
       "    <tr>\n",
       "      <th>25%</th>\n",
       "      <td>NaN</td>\n",
       "      <td>1200.000000</td>\n",
       "      <td>NaN</td>\n",
       "    </tr>\n",
       "    <tr>\n",
       "      <th>50%</th>\n",
       "      <td>NaN</td>\n",
       "      <td>1500.000000</td>\n",
       "      <td>NaN</td>\n",
       "    </tr>\n",
       "    <tr>\n",
       "      <th>75%</th>\n",
       "      <td>NaN</td>\n",
       "      <td>14500.000000</td>\n",
       "      <td>NaN</td>\n",
       "    </tr>\n",
       "    <tr>\n",
       "      <th>max</th>\n",
       "      <td>NaN</td>\n",
       "      <td>15000.000000</td>\n",
       "      <td>NaN</td>\n",
       "    </tr>\n",
       "  </tbody>\n",
       "</table>\n",
       "</div>"
      ],
      "text/plain": [
       "       Product         Sales Region\n",
       "count        5      5.000000      5\n",
       "unique       5           NaN      4\n",
       "top     Laptop           NaN  North\n",
       "freq         1           NaN      2\n",
       "mean       NaN   6500.000000    NaN\n",
       "std        NaN   7546.191092    NaN\n",
       "min        NaN    300.000000    NaN\n",
       "25%        NaN   1200.000000    NaN\n",
       "50%        NaN   1500.000000    NaN\n",
       "75%        NaN  14500.000000    NaN\n",
       "max        NaN  15000.000000    NaN"
      ]
     },
     "execution_count": 22,
     "metadata": {},
     "output_type": "execute_result"
    }
   ],
   "source": [
    "df.describe(include='all')\n"
   ]
  },
  {
   "cell_type": "markdown",
   "id": "0c894c1e-4d7c-41b7-a23e-7f16d1882da0",
   "metadata": {},
   "source": [
    "2. Only categorical (object) data:"
   ]
  },
  {
   "cell_type": "code",
   "execution_count": 23,
   "id": "f0d60ea4-1836-422b-a0ac-65e8ff9359fa",
   "metadata": {},
   "outputs": [
    {
     "data": {
      "text/html": [
       "<div>\n",
       "<style scoped>\n",
       "    .dataframe tbody tr th:only-of-type {\n",
       "        vertical-align: middle;\n",
       "    }\n",
       "\n",
       "    .dataframe tbody tr th {\n",
       "        vertical-align: top;\n",
       "    }\n",
       "\n",
       "    .dataframe thead th {\n",
       "        text-align: right;\n",
       "    }\n",
       "</style>\n",
       "<table border=\"1\" class=\"dataframe\">\n",
       "  <thead>\n",
       "    <tr style=\"text-align: right;\">\n",
       "      <th></th>\n",
       "      <th>Product</th>\n",
       "      <th>Region</th>\n",
       "    </tr>\n",
       "  </thead>\n",
       "  <tbody>\n",
       "    <tr>\n",
       "      <th>count</th>\n",
       "      <td>5</td>\n",
       "      <td>5</td>\n",
       "    </tr>\n",
       "    <tr>\n",
       "      <th>unique</th>\n",
       "      <td>5</td>\n",
       "      <td>4</td>\n",
       "    </tr>\n",
       "    <tr>\n",
       "      <th>top</th>\n",
       "      <td>Laptop</td>\n",
       "      <td>North</td>\n",
       "    </tr>\n",
       "    <tr>\n",
       "      <th>freq</th>\n",
       "      <td>1</td>\n",
       "      <td>2</td>\n",
       "    </tr>\n",
       "  </tbody>\n",
       "</table>\n",
       "</div>"
      ],
      "text/plain": [
       "       Product Region\n",
       "count        5      5\n",
       "unique       5      4\n",
       "top     Laptop  North\n",
       "freq         1      2"
      ]
     },
     "execution_count": 23,
     "metadata": {},
     "output_type": "execute_result"
    }
   ],
   "source": [
    "df.describe(include=['object'])\n"
   ]
  },
  {
   "cell_type": "markdown",
   "id": "bec1cf21-bddb-4102-90b6-0dce15e1d662",
   "metadata": {},
   "source": [
    "3. Specify data types to include or exclude:"
   ]
  },
  {
   "cell_type": "markdown",
   "id": "6883f234-b9a2-42de-8370-8cd18cb46013",
   "metadata": {},
   "source": [
    "df.describe(include=[float], exclude=[int])\n"
   ]
  },
  {
   "cell_type": "markdown",
   "id": "249c7314-6a62-4383-aa94-361105146eb4",
   "metadata": {},
   "source": [
    "Example with Categorical Columns:"
   ]
  },
  {
   "cell_type": "code",
   "execution_count": 33,
   "id": "4af11d06-adb4-47e0-8799-be9cd5734542",
   "metadata": {},
   "outputs": [
    {
     "data": {
      "text/html": [
       "<div>\n",
       "<style scoped>\n",
       "    .dataframe tbody tr th:only-of-type {\n",
       "        vertical-align: middle;\n",
       "    }\n",
       "\n",
       "    .dataframe tbody tr th {\n",
       "        vertical-align: top;\n",
       "    }\n",
       "\n",
       "    .dataframe thead th {\n",
       "        text-align: right;\n",
       "    }\n",
       "</style>\n",
       "<table border=\"1\" class=\"dataframe\">\n",
       "  <thead>\n",
       "    <tr style=\"text-align: right;\">\n",
       "      <th></th>\n",
       "      <th>Name</th>\n",
       "    </tr>\n",
       "  </thead>\n",
       "  <tbody>\n",
       "    <tr>\n",
       "      <th>count</th>\n",
       "      <td>4</td>\n",
       "    </tr>\n",
       "    <tr>\n",
       "      <th>unique</th>\n",
       "      <td>3</td>\n",
       "    </tr>\n",
       "    <tr>\n",
       "      <th>top</th>\n",
       "      <td>Alice</td>\n",
       "    </tr>\n",
       "    <tr>\n",
       "      <th>freq</th>\n",
       "      <td>2</td>\n",
       "    </tr>\n",
       "  </tbody>\n",
       "</table>\n",
       "</div>"
      ],
      "text/plain": [
       "         Name\n",
       "count       4\n",
       "unique      3\n",
       "top     Alice\n",
       "freq        2"
      ]
     },
     "execution_count": 33,
     "metadata": {},
     "output_type": "execute_result"
    }
   ],
   "source": [
    "df = pd.DataFrame({\n",
    "    'Name': ['Alice', 'Bob', 'Alice', 'David'],\n",
    "    'Score': [90, 85, 88, 95]\n",
    "})\n",
    "\n",
    "df.describe(include='object')\n"
   ]
  },
  {
   "cell_type": "markdown",
   "id": "c3162baf-1293-497c-b7bb-f2615c6adbc3",
   "metadata": {},
   "source": [
    "**Q 13.  Why is handling missing data important in Pandas?**"
   ]
  },
  {
   "cell_type": "markdown",
   "id": "00c31198-a1b2-4e09-a4b0-e460c395be2e",
   "metadata": {},
   "source": [
    "**Ans.** Handling missing data in Pandas is crucial because unaddressed missing values can lead to:\n",
    "\n",
    "- Incorrect analyses\n",
    "- Errors in computations\n",
    "- Poor model performance in machine learning"
   ]
  },
  {
   "cell_type": "code",
   "execution_count": null,
   "id": "516e6e94-c070-47be-b2f8-21acf42e8b31",
   "metadata": {},
   "outputs": [],
   "source": [
    "Why Is It Important:"
   ]
  },
  {
   "cell_type": "markdown",
   "id": "37e78913-f519-48c4-b8e9-2a2523455b34",
   "metadata": {},
   "source": [
    "1. Missing Data Can Break Code: Many functions (like .mean(), .sum(), or ML algorithms) may:\n",
    "    - Return NaN\n",
    "    - Raise errors\n",
    "    - Produce incomplete or incorrect results"
   ]
  },
  {
   "cell_type": "markdown",
   "id": "0a1013cb-48e7-4186-8a5d-fc1eb9b02127",
   "metadata": {},
   "source": [
    "2. Preserves Data Integrity: Proper handling ensures:\n",
    "    - You don't draw false conclusions\n",
    "    - Your dataset represents reality more accurately"
   ]
  },
  {
   "cell_type": "markdown",
   "id": "6571f6e8-b62c-4646-9dca-5c1524429879",
   "metadata": {},
   "source": [
    "3. Improves Model Accuracy: Most ML models can’t handle missing data directly, and missing features can:\n",
    "    - Reduce predictive power\n",
    "    - Bias results if not handled properly"
   ]
  },
  {
   "cell_type": "markdown",
   "id": "b443170a-7c9c-406c-9d8c-a639599235fc",
   "metadata": {},
   "source": [
    "How Pandas Helps Handle Missing Data\n",
    "\n",
    "| Method             | Purpose                                       |\n",
    "| ------------------ | --------------------------------------------- |\n",
    "| `df.isnull()`      | Detect missing values                         |\n",
    "| `df.notnull()`     | Detect non-missing values                     |\n",
    "| `df.dropna()`      | Remove missing values                         |\n",
    "| `df.fillna(value)` | Fill missing values with a specific value     |\n",
    "| `df.interpolate()` | Fill missing values using interpolation       |\n",
    "| `df.replace()`     | Replace missing values with a rule or mapping |\n"
   ]
  },
  {
   "cell_type": "markdown",
   "id": "11ce696c-01af-4fef-86f6-7f4470f00233",
   "metadata": {},
   "source": [
    "**Example:**"
   ]
  },
  {
   "cell_type": "code",
   "execution_count": 36,
   "id": "cd51365d-5909-4ed7-8b08-b789be547f2d",
   "metadata": {
    "scrolled": true
   },
   "outputs": [
    {
     "name": "stdout",
     "output_type": "stream",
     "text": [
      "    Name  Score\n",
      "0  False  False\n",
      "1  False   True\n",
      "2  False  False\n",
      "3   True  False\n"
     ]
    }
   ],
   "source": [
    "import pandas as pd\n",
    "import numpy as np\n",
    "\n",
    "df = pd.DataFrame({\n",
    "    'Name': ['Alice', 'Bob', 'Charlie', None],\n",
    "    'Score': [90, np.nan, 85, 88]\n",
    "})\n",
    "\n",
    "print(df.isnull())\n",
    "\n",
    "# Corrected: Fill missing score with mean\n",
    "df['Score'] = df['Score'].fillna(df['Score'].mean())\n",
    "\n",
    "# Drop rows with missing name\n",
    "df.dropna(subset=['Name'], inplace=True)\n"
   ]
  },
  {
   "cell_type": "markdown",
   "id": "d3d21058-d7df-408e-a3a8-457d9eb19c6f",
   "metadata": {},
   "source": [
    " Key Scenarios to Handle Missing Data:\n",
    "\n",
    " | Situation                          | Common Strategy                  |\n",
    "| ---------------------------------- | -------------------------------- |\n",
    "| Few missing rows                   | Drop them (`dropna`)             |\n",
    "| Missing values are random          | Fill with mean/median/mode       |\n",
    "| Based on time series               | Use `interpolate()`              |\n",
    "| Missing values indicate a category | Fill with `'Unknown'` or similar |\n"
   ]
  },
  {
   "cell_type": "markdown",
   "id": "f342ea01-fd60-42e5-9882-a92ca883ea71",
   "metadata": {},
   "source": [
    "**Q 14. What are the benefits of using Plotly for data visualization?**"
   ]
  },
  {
   "cell_type": "markdown",
   "id": "ca1afbd2-2341-4ed4-9fd5-c79bb8cdc310",
   "metadata": {},
   "source": [
    "**Ans.** Plotly is a popular Python library for creating interactive, web-ready data visualizations. It offers several advantages over traditional static plotting libraries like Matplotlib."
   ]
  },
  {
   "cell_type": "code",
   "execution_count": null,
   "id": "1421e338-6980-4490-973f-c2560d513eae",
   "metadata": {},
   "outputs": [],
   "source": [
    "Key Benefits of Using Plotly:"
   ]
  },
  {
   "cell_type": "markdown",
   "id": "0c634af1-fb4d-492c-bbf2-abaa0555cc04",
   "metadata": {},
   "source": [
    "1. Interactive Visualizations:\n",
    "    - Built-in interactivity: hover tooltips, zoom, pan, drag, select.\n",
    "    - Great for exploratory data analysis and user-facing dashboards."
   ]
  },
  {
   "cell_type": "code",
   "execution_count": 44,
   "id": "fd67105e-231d-4d23-ba97-a3d2bb5407f6",
   "metadata": {},
   "outputs": [],
   "source": [
    "import pandas as pd\n",
    "import plotly.express as px\n",
    "\n",
    "# Sample DataFrame with columns: x, y, category\n",
    "df = pd.DataFrame({\n",
    "    'x': [1, 2, 3, 4, 5],\n",
    "    'y': [10, 15, 13, 17, 12],\n",
    "    'category': ['A', 'B', 'A', 'B', 'C']\n",
    "})"
   ]
  },
  {
   "cell_type": "code",
   "execution_count": 45,
   "id": "c2554bfa-a8f4-447e-a08e-aec4cf0072b7",
   "metadata": {},
   "outputs": [
    {
     "data": {
      "application/vnd.plotly.v1+json": {
       "config": {
        "plotlyServerURL": "https://plot.ly"
       },
       "data": [
        {
         "hovertemplate": "category=A<br>x=%{x}<br>y=%{y}<extra></extra>",
         "legendgroup": "A",
         "marker": {
          "color": "#636efa",
          "symbol": "circle"
         },
         "mode": "markers",
         "name": "A",
         "orientation": "v",
         "showlegend": true,
         "type": "scatter",
         "x": {
          "bdata": "AQM=",
          "dtype": "i1"
         },
         "xaxis": "x",
         "y": {
          "bdata": "Cg0=",
          "dtype": "i1"
         },
         "yaxis": "y"
        },
        {
         "hovertemplate": "category=B<br>x=%{x}<br>y=%{y}<extra></extra>",
         "legendgroup": "B",
         "marker": {
          "color": "#EF553B",
          "symbol": "circle"
         },
         "mode": "markers",
         "name": "B",
         "orientation": "v",
         "showlegend": true,
         "type": "scatter",
         "x": {
          "bdata": "AgQ=",
          "dtype": "i1"
         },
         "xaxis": "x",
         "y": {
          "bdata": "DxE=",
          "dtype": "i1"
         },
         "yaxis": "y"
        },
        {
         "hovertemplate": "category=C<br>x=%{x}<br>y=%{y}<extra></extra>",
         "legendgroup": "C",
         "marker": {
          "color": "#00cc96",
          "symbol": "circle"
         },
         "mode": "markers",
         "name": "C",
         "orientation": "v",
         "showlegend": true,
         "type": "scatter",
         "x": {
          "bdata": "BQ==",
          "dtype": "i1"
         },
         "xaxis": "x",
         "y": {
          "bdata": "DA==",
          "dtype": "i1"
         },
         "yaxis": "y"
        }
       ],
       "layout": {
        "legend": {
         "title": {
          "text": "category"
         },
         "tracegroupgap": 0
        },
        "margin": {
         "t": 60
        },
        "template": {
         "data": {
          "bar": [
           {
            "error_x": {
             "color": "#2a3f5f"
            },
            "error_y": {
             "color": "#2a3f5f"
            },
            "marker": {
             "line": {
              "color": "#E5ECF6",
              "width": 0.5
             },
             "pattern": {
              "fillmode": "overlay",
              "size": 10,
              "solidity": 0.2
             }
            },
            "type": "bar"
           }
          ],
          "barpolar": [
           {
            "marker": {
             "line": {
              "color": "#E5ECF6",
              "width": 0.5
             },
             "pattern": {
              "fillmode": "overlay",
              "size": 10,
              "solidity": 0.2
             }
            },
            "type": "barpolar"
           }
          ],
          "carpet": [
           {
            "aaxis": {
             "endlinecolor": "#2a3f5f",
             "gridcolor": "white",
             "linecolor": "white",
             "minorgridcolor": "white",
             "startlinecolor": "#2a3f5f"
            },
            "baxis": {
             "endlinecolor": "#2a3f5f",
             "gridcolor": "white",
             "linecolor": "white",
             "minorgridcolor": "white",
             "startlinecolor": "#2a3f5f"
            },
            "type": "carpet"
           }
          ],
          "choropleth": [
           {
            "colorbar": {
             "outlinewidth": 0,
             "ticks": ""
            },
            "type": "choropleth"
           }
          ],
          "contour": [
           {
            "colorbar": {
             "outlinewidth": 0,
             "ticks": ""
            },
            "colorscale": [
             [
              0,
              "#0d0887"
             ],
             [
              0.1111111111111111,
              "#46039f"
             ],
             [
              0.2222222222222222,
              "#7201a8"
             ],
             [
              0.3333333333333333,
              "#9c179e"
             ],
             [
              0.4444444444444444,
              "#bd3786"
             ],
             [
              0.5555555555555556,
              "#d8576b"
             ],
             [
              0.6666666666666666,
              "#ed7953"
             ],
             [
              0.7777777777777778,
              "#fb9f3a"
             ],
             [
              0.8888888888888888,
              "#fdca26"
             ],
             [
              1,
              "#f0f921"
             ]
            ],
            "type": "contour"
           }
          ],
          "contourcarpet": [
           {
            "colorbar": {
             "outlinewidth": 0,
             "ticks": ""
            },
            "type": "contourcarpet"
           }
          ],
          "heatmap": [
           {
            "colorbar": {
             "outlinewidth": 0,
             "ticks": ""
            },
            "colorscale": [
             [
              0,
              "#0d0887"
             ],
             [
              0.1111111111111111,
              "#46039f"
             ],
             [
              0.2222222222222222,
              "#7201a8"
             ],
             [
              0.3333333333333333,
              "#9c179e"
             ],
             [
              0.4444444444444444,
              "#bd3786"
             ],
             [
              0.5555555555555556,
              "#d8576b"
             ],
             [
              0.6666666666666666,
              "#ed7953"
             ],
             [
              0.7777777777777778,
              "#fb9f3a"
             ],
             [
              0.8888888888888888,
              "#fdca26"
             ],
             [
              1,
              "#f0f921"
             ]
            ],
            "type": "heatmap"
           }
          ],
          "histogram": [
           {
            "marker": {
             "pattern": {
              "fillmode": "overlay",
              "size": 10,
              "solidity": 0.2
             }
            },
            "type": "histogram"
           }
          ],
          "histogram2d": [
           {
            "colorbar": {
             "outlinewidth": 0,
             "ticks": ""
            },
            "colorscale": [
             [
              0,
              "#0d0887"
             ],
             [
              0.1111111111111111,
              "#46039f"
             ],
             [
              0.2222222222222222,
              "#7201a8"
             ],
             [
              0.3333333333333333,
              "#9c179e"
             ],
             [
              0.4444444444444444,
              "#bd3786"
             ],
             [
              0.5555555555555556,
              "#d8576b"
             ],
             [
              0.6666666666666666,
              "#ed7953"
             ],
             [
              0.7777777777777778,
              "#fb9f3a"
             ],
             [
              0.8888888888888888,
              "#fdca26"
             ],
             [
              1,
              "#f0f921"
             ]
            ],
            "type": "histogram2d"
           }
          ],
          "histogram2dcontour": [
           {
            "colorbar": {
             "outlinewidth": 0,
             "ticks": ""
            },
            "colorscale": [
             [
              0,
              "#0d0887"
             ],
             [
              0.1111111111111111,
              "#46039f"
             ],
             [
              0.2222222222222222,
              "#7201a8"
             ],
             [
              0.3333333333333333,
              "#9c179e"
             ],
             [
              0.4444444444444444,
              "#bd3786"
             ],
             [
              0.5555555555555556,
              "#d8576b"
             ],
             [
              0.6666666666666666,
              "#ed7953"
             ],
             [
              0.7777777777777778,
              "#fb9f3a"
             ],
             [
              0.8888888888888888,
              "#fdca26"
             ],
             [
              1,
              "#f0f921"
             ]
            ],
            "type": "histogram2dcontour"
           }
          ],
          "mesh3d": [
           {
            "colorbar": {
             "outlinewidth": 0,
             "ticks": ""
            },
            "type": "mesh3d"
           }
          ],
          "parcoords": [
           {
            "line": {
             "colorbar": {
              "outlinewidth": 0,
              "ticks": ""
             }
            },
            "type": "parcoords"
           }
          ],
          "pie": [
           {
            "automargin": true,
            "type": "pie"
           }
          ],
          "scatter": [
           {
            "fillpattern": {
             "fillmode": "overlay",
             "size": 10,
             "solidity": 0.2
            },
            "type": "scatter"
           }
          ],
          "scatter3d": [
           {
            "line": {
             "colorbar": {
              "outlinewidth": 0,
              "ticks": ""
             }
            },
            "marker": {
             "colorbar": {
              "outlinewidth": 0,
              "ticks": ""
             }
            },
            "type": "scatter3d"
           }
          ],
          "scattercarpet": [
           {
            "marker": {
             "colorbar": {
              "outlinewidth": 0,
              "ticks": ""
             }
            },
            "type": "scattercarpet"
           }
          ],
          "scattergeo": [
           {
            "marker": {
             "colorbar": {
              "outlinewidth": 0,
              "ticks": ""
             }
            },
            "type": "scattergeo"
           }
          ],
          "scattergl": [
           {
            "marker": {
             "colorbar": {
              "outlinewidth": 0,
              "ticks": ""
             }
            },
            "type": "scattergl"
           }
          ],
          "scattermap": [
           {
            "marker": {
             "colorbar": {
              "outlinewidth": 0,
              "ticks": ""
             }
            },
            "type": "scattermap"
           }
          ],
          "scattermapbox": [
           {
            "marker": {
             "colorbar": {
              "outlinewidth": 0,
              "ticks": ""
             }
            },
            "type": "scattermapbox"
           }
          ],
          "scatterpolar": [
           {
            "marker": {
             "colorbar": {
              "outlinewidth": 0,
              "ticks": ""
             }
            },
            "type": "scatterpolar"
           }
          ],
          "scatterpolargl": [
           {
            "marker": {
             "colorbar": {
              "outlinewidth": 0,
              "ticks": ""
             }
            },
            "type": "scatterpolargl"
           }
          ],
          "scatterternary": [
           {
            "marker": {
             "colorbar": {
              "outlinewidth": 0,
              "ticks": ""
             }
            },
            "type": "scatterternary"
           }
          ],
          "surface": [
           {
            "colorbar": {
             "outlinewidth": 0,
             "ticks": ""
            },
            "colorscale": [
             [
              0,
              "#0d0887"
             ],
             [
              0.1111111111111111,
              "#46039f"
             ],
             [
              0.2222222222222222,
              "#7201a8"
             ],
             [
              0.3333333333333333,
              "#9c179e"
             ],
             [
              0.4444444444444444,
              "#bd3786"
             ],
             [
              0.5555555555555556,
              "#d8576b"
             ],
             [
              0.6666666666666666,
              "#ed7953"
             ],
             [
              0.7777777777777778,
              "#fb9f3a"
             ],
             [
              0.8888888888888888,
              "#fdca26"
             ],
             [
              1,
              "#f0f921"
             ]
            ],
            "type": "surface"
           }
          ],
          "table": [
           {
            "cells": {
             "fill": {
              "color": "#EBF0F8"
             },
             "line": {
              "color": "white"
             }
            },
            "header": {
             "fill": {
              "color": "#C8D4E3"
             },
             "line": {
              "color": "white"
             }
            },
            "type": "table"
           }
          ]
         },
         "layout": {
          "annotationdefaults": {
           "arrowcolor": "#2a3f5f",
           "arrowhead": 0,
           "arrowwidth": 1
          },
          "autotypenumbers": "strict",
          "coloraxis": {
           "colorbar": {
            "outlinewidth": 0,
            "ticks": ""
           }
          },
          "colorscale": {
           "diverging": [
            [
             0,
             "#8e0152"
            ],
            [
             0.1,
             "#c51b7d"
            ],
            [
             0.2,
             "#de77ae"
            ],
            [
             0.3,
             "#f1b6da"
            ],
            [
             0.4,
             "#fde0ef"
            ],
            [
             0.5,
             "#f7f7f7"
            ],
            [
             0.6,
             "#e6f5d0"
            ],
            [
             0.7,
             "#b8e186"
            ],
            [
             0.8,
             "#7fbc41"
            ],
            [
             0.9,
             "#4d9221"
            ],
            [
             1,
             "#276419"
            ]
           ],
           "sequential": [
            [
             0,
             "#0d0887"
            ],
            [
             0.1111111111111111,
             "#46039f"
            ],
            [
             0.2222222222222222,
             "#7201a8"
            ],
            [
             0.3333333333333333,
             "#9c179e"
            ],
            [
             0.4444444444444444,
             "#bd3786"
            ],
            [
             0.5555555555555556,
             "#d8576b"
            ],
            [
             0.6666666666666666,
             "#ed7953"
            ],
            [
             0.7777777777777778,
             "#fb9f3a"
            ],
            [
             0.8888888888888888,
             "#fdca26"
            ],
            [
             1,
             "#f0f921"
            ]
           ],
           "sequentialminus": [
            [
             0,
             "#0d0887"
            ],
            [
             0.1111111111111111,
             "#46039f"
            ],
            [
             0.2222222222222222,
             "#7201a8"
            ],
            [
             0.3333333333333333,
             "#9c179e"
            ],
            [
             0.4444444444444444,
             "#bd3786"
            ],
            [
             0.5555555555555556,
             "#d8576b"
            ],
            [
             0.6666666666666666,
             "#ed7953"
            ],
            [
             0.7777777777777778,
             "#fb9f3a"
            ],
            [
             0.8888888888888888,
             "#fdca26"
            ],
            [
             1,
             "#f0f921"
            ]
           ]
          },
          "colorway": [
           "#636efa",
           "#EF553B",
           "#00cc96",
           "#ab63fa",
           "#FFA15A",
           "#19d3f3",
           "#FF6692",
           "#B6E880",
           "#FF97FF",
           "#FECB52"
          ],
          "font": {
           "color": "#2a3f5f"
          },
          "geo": {
           "bgcolor": "white",
           "lakecolor": "white",
           "landcolor": "#E5ECF6",
           "showlakes": true,
           "showland": true,
           "subunitcolor": "white"
          },
          "hoverlabel": {
           "align": "left"
          },
          "hovermode": "closest",
          "mapbox": {
           "style": "light"
          },
          "paper_bgcolor": "white",
          "plot_bgcolor": "#E5ECF6",
          "polar": {
           "angularaxis": {
            "gridcolor": "white",
            "linecolor": "white",
            "ticks": ""
           },
           "bgcolor": "#E5ECF6",
           "radialaxis": {
            "gridcolor": "white",
            "linecolor": "white",
            "ticks": ""
           }
          },
          "scene": {
           "xaxis": {
            "backgroundcolor": "#E5ECF6",
            "gridcolor": "white",
            "gridwidth": 2,
            "linecolor": "white",
            "showbackground": true,
            "ticks": "",
            "zerolinecolor": "white"
           },
           "yaxis": {
            "backgroundcolor": "#E5ECF6",
            "gridcolor": "white",
            "gridwidth": 2,
            "linecolor": "white",
            "showbackground": true,
            "ticks": "",
            "zerolinecolor": "white"
           },
           "zaxis": {
            "backgroundcolor": "#E5ECF6",
            "gridcolor": "white",
            "gridwidth": 2,
            "linecolor": "white",
            "showbackground": true,
            "ticks": "",
            "zerolinecolor": "white"
           }
          },
          "shapedefaults": {
           "line": {
            "color": "#2a3f5f"
           }
          },
          "ternary": {
           "aaxis": {
            "gridcolor": "white",
            "linecolor": "white",
            "ticks": ""
           },
           "baxis": {
            "gridcolor": "white",
            "linecolor": "white",
            "ticks": ""
           },
           "bgcolor": "#E5ECF6",
           "caxis": {
            "gridcolor": "white",
            "linecolor": "white",
            "ticks": ""
           }
          },
          "title": {
           "x": 0.05
          },
          "xaxis": {
           "automargin": true,
           "gridcolor": "white",
           "linecolor": "white",
           "ticks": "",
           "title": {
            "standoff": 15
           },
           "zerolinecolor": "white",
           "zerolinewidth": 2
          },
          "yaxis": {
           "automargin": true,
           "gridcolor": "white",
           "linecolor": "white",
           "ticks": "",
           "title": {
            "standoff": 15
           },
           "zerolinecolor": "white",
           "zerolinewidth": 2
          }
         }
        },
        "xaxis": {
         "anchor": "y",
         "domain": [
          0,
          1
         ],
         "title": {
          "text": "x"
         }
        },
        "yaxis": {
         "anchor": "x",
         "domain": [
          0,
          1
         ],
         "title": {
          "text": "y"
         }
        }
       }
      }
     },
     "metadata": {},
     "output_type": "display_data"
    }
   ],
   "source": [
    "\n",
    "import plotly.express as px\n",
    "fig = px.scatter(df, x='x', y='y', color='category')\n",
    "fig.show()  # Interacts in browser or Jupyter\n"
   ]
  },
  {
   "cell_type": "markdown",
   "id": "35030051-157a-483f-850f-5adb9bc76aa8",
   "metadata": {},
   "source": [
    "2. Beautiful and Modern Look\n",
    "    - Attractive default styles, colors, and animations.\n",
    "    - Clean and responsive design that works on mobile, tablet, and desktop."
   ]
  },
  {
   "cell_type": "markdown",
   "id": "4c9eab44-4ee9-438f-b6bf-2fe932152b61",
   "metadata": {},
   "source": [
    "3. Wide Range of Charts\n",
    "    - Supports all standard plots (bar, line, scatter) plus:\n",
    "        - 3D plots\n",
    "        - Heatmaps\n",
    "        - Choropleth maps\n",
    "        - Sunburst, treemaps\n",
    "        - Gantt charts, Sankey diagrams"
   ]
  },
  {
   "cell_type": "markdown",
   "id": "7a2902a4-ffd0-4e64-ab7a-af7f5fc8fa51",
   "metadata": {},
   "source": [
    "4. Web-Ready Output:\n",
    "    - Exports to HTML or embeddable in websites.\n",
    "    - Ideal for sharing results online or as part of dashboards (especially with Dash).\n"
   ]
  },
  {
   "cell_type": "code",
   "execution_count": 46,
   "id": "046fd7d0-0ff4-4848-9afd-be2b19d8bd1f",
   "metadata": {},
   "outputs": [],
   "source": [
    "fig.write_html(\"plot.html\")\n"
   ]
  },
  {
   "cell_type": "markdown",
   "id": "26041952-1fb0-4835-a4a3-0885fb5bfb7e",
   "metadata": {},
   "source": [
    "5. Integrates with Dash for Dashboards:\n",
    "    - Use Plotly seamlessly with the Dash framework to create full-fledged interactive data apps."
   ]
  },
  {
   "cell_type": "markdown",
   "id": "40d599b6-ee2a-444e-956e-a7cac36e9ec5",
   "metadata": {},
   "source": [
    "6. No Need for JavaScript\n",
    "    - All the interactivity of JS (like D3.js) with just Python code.\n",
    "    - Great for non-web developers."
   ]
  },
  {
   "cell_type": "markdown",
   "id": "0d49d5d3-7899-4ad0-bd12-ee1523e64060",
   "metadata": {},
   "source": [
    "7. Animation Support:\n",
    "    - Animate changes over time or categories to show trends dynamically."
   ]
  },
  {
   "cell_type": "markdown",
   "id": "17e92b55-eae0-4fc6-94ba-7d4510cae79e",
   "metadata": {},
   "source": [
    "**Q 15.  How does NumPy handle multidimensional arrays?**"
   ]
  },
  {
   "cell_type": "markdown",
   "id": "a6133122-8ce4-4f40-be02-18257c901f55",
   "metadata": {},
   "source": [
    "**Ans.** umPy handles multidimensional arrays (also known as ndarrays) efficiently and is specifically designed for working with n-dimensional numerical data."
   ]
  },
  {
   "cell_type": "markdown",
   "id": "0572a3e0-b5aa-4289-ae5b-777cbd17c5b8",
   "metadata": {},
   "source": [
    "A NumPy array can have 1, 2, 3, or more dimensions (axes):\n",
    "- 1D: Vector (e.g., [1, 2, 3])\n",
    "- 2D: Matrix (e.g., [[1, 2], [3, 4]])\n",
    "- 3D+: Tensor-like structures for image, video, or scientific data"
   ]
  },
  {
   "cell_type": "markdown",
   "id": "6e743171-f35a-491a-b7b0-b88d4b79ff49",
   "metadata": {},
   "source": [
    " Example of Creating Multidimensional Arrays:"
   ]
  },
  {
   "cell_type": "code",
   "execution_count": 53,
   "id": "ed451952-c6fd-4ef5-9a89-64f76b7cdea6",
   "metadata": {},
   "outputs": [],
   "source": [
    "import numpy as np\n",
    "\n",
    "# 1D array\n",
    "a = np.array([1, 2, 3])\n",
    "\n",
    "# 2D array (Matrix)\n",
    "b = np.array([[1, 2], [3, 4]])\n",
    "\n",
    "# 3D array\n",
    "c = np.array([[[1, 2], [3, 4]], [[5, 6], [7, 8]]])\n"
   ]
  },
  {
   "cell_type": "markdown",
   "id": "246312eb-64b5-49b3-bd08-8e4cae94fbac",
   "metadata": {},
   "source": [
    "> How NumPy Handles Them"
   ]
  },
  {
   "cell_type": "markdown",
   "id": "d850a2b7-fbf0-434b-8e25-b8eb2b611826",
   "metadata": {},
   "source": [
    "1. Efficient Memory Representation\n",
    "    - Stored in contiguous blocks of memory\n",
    "    - Uses row-major order (C-style) by default"
   ]
  },
  {
   "cell_type": "markdown",
   "id": "f15db28f-3914-4b10-adfc-ce9fafb89351",
   "metadata": {},
   "source": [
    "2. Shape and Dimensions\n",
    "    - .shape: returns the dimensions of the array\n",
    "    - .ndim: returns the number of dimensions\n",
    "    - .size: total number of elements"
   ]
  },
  {
   "cell_type": "code",
   "execution_count": 54,
   "id": "504d7bf9-083a-433c-a321-63839a381d89",
   "metadata": {},
   "outputs": [
    {
     "name": "stdout",
     "output_type": "stream",
     "text": [
      "(2, 2, 2)\n",
      "3\n"
     ]
    }
   ],
   "source": [
    "print(c.shape)  # (2, 2, 2)\n",
    "print(c.ndim)   # 3\n"
   ]
  },
  {
   "cell_type": "markdown",
   "id": "761003f1-cf45-48d0-9162-f9b29127f3cf",
   "metadata": {},
   "source": [
    "3. Element Access and Slicing"
   ]
  },
  {
   "cell_type": "code",
   "execution_count": 55,
   "id": "afe2b80e-0090-419f-a1f7-75bfdee8de7f",
   "metadata": {},
   "outputs": [
    {
     "name": "stdout",
     "output_type": "stream",
     "text": [
      "6\n",
      "[[1 2]\n",
      " [5 6]]\n"
     ]
    }
   ],
   "source": [
    "print(c[1, 0, 1])  # Access specific element: 6\n",
    "print(c[:, 0, :])  # Slice across first dimension\n"
   ]
  },
  {
   "cell_type": "markdown",
   "id": "7498cdf9-1c05-4c76-aa26-d02d20da0fa4",
   "metadata": {},
   "source": [
    "4. Broadcasting Across Dimensions\n",
    "    - NumPy automatically matches shapes for operations using broadcasting rules."
   ]
  },
  {
   "cell_type": "code",
   "execution_count": 56,
   "id": "d7157c6d-2987-493a-9410-b895bf2c5871",
   "metadata": {},
   "outputs": [],
   "source": [
    "x = np.array([[1], [2], [3]])   # shape (3,1)\n",
    "y = np.array([10, 20, 30])      # shape (3,)\n",
    "result = x + y                  # shape becomes (3,3)\n"
   ]
  },
  {
   "cell_type": "markdown",
   "id": "e286c148-a8c9-4014-9b81-0d614ab128d2",
   "metadata": {},
   "source": [
    "5. Reshaping & Transposing"
   ]
  },
  {
   "cell_type": "code",
   "execution_count": 57,
   "id": "b9ae65d5-9843-432f-b502-0ab3d17e87ea",
   "metadata": {},
   "outputs": [],
   "source": [
    "# Reshape to different dimensions\n",
    "reshaped = c.reshape((4, 2))  # (4 rows, 2 columns)\n",
    "\n",
    "# Transpose for axis rearrangement\n",
    "transposed = c.transpose((1, 0, 2))  # swap axes\n"
   ]
  },
  {
   "cell_type": "markdown",
   "id": "8c80a659-84b8-47e8-a551-fef6692d3c67",
   "metadata": {},
   "source": [
    "Example: 3D Array Visualization"
   ]
  },
  {
   "cell_type": "code",
   "execution_count": 58,
   "id": "2a32408a-f3d7-46c6-9dcb-3400448f32d0",
   "metadata": {},
   "outputs": [
    {
     "name": "stdout",
     "output_type": "stream",
     "text": [
      "[[[ 0  1  2]\n",
      "  [ 3  4  5]\n",
      "  [ 6  7  8]]\n",
      "\n",
      " [[ 9 10 11]\n",
      "  [12 13 14]\n",
      "  [15 16 17]]\n",
      "\n",
      " [[18 19 20]\n",
      "  [21 22 23]\n",
      "  [24 25 26]]]\n"
     ]
    }
   ],
   "source": [
    "arr = np.arange(27).reshape((3, 3, 3))\n",
    "print(arr)\n"
   ]
  },
  {
   "cell_type": "markdown",
   "id": "f88f57e6-2c97-4952-b04e-3f397de6363d",
   "metadata": {},
   "source": [
    "This creates a 3D array of shape (3, 3, 3), holding values from 0 to 26."
   ]
  },
  {
   "cell_type": "markdown",
   "id": "60445078-8a6a-42b5-ae11-52c9bbf9db73",
   "metadata": {},
   "source": [
    "Summary Table:\n",
    "\n",
    "| Feature          | Description                             |\n",
    "| ---------------- | --------------------------------------- |\n",
    "| `ndarray`        | Core data structure in NumPy            |\n",
    "| `.shape`         | Tuple showing size of each dimension    |\n",
    "| `.ndim`          | Number of dimensions (axes)             |\n",
    "| `.reshape()`     | Change dimensions without changing data |\n",
    "| Broadcasting     | Automatically aligns dimensions for ops |\n",
    "| Slicing/Indexing | Extract subarrays or elements easily    |\n"
   ]
  },
  {
   "cell_type": "markdown",
   "id": "b8042b52-c2b7-48c7-8177-646465cd7f0d",
   "metadata": {},
   "source": [
    "**Q 16. What is the role of Bokeh in data visualization?**"
   ]
  },
  {
   "cell_type": "markdown",
   "id": "67a08652-b885-4a1d-8be0-e6b0320611d9",
   "metadata": {},
   "source": [
    "**Ans.** Bokeh is a powerful Python library for interactive data visualization in modern web browsers. It is designed to help you create visually rich, interactive, and shareable graphics, especially for large or streaming datasets."
   ]
  },
  {
   "cell_type": "markdown",
   "id": "e018fad2-01b8-4085-ac4c-a4d3e4abdb72",
   "metadata": {},
   "source": [
    " Role of Bokeh in Data Visualization"
   ]
  },
  {
   "cell_type": "markdown",
   "id": "2e524f82-42e1-4bf4-b624-66d3824f9168",
   "metadata": {},
   "source": [
    "Bokeh bridges the gap between:\n",
    "- Static plots (like Matplotlib)\n",
    "- And fully interactive dashboards (like Plotly + Dash)"
   ]
  },
  {
   "cell_type": "markdown",
   "id": "f77083bf-f08f-474f-90b6-31698ab0a3d4",
   "metadata": {},
   "source": [
    "It allows Python developers to create browser-based interactive plots without writing JavaScript."
   ]
  },
  {
   "cell_type": "markdown",
   "id": "c60e8c1e-fbaf-4bab-9487-a5bb17bd2111",
   "metadata": {},
   "source": [
    "Key Features of Bokeh:\n",
    "\n",
    "| Feature                    | Benefit                                                 |\n",
    "| -------------------------- | ------------------------------------------------------- |\n",
    "| **Interactive plots**      | Zoom, pan, hover tooltips, sliders, dropdowns           |\n",
    "| **Web-ready output**       | Export to HTML, embed in web pages or Jupyter Notebooks |\n",
    "| **Widgets and dashboards** | Create full dashboards with filters and controls        |\n",
    "| **Streaming data support** | Can handle live-updating or real-time data              |\n",
    "| **Server-based apps**      | Run interactive apps using `Bokeh Server`               |\n",
    "| **Works with Pandas**      | Directly plots DataFrames or Series easily              |\n"
   ]
  },
  {
   "cell_type": "markdown",
   "id": "7ce65a16-b5cf-461f-8611-ed3eb2ffe999",
   "metadata": {},
   "source": [
    "Example: Basic Interactive Plot"
   ]
  },
  {
   "cell_type": "code",
   "execution_count": 60,
   "id": "d6017307-df52-468a-9679-a63c8ef02a88",
   "metadata": {},
   "outputs": [
    {
     "data": {
      "text/html": [
       "    <style>\n",
       "        .bk-notebook-logo {\n",
       "            display: block;\n",
       "            width: 20px;\n",
       "            height: 20px;\n",
       "            background-image: url(data:image/png;base64,iVBORw0KGgoAAAANSUhEUgAAABQAAAAUCAYAAACNiR0NAAAABHNCSVQICAgIfAhkiAAAAAlwSFlzAAALEgAACxIB0t1+/AAAABx0RVh0U29mdHdhcmUAQWRvYmUgRmlyZXdvcmtzIENTNui8sowAAAOkSURBVDiNjZRtaJVlGMd/1/08zzln5zjP1LWcU9N0NkN8m2CYjpgQYQXqSs0I84OLIC0hkEKoPtiH3gmKoiJDU7QpLgoLjLIQCpEsNJ1vqUOdO7ppbuec5+V+rj4ctwzd8IIbbi6u+8f1539dt3A78eXC7QizUF7gyV1fD1Yqg4JWz84yffhm0qkFqBogB9rM8tZdtwVsPUhWhGcFJngGeWrPzHm5oaMmkfEg1usvLFyc8jLRqDOMru7AyC8saQr7GG7f5fvDeH7Ej8CM66nIF+8yngt6HWaKh7k49Soy9nXurCi1o3qUbS3zWfrYeQDTB/Qj6kX6Ybhw4B+bOYoLKCC9H3Nu/leUTZ1JdRWkkn2ldcCamzrcf47KKXdAJllSlxAOkRgyHsGC/zRday5Qld9DyoM4/q/rUoy/CXh3jzOu3bHUVZeU+DEn8FInkPBFlu3+nW3Nw0mk6vCDiWg8CeJaxEwuHS3+z5RgY+YBR6V1Z1nxSOfoaPa4LASWxxdNp+VWTk7+4vzaou8v8PN+xo+KY2xsw6une2frhw05CTYOmQvsEhjhWjn0bmXPjpE1+kplmmkP3suftwTubK9Vq22qKmrBhpY4jvd5afdRA3wGjFAgcnTK2s4hY0/GPNIb0nErGMCRxWOOX64Z8RAC4oCXdklmEvcL8o0BfkNK4lUg9HTl+oPlQxdNo3Mg4Nv175e/1LDGzZen30MEjRUtmXSfiTVu1kK8W4txyV6BMKlbgk3lMwYCiusNy9fVfvvwMxv8Ynl6vxoByANLTWplvuj/nF9m2+PDtt1eiHPBr1oIfhCChQMBw6Aw0UulqTKZdfVvfG7VcfIqLG9bcldL/+pdWTLxLUy8Qq38heUIjh4XlzZxzQm19lLFlr8vdQ97rjZVOLf8nclzckbcD4wxXMidpX30sFd37Fv/GtwwhzhxGVAprjbg0gCAEeIgwCZyTV2Z1REEW8O4py0wsjeloKoMr6iCY6dP92H6Vw/oTyICIthibxjm/DfN9lVz8IqtqKYLUXfoKVMVQVVJOElGjrnnUt9T9wbgp8AyYKaGlqingHZU/uG2NTZSVqwHQTWkx9hxjkpWDaCg6Ckj5qebgBVbT3V3NNXMSiWSDdGV3hrtzla7J+duwPOToIg42ChPQOQjspnSlp1V+Gjdged7+8UN5CRAV7a5EdFNwCjEaBR27b3W890TE7g24NAP/mMDXRWrGoFPQI9ls/MWO2dWFAar/xcOIImbbpA3zgAAAABJRU5ErkJggg==);\n",
       "        }\n",
       "    </style>\n",
       "    <div>\n",
       "        <a href=\"https://bokeh.org\" target=\"_blank\" class=\"bk-notebook-logo\"></a>\n",
       "        <span id=\"cbce6863-c193-48d1-9c2b-db16da07b54a\">Loading BokehJS ...</span>\n",
       "    </div>\n"
      ]
     },
     "metadata": {},
     "output_type": "display_data"
    },
    {
     "data": {
      "application/javascript": [
       "'use strict';\n",
       "(function(root) {\n",
       "  function now() {\n",
       "    return new Date();\n",
       "  }\n",
       "\n",
       "  const force = true;\n",
       "\n",
       "  if (typeof root._bokeh_onload_callbacks === \"undefined\" || force === true) {\n",
       "    root._bokeh_onload_callbacks = [];\n",
       "    root._bokeh_is_loading = undefined;\n",
       "  }\n",
       "\n",
       "const JS_MIME_TYPE = 'application/javascript';\n",
       "  const HTML_MIME_TYPE = 'text/html';\n",
       "  const EXEC_MIME_TYPE = 'application/vnd.bokehjs_exec.v0+json';\n",
       "  const CLASS_NAME = 'output_bokeh rendered_html';\n",
       "\n",
       "  /**\n",
       "   * Render data to the DOM node\n",
       "   */\n",
       "  function render(props, node) {\n",
       "    const script = document.createElement(\"script\");\n",
       "    node.appendChild(script);\n",
       "  }\n",
       "\n",
       "  /**\n",
       "   * Handle when an output is cleared or removed\n",
       "   */\n",
       "  function handleClearOutput(event, handle) {\n",
       "    function drop(id) {\n",
       "      const view = Bokeh.index.get_by_id(id)\n",
       "      if (view != null) {\n",
       "        view.model.document.clear()\n",
       "        Bokeh.index.delete(view)\n",
       "      }\n",
       "    }\n",
       "\n",
       "    const cell = handle.cell;\n",
       "\n",
       "    const id = cell.output_area._bokeh_element_id;\n",
       "    const server_id = cell.output_area._bokeh_server_id;\n",
       "\n",
       "    // Clean up Bokeh references\n",
       "    if (id != null) {\n",
       "      drop(id)\n",
       "    }\n",
       "\n",
       "    if (server_id !== undefined) {\n",
       "      // Clean up Bokeh references\n",
       "      const cmd_clean = \"from bokeh.io.state import curstate; print(curstate().uuid_to_server['\" + server_id + \"'].get_sessions()[0].document.roots[0]._id)\";\n",
       "      cell.notebook.kernel.execute(cmd_clean, {\n",
       "        iopub: {\n",
       "          output: function(msg) {\n",
       "            const id = msg.content.text.trim()\n",
       "            drop(id)\n",
       "          }\n",
       "        }\n",
       "      });\n",
       "      // Destroy server and session\n",
       "      const cmd_destroy = \"import bokeh.io.notebook as ion; ion.destroy_server('\" + server_id + \"')\";\n",
       "      cell.notebook.kernel.execute(cmd_destroy);\n",
       "    }\n",
       "  }\n",
       "\n",
       "  /**\n",
       "   * Handle when a new output is added\n",
       "   */\n",
       "  function handleAddOutput(event, handle) {\n",
       "    const output_area = handle.output_area;\n",
       "    const output = handle.output;\n",
       "\n",
       "    // limit handleAddOutput to display_data with EXEC_MIME_TYPE content only\n",
       "    if ((output.output_type != \"display_data\") || (!Object.prototype.hasOwnProperty.call(output.data, EXEC_MIME_TYPE))) {\n",
       "      return\n",
       "    }\n",
       "\n",
       "    const toinsert = output_area.element.find(\".\" + CLASS_NAME.split(' ')[0]);\n",
       "\n",
       "    if (output.metadata[EXEC_MIME_TYPE][\"id\"] !== undefined) {\n",
       "      toinsert[toinsert.length - 1].firstChild.textContent = output.data[JS_MIME_TYPE];\n",
       "      // store reference to embed id on output_area\n",
       "      output_area._bokeh_element_id = output.metadata[EXEC_MIME_TYPE][\"id\"];\n",
       "    }\n",
       "    if (output.metadata[EXEC_MIME_TYPE][\"server_id\"] !== undefined) {\n",
       "      const bk_div = document.createElement(\"div\");\n",
       "      bk_div.innerHTML = output.data[HTML_MIME_TYPE];\n",
       "      const script_attrs = bk_div.children[0].attributes;\n",
       "      for (let i = 0; i < script_attrs.length; i++) {\n",
       "        toinsert[toinsert.length - 1].firstChild.setAttribute(script_attrs[i].name, script_attrs[i].value);\n",
       "        toinsert[toinsert.length - 1].firstChild.textContent = bk_div.children[0].textContent\n",
       "      }\n",
       "      // store reference to server id on output_area\n",
       "      output_area._bokeh_server_id = output.metadata[EXEC_MIME_TYPE][\"server_id\"];\n",
       "    }\n",
       "  }\n",
       "\n",
       "  function register_renderer(events, OutputArea) {\n",
       "\n",
       "    function append_mime(data, metadata, element) {\n",
       "      // create a DOM node to render to\n",
       "      const toinsert = this.create_output_subarea(\n",
       "        metadata,\n",
       "        CLASS_NAME,\n",
       "        EXEC_MIME_TYPE\n",
       "      );\n",
       "      this.keyboard_manager.register_events(toinsert);\n",
       "      // Render to node\n",
       "      const props = {data: data, metadata: metadata[EXEC_MIME_TYPE]};\n",
       "      render(props, toinsert[toinsert.length - 1]);\n",
       "      element.append(toinsert);\n",
       "      return toinsert\n",
       "    }\n",
       "\n",
       "    /* Handle when an output is cleared or removed */\n",
       "    events.on('clear_output.CodeCell', handleClearOutput);\n",
       "    events.on('delete.Cell', handleClearOutput);\n",
       "\n",
       "    /* Handle when a new output is added */\n",
       "    events.on('output_added.OutputArea', handleAddOutput);\n",
       "\n",
       "    /**\n",
       "     * Register the mime type and append_mime function with output_area\n",
       "     */\n",
       "    OutputArea.prototype.register_mime_type(EXEC_MIME_TYPE, append_mime, {\n",
       "      /* Is output safe? */\n",
       "      safe: true,\n",
       "      /* Index of renderer in `output_area.display_order` */\n",
       "      index: 0\n",
       "    });\n",
       "  }\n",
       "\n",
       "  // register the mime type if in Jupyter Notebook environment and previously unregistered\n",
       "  if (root.Jupyter !== undefined) {\n",
       "    const events = require('base/js/events');\n",
       "    const OutputArea = require('notebook/js/outputarea').OutputArea;\n",
       "\n",
       "    if (OutputArea.prototype.mime_types().indexOf(EXEC_MIME_TYPE) == -1) {\n",
       "      register_renderer(events, OutputArea);\n",
       "    }\n",
       "  }\n",
       "  if (typeof (root._bokeh_timeout) === \"undefined\" || force === true) {\n",
       "    root._bokeh_timeout = Date.now() + 5000;\n",
       "    root._bokeh_failed_load = false;\n",
       "  }\n",
       "\n",
       "  const NB_LOAD_WARNING = {'data': {'text/html':\n",
       "     \"<div style='background-color: #fdd'>\\n\"+\n",
       "     \"<p>\\n\"+\n",
       "     \"BokehJS does not appear to have successfully loaded. If loading BokehJS from CDN, this \\n\"+\n",
       "     \"may be due to a slow or bad network connection. Possible fixes:\\n\"+\n",
       "     \"</p>\\n\"+\n",
       "     \"<ul>\\n\"+\n",
       "     \"<li>re-rerun `output_notebook()` to attempt to load from CDN again, or</li>\\n\"+\n",
       "     \"<li>use INLINE resources instead, as so:</li>\\n\"+\n",
       "     \"</ul>\\n\"+\n",
       "     \"<code>\\n\"+\n",
       "     \"from bokeh.resources import INLINE\\n\"+\n",
       "     \"output_notebook(resources=INLINE)\\n\"+\n",
       "     \"</code>\\n\"+\n",
       "     \"</div>\"}};\n",
       "\n",
       "  function display_loaded(error = null) {\n",
       "    const el = document.getElementById(\"cbce6863-c193-48d1-9c2b-db16da07b54a\");\n",
       "    if (el != null) {\n",
       "      const html = (() => {\n",
       "        if (typeof root.Bokeh === \"undefined\") {\n",
       "          if (error == null) {\n",
       "            return \"BokehJS is loading ...\";\n",
       "          } else {\n",
       "            return \"BokehJS failed to load.\";\n",
       "          }\n",
       "        } else {\n",
       "          const prefix = `BokehJS ${root.Bokeh.version}`;\n",
       "          if (error == null) {\n",
       "            return `${prefix} successfully loaded.`;\n",
       "          } else {\n",
       "            return `${prefix} <b>encountered errors</b> while loading and may not function as expected.`;\n",
       "          }\n",
       "        }\n",
       "      })();\n",
       "      el.innerHTML = html;\n",
       "\n",
       "      if (error != null) {\n",
       "        const wrapper = document.createElement(\"div\");\n",
       "        wrapper.style.overflow = \"auto\";\n",
       "        wrapper.style.height = \"5em\";\n",
       "        wrapper.style.resize = \"vertical\";\n",
       "        const content = document.createElement(\"div\");\n",
       "        content.style.fontFamily = \"monospace\";\n",
       "        content.style.whiteSpace = \"pre-wrap\";\n",
       "        content.style.backgroundColor = \"rgb(255, 221, 221)\";\n",
       "        content.textContent = error.stack ?? error.toString();\n",
       "        wrapper.append(content);\n",
       "        el.append(wrapper);\n",
       "      }\n",
       "    } else if (Date.now() < root._bokeh_timeout) {\n",
       "      setTimeout(() => display_loaded(error), 100);\n",
       "    }\n",
       "  }\n",
       "\n",
       "  function run_callbacks() {\n",
       "    try {\n",
       "      root._bokeh_onload_callbacks.forEach(function(callback) {\n",
       "        if (callback != null)\n",
       "          callback();\n",
       "      });\n",
       "    } finally {\n",
       "      delete root._bokeh_onload_callbacks\n",
       "    }\n",
       "    console.debug(\"Bokeh: all callbacks have finished\");\n",
       "  }\n",
       "\n",
       "  function load_libs(css_urls, js_urls, callback) {\n",
       "    if (css_urls == null) css_urls = [];\n",
       "    if (js_urls == null) js_urls = [];\n",
       "\n",
       "    root._bokeh_onload_callbacks.push(callback);\n",
       "    if (root._bokeh_is_loading > 0) {\n",
       "      console.debug(\"Bokeh: BokehJS is being loaded, scheduling callback at\", now());\n",
       "      return null;\n",
       "    }\n",
       "    if (js_urls == null || js_urls.length === 0) {\n",
       "      run_callbacks();\n",
       "      return null;\n",
       "    }\n",
       "    console.debug(\"Bokeh: BokehJS not loaded, scheduling load and callback at\", now());\n",
       "    root._bokeh_is_loading = css_urls.length + js_urls.length;\n",
       "\n",
       "    function on_load() {\n",
       "      root._bokeh_is_loading--;\n",
       "      if (root._bokeh_is_loading === 0) {\n",
       "        console.debug(\"Bokeh: all BokehJS libraries/stylesheets loaded\");\n",
       "        run_callbacks()\n",
       "      }\n",
       "    }\n",
       "\n",
       "    function on_error(url) {\n",
       "      console.error(\"failed to load \" + url);\n",
       "    }\n",
       "\n",
       "    for (let i = 0; i < css_urls.length; i++) {\n",
       "      const url = css_urls[i];\n",
       "      const element = document.createElement(\"link\");\n",
       "      element.onload = on_load;\n",
       "      element.onerror = on_error.bind(null, url);\n",
       "      element.rel = \"stylesheet\";\n",
       "      element.type = \"text/css\";\n",
       "      element.href = url;\n",
       "      console.debug(\"Bokeh: injecting link tag for BokehJS stylesheet: \", url);\n",
       "      document.body.appendChild(element);\n",
       "    }\n",
       "\n",
       "    for (let i = 0; i < js_urls.length; i++) {\n",
       "      const url = js_urls[i];\n",
       "      const element = document.createElement('script');\n",
       "      element.onload = on_load;\n",
       "      element.onerror = on_error.bind(null, url);\n",
       "      element.async = false;\n",
       "      element.src = url;\n",
       "      console.debug(\"Bokeh: injecting script tag for BokehJS library: \", url);\n",
       "      document.head.appendChild(element);\n",
       "    }\n",
       "  };\n",
       "\n",
       "  function inject_raw_css(css) {\n",
       "    const element = document.createElement(\"style\");\n",
       "    element.appendChild(document.createTextNode(css));\n",
       "    document.body.appendChild(element);\n",
       "  }\n",
       "\n",
       "  const js_urls = [\"https://cdn.bokeh.org/bokeh/release/bokeh-3.7.3.min.js\", \"https://cdn.bokeh.org/bokeh/release/bokeh-gl-3.7.3.min.js\", \"https://cdn.bokeh.org/bokeh/release/bokeh-widgets-3.7.3.min.js\", \"https://cdn.bokeh.org/bokeh/release/bokeh-tables-3.7.3.min.js\", \"https://cdn.bokeh.org/bokeh/release/bokeh-mathjax-3.7.3.min.js\"];\n",
       "  const css_urls = [];\n",
       "\n",
       "  const inline_js = [    function(Bokeh) {\n",
       "      Bokeh.set_log_level(\"info\");\n",
       "    },\n",
       "function(Bokeh) {\n",
       "    }\n",
       "  ];\n",
       "\n",
       "  function run_inline_js() {\n",
       "    if (root.Bokeh !== undefined || force === true) {\n",
       "      try {\n",
       "            for (let i = 0; i < inline_js.length; i++) {\n",
       "      inline_js[i].call(root, root.Bokeh);\n",
       "    }\n",
       "\n",
       "      } catch (error) {display_loaded(error);throw error;\n",
       "      }if (force === true) {\n",
       "        display_loaded();\n",
       "      }} else if (Date.now() < root._bokeh_timeout) {\n",
       "      setTimeout(run_inline_js, 100);\n",
       "    } else if (!root._bokeh_failed_load) {\n",
       "      console.log(\"Bokeh: BokehJS failed to load within specified timeout.\");\n",
       "      root._bokeh_failed_load = true;\n",
       "    } else if (force !== true) {\n",
       "      const cell = $(document.getElementById(\"cbce6863-c193-48d1-9c2b-db16da07b54a\")).parents('.cell').data().cell;\n",
       "      cell.output_area.append_execute_result(NB_LOAD_WARNING)\n",
       "    }\n",
       "  }\n",
       "\n",
       "  if (root._bokeh_is_loading === 0) {\n",
       "    console.debug(\"Bokeh: BokehJS loaded, going straight to plotting\");\n",
       "    run_inline_js();\n",
       "  } else {\n",
       "    load_libs(css_urls, js_urls, function() {\n",
       "      console.debug(\"Bokeh: BokehJS plotting callback run at\", now());\n",
       "      run_inline_js();\n",
       "    });\n",
       "  }\n",
       "}(window));"
      ],
      "application/vnd.bokehjs_load.v0+json": "'use strict';\n(function(root) {\n  function now() {\n    return new Date();\n  }\n\n  const force = true;\n\n  if (typeof root._bokeh_onload_callbacks === \"undefined\" || force === true) {\n    root._bokeh_onload_callbacks = [];\n    root._bokeh_is_loading = undefined;\n  }\n\n\n  if (typeof (root._bokeh_timeout) === \"undefined\" || force === true) {\n    root._bokeh_timeout = Date.now() + 5000;\n    root._bokeh_failed_load = false;\n  }\n\n  const NB_LOAD_WARNING = {'data': {'text/html':\n     \"<div style='background-color: #fdd'>\\n\"+\n     \"<p>\\n\"+\n     \"BokehJS does not appear to have successfully loaded. If loading BokehJS from CDN, this \\n\"+\n     \"may be due to a slow or bad network connection. Possible fixes:\\n\"+\n     \"</p>\\n\"+\n     \"<ul>\\n\"+\n     \"<li>re-rerun `output_notebook()` to attempt to load from CDN again, or</li>\\n\"+\n     \"<li>use INLINE resources instead, as so:</li>\\n\"+\n     \"</ul>\\n\"+\n     \"<code>\\n\"+\n     \"from bokeh.resources import INLINE\\n\"+\n     \"output_notebook(resources=INLINE)\\n\"+\n     \"</code>\\n\"+\n     \"</div>\"}};\n\n  function display_loaded(error = null) {\n    const el = document.getElementById(\"cbce6863-c193-48d1-9c2b-db16da07b54a\");\n    if (el != null) {\n      const html = (() => {\n        if (typeof root.Bokeh === \"undefined\") {\n          if (error == null) {\n            return \"BokehJS is loading ...\";\n          } else {\n            return \"BokehJS failed to load.\";\n          }\n        } else {\n          const prefix = `BokehJS ${root.Bokeh.version}`;\n          if (error == null) {\n            return `${prefix} successfully loaded.`;\n          } else {\n            return `${prefix} <b>encountered errors</b> while loading and may not function as expected.`;\n          }\n        }\n      })();\n      el.innerHTML = html;\n\n      if (error != null) {\n        const wrapper = document.createElement(\"div\");\n        wrapper.style.overflow = \"auto\";\n        wrapper.style.height = \"5em\";\n        wrapper.style.resize = \"vertical\";\n        const content = document.createElement(\"div\");\n        content.style.fontFamily = \"monospace\";\n        content.style.whiteSpace = \"pre-wrap\";\n        content.style.backgroundColor = \"rgb(255, 221, 221)\";\n        content.textContent = error.stack ?? error.toString();\n        wrapper.append(content);\n        el.append(wrapper);\n      }\n    } else if (Date.now() < root._bokeh_timeout) {\n      setTimeout(() => display_loaded(error), 100);\n    }\n  }\n\n  function run_callbacks() {\n    try {\n      root._bokeh_onload_callbacks.forEach(function(callback) {\n        if (callback != null)\n          callback();\n      });\n    } finally {\n      delete root._bokeh_onload_callbacks\n    }\n    console.debug(\"Bokeh: all callbacks have finished\");\n  }\n\n  function load_libs(css_urls, js_urls, callback) {\n    if (css_urls == null) css_urls = [];\n    if (js_urls == null) js_urls = [];\n\n    root._bokeh_onload_callbacks.push(callback);\n    if (root._bokeh_is_loading > 0) {\n      console.debug(\"Bokeh: BokehJS is being loaded, scheduling callback at\", now());\n      return null;\n    }\n    if (js_urls == null || js_urls.length === 0) {\n      run_callbacks();\n      return null;\n    }\n    console.debug(\"Bokeh: BokehJS not loaded, scheduling load and callback at\", now());\n    root._bokeh_is_loading = css_urls.length + js_urls.length;\n\n    function on_load() {\n      root._bokeh_is_loading--;\n      if (root._bokeh_is_loading === 0) {\n        console.debug(\"Bokeh: all BokehJS libraries/stylesheets loaded\");\n        run_callbacks()\n      }\n    }\n\n    function on_error(url) {\n      console.error(\"failed to load \" + url);\n    }\n\n    for (let i = 0; i < css_urls.length; i++) {\n      const url = css_urls[i];\n      const element = document.createElement(\"link\");\n      element.onload = on_load;\n      element.onerror = on_error.bind(null, url);\n      element.rel = \"stylesheet\";\n      element.type = \"text/css\";\n      element.href = url;\n      console.debug(\"Bokeh: injecting link tag for BokehJS stylesheet: \", url);\n      document.body.appendChild(element);\n    }\n\n    for (let i = 0; i < js_urls.length; i++) {\n      const url = js_urls[i];\n      const element = document.createElement('script');\n      element.onload = on_load;\n      element.onerror = on_error.bind(null, url);\n      element.async = false;\n      element.src = url;\n      console.debug(\"Bokeh: injecting script tag for BokehJS library: \", url);\n      document.head.appendChild(element);\n    }\n  };\n\n  function inject_raw_css(css) {\n    const element = document.createElement(\"style\");\n    element.appendChild(document.createTextNode(css));\n    document.body.appendChild(element);\n  }\n\n  const js_urls = [\"https://cdn.bokeh.org/bokeh/release/bokeh-3.7.3.min.js\", \"https://cdn.bokeh.org/bokeh/release/bokeh-gl-3.7.3.min.js\", \"https://cdn.bokeh.org/bokeh/release/bokeh-widgets-3.7.3.min.js\", \"https://cdn.bokeh.org/bokeh/release/bokeh-tables-3.7.3.min.js\", \"https://cdn.bokeh.org/bokeh/release/bokeh-mathjax-3.7.3.min.js\"];\n  const css_urls = [];\n\n  const inline_js = [    function(Bokeh) {\n      Bokeh.set_log_level(\"info\");\n    },\nfunction(Bokeh) {\n    }\n  ];\n\n  function run_inline_js() {\n    if (root.Bokeh !== undefined || force === true) {\n      try {\n            for (let i = 0; i < inline_js.length; i++) {\n      inline_js[i].call(root, root.Bokeh);\n    }\n\n      } catch (error) {display_loaded(error);throw error;\n      }if (force === true) {\n        display_loaded();\n      }} else if (Date.now() < root._bokeh_timeout) {\n      setTimeout(run_inline_js, 100);\n    } else if (!root._bokeh_failed_load) {\n      console.log(\"Bokeh: BokehJS failed to load within specified timeout.\");\n      root._bokeh_failed_load = true;\n    } else if (force !== true) {\n      const cell = $(document.getElementById(\"cbce6863-c193-48d1-9c2b-db16da07b54a\")).parents('.cell').data().cell;\n      cell.output_area.append_execute_result(NB_LOAD_WARNING)\n    }\n  }\n\n  if (root._bokeh_is_loading === 0) {\n    console.debug(\"Bokeh: BokehJS loaded, going straight to plotting\");\n    run_inline_js();\n  } else {\n    load_libs(css_urls, js_urls, function() {\n      console.debug(\"Bokeh: BokehJS plotting callback run at\", now());\n      run_inline_js();\n    });\n  }\n}(window));"
     },
     "metadata": {},
     "output_type": "display_data"
    },
    {
     "data": {
      "text/html": [
       "\n",
       "  <div id=\"eefbdfab-b4e2-49ac-8394-3a45f9eee6f9\" data-root-id=\"p1003\" style=\"display: contents;\"></div>\n"
      ]
     },
     "metadata": {},
     "output_type": "display_data"
    },
    {
     "data": {
      "application/javascript": [
       "(function(root) {\n",
       "  function embed_document(root) {\n",
       "  const docs_json = {\"0a147fb6-333d-4eb1-85e4-049993ae7bd0\":{\"version\":\"3.7.3\",\"title\":\"Bokeh Application\",\"roots\":[{\"type\":\"object\",\"name\":\"Figure\",\"id\":\"p1003\",\"attributes\":{\"x_range\":{\"type\":\"object\",\"name\":\"DataRange1d\",\"id\":\"p1004\"},\"y_range\":{\"type\":\"object\",\"name\":\"DataRange1d\",\"id\":\"p1005\"},\"x_scale\":{\"type\":\"object\",\"name\":\"LinearScale\",\"id\":\"p1013\"},\"y_scale\":{\"type\":\"object\",\"name\":\"LinearScale\",\"id\":\"p1014\"},\"title\":{\"type\":\"object\",\"name\":\"Title\",\"id\":\"p1006\",\"attributes\":{\"text\":\"Simple Line Chart\"}},\"renderers\":[{\"type\":\"object\",\"name\":\"GlyphRenderer\",\"id\":\"p1044\",\"attributes\":{\"data_source\":{\"type\":\"object\",\"name\":\"ColumnDataSource\",\"id\":\"p1038\",\"attributes\":{\"selected\":{\"type\":\"object\",\"name\":\"Selection\",\"id\":\"p1039\",\"attributes\":{\"indices\":[],\"line_indices\":[]}},\"selection_policy\":{\"type\":\"object\",\"name\":\"UnionRenderers\",\"id\":\"p1040\"},\"data\":{\"type\":\"map\",\"entries\":[[\"x\",{\"type\":\"ndarray\",\"array\":{\"type\":\"bytes\",\"data\":\"AQAAAAIAAAADAAAABAAAAAUAAAA=\"},\"shape\":[5],\"dtype\":\"int32\",\"order\":\"little\"}],[\"y\",{\"type\":\"ndarray\",\"array\":{\"type\":\"bytes\",\"data\":\"BgAAAAcAAAACAAAABAAAAAUAAAA=\"},\"shape\":[5],\"dtype\":\"int32\",\"order\":\"little\"}]]}}},\"view\":{\"type\":\"object\",\"name\":\"CDSView\",\"id\":\"p1045\",\"attributes\":{\"filter\":{\"type\":\"object\",\"name\":\"AllIndices\",\"id\":\"p1046\"}}},\"glyph\":{\"type\":\"object\",\"name\":\"Line\",\"id\":\"p1041\",\"attributes\":{\"x\":{\"type\":\"field\",\"field\":\"x\"},\"y\":{\"type\":\"field\",\"field\":\"y\"},\"line_color\":\"#1f77b4\",\"line_width\":2}},\"nonselection_glyph\":{\"type\":\"object\",\"name\":\"Line\",\"id\":\"p1042\",\"attributes\":{\"x\":{\"type\":\"field\",\"field\":\"x\"},\"y\":{\"type\":\"field\",\"field\":\"y\"},\"line_color\":\"#1f77b4\",\"line_alpha\":0.1,\"line_width\":2}},\"muted_glyph\":{\"type\":\"object\",\"name\":\"Line\",\"id\":\"p1043\",\"attributes\":{\"x\":{\"type\":\"field\",\"field\":\"x\"},\"y\":{\"type\":\"field\",\"field\":\"y\"},\"line_color\":\"#1f77b4\",\"line_alpha\":0.2,\"line_width\":2}}}}],\"toolbar\":{\"type\":\"object\",\"name\":\"Toolbar\",\"id\":\"p1012\",\"attributes\":{\"tools\":[{\"type\":\"object\",\"name\":\"PanTool\",\"id\":\"p1025\"},{\"type\":\"object\",\"name\":\"WheelZoomTool\",\"id\":\"p1026\",\"attributes\":{\"renderers\":\"auto\"}},{\"type\":\"object\",\"name\":\"BoxZoomTool\",\"id\":\"p1027\",\"attributes\":{\"dimensions\":\"both\",\"overlay\":{\"type\":\"object\",\"name\":\"BoxAnnotation\",\"id\":\"p1028\",\"attributes\":{\"syncable\":false,\"line_color\":\"black\",\"line_alpha\":1.0,\"line_width\":2,\"line_dash\":[4,4],\"fill_color\":\"lightgrey\",\"fill_alpha\":0.5,\"level\":\"overlay\",\"visible\":false,\"left\":{\"type\":\"number\",\"value\":\"nan\"},\"right\":{\"type\":\"number\",\"value\":\"nan\"},\"top\":{\"type\":\"number\",\"value\":\"nan\"},\"bottom\":{\"type\":\"number\",\"value\":\"nan\"},\"left_units\":\"canvas\",\"right_units\":\"canvas\",\"top_units\":\"canvas\",\"bottom_units\":\"canvas\",\"handles\":{\"type\":\"object\",\"name\":\"BoxInteractionHandles\",\"id\":\"p1034\",\"attributes\":{\"all\":{\"type\":\"object\",\"name\":\"AreaVisuals\",\"id\":\"p1033\",\"attributes\":{\"fill_color\":\"white\",\"hover_fill_color\":\"lightgray\"}}}}}}}},{\"type\":\"object\",\"name\":\"SaveTool\",\"id\":\"p1035\"},{\"type\":\"object\",\"name\":\"ResetTool\",\"id\":\"p1036\"},{\"type\":\"object\",\"name\":\"HelpTool\",\"id\":\"p1037\"}]}},\"left\":[{\"type\":\"object\",\"name\":\"LinearAxis\",\"id\":\"p1020\",\"attributes\":{\"ticker\":{\"type\":\"object\",\"name\":\"BasicTicker\",\"id\":\"p1021\",\"attributes\":{\"mantissas\":[1,2,5]}},\"formatter\":{\"type\":\"object\",\"name\":\"BasicTickFormatter\",\"id\":\"p1022\"},\"axis_label\":\"y\",\"major_label_policy\":{\"type\":\"object\",\"name\":\"AllLabels\",\"id\":\"p1023\"}}}],\"below\":[{\"type\":\"object\",\"name\":\"LinearAxis\",\"id\":\"p1015\",\"attributes\":{\"ticker\":{\"type\":\"object\",\"name\":\"BasicTicker\",\"id\":\"p1016\",\"attributes\":{\"mantissas\":[1,2,5]}},\"formatter\":{\"type\":\"object\",\"name\":\"BasicTickFormatter\",\"id\":\"p1017\"},\"axis_label\":\"x\",\"major_label_policy\":{\"type\":\"object\",\"name\":\"AllLabels\",\"id\":\"p1018\"}}}],\"center\":[{\"type\":\"object\",\"name\":\"Grid\",\"id\":\"p1019\",\"attributes\":{\"axis\":{\"id\":\"p1015\"}}},{\"type\":\"object\",\"name\":\"Grid\",\"id\":\"p1024\",\"attributes\":{\"dimension\":1,\"axis\":{\"id\":\"p1020\"}}},{\"type\":\"object\",\"name\":\"Legend\",\"id\":\"p1047\",\"attributes\":{\"items\":[{\"type\":\"object\",\"name\":\"LegendItem\",\"id\":\"p1048\",\"attributes\":{\"label\":{\"type\":\"value\",\"value\":\"Line\"},\"renderers\":[{\"id\":\"p1044\"}]}}]}}]}}]}};\n",
       "  const render_items = [{\"docid\":\"0a147fb6-333d-4eb1-85e4-049993ae7bd0\",\"roots\":{\"p1003\":\"eefbdfab-b4e2-49ac-8394-3a45f9eee6f9\"},\"root_ids\":[\"p1003\"]}];\n",
       "  void root.Bokeh.embed.embed_items_notebook(docs_json, render_items);\n",
       "  }\n",
       "  if (root.Bokeh !== undefined) {\n",
       "    embed_document(root);\n",
       "  } else {\n",
       "    let attempts = 0;\n",
       "    const timer = setInterval(function(root) {\n",
       "      if (root.Bokeh !== undefined) {\n",
       "        clearInterval(timer);\n",
       "        embed_document(root);\n",
       "      } else {\n",
       "        attempts++;\n",
       "        if (attempts > 100) {\n",
       "          clearInterval(timer);\n",
       "          console.log(\"Bokeh: ERROR: Unable to run BokehJS code because BokehJS library is missing\");\n",
       "        }\n",
       "      }\n",
       "    }, 10, root)\n",
       "  }\n",
       "})(window);"
      ],
      "application/vnd.bokehjs_exec.v0+json": ""
     },
     "metadata": {
      "application/vnd.bokehjs_exec.v0+json": {
       "id": "p1003"
      }
     },
     "output_type": "display_data"
    }
   ],
   "source": [
    "from bokeh.plotting import figure, show\n",
    "from bokeh.io import output_notebook\n",
    "import pandas as pd\n",
    "\n",
    "# Prepare sample data\n",
    "data = pd.DataFrame({\n",
    "    'x': [1, 2, 3, 4, 5],\n",
    "    'y': [6, 7, 2, 4, 5]\n",
    "})\n",
    "\n",
    "# Output inline in notebook\n",
    "output_notebook()\n",
    "\n",
    "# Create figure\n",
    "p = figure(title=\"Simple Line Chart\", x_axis_label='x', y_axis_label='y')\n",
    "p.line(data['x'], data['y'], legend_label=\"Line\", line_width=2)\n",
    "\n",
    "# Show the interactive plot\n",
    "show(p)\n"
   ]
  },
  {
   "cell_type": "markdown",
   "id": "da0d36a6-1ec2-4bec-85c0-5d364c8d5ea2",
   "metadata": {},
   "source": [
    "When to Use Bokeh: \n",
    "\n",
    "| Use Case                  | Why Bokeh is Suitable                   |\n",
    "| ------------------------- | --------------------------------------- |\n",
    "| Interactive reporting     | Easy to build rich visual dashboards    |\n",
    "| Real-time data monitoring | Support for streaming data              |\n",
    "| Embedded data tools       | Generate embeddable HTML components     |\n",
    "| Custom web-based apps     | Use Bokeh Server for full interactivity |\n"
   ]
  },
  {
   "cell_type": "markdown",
   "id": "1f9a5de9-a4bc-411f-84cf-4c4a29f6bd60",
   "metadata": {},
   "source": [
    "**Q 17. Explain the difference between apply() and map() in Pandas.**"
   ]
  },
  {
   "cell_type": "markdown",
   "id": "f9027984-55d1-4686-8f8a-51e456c3045b",
   "metadata": {},
   "source": [
    "**Ans.** In Pandas, both apply() and map() are used for applying functions to data, but they differ in how, where, and what they apply functions to."
   ]
  },
  {
   "cell_type": "markdown",
   "id": "c6189a7e-acd1-4e41-9814-9a28b67a6892",
   "metadata": {},
   "source": [
    "Key Differences Between apply() and map():"
   ]
  },
  {
   "cell_type": "markdown",
   "id": "a36a6133-735b-4e2e-a974-567b28d10c42",
   "metadata": {},
   "source": [
    "| Feature       | `map()`                           | `apply()`                              |\n",
    "| ------------- | --------------------------------- | -------------------------------------- |\n",
    "| Works on      | Series only                       | Series or DataFrame                    |\n",
    "| Applies to    | Each element (scalar)             | Each element, row, or column           |\n",
    "| Function type | Only element-wise                 | Element-wise, row-wise, or column-wise |\n",
    "| Accepts       | Function, dict, or Series mapping | Function or lambda                     |\n",
    "| Return type   | Series (same shape as input)      | Depends (Series, DataFrame, scalar)    |\n"
   ]
  },
  {
   "cell_type": "markdown",
   "id": "8bfbe749-d7a9-4571-ab0d-2a4322e95f14",
   "metadata": {},
   "source": [
    " 1. Using map() – for Series element-wise transformation"
   ]
  },
  {
   "cell_type": "code",
   "execution_count": 61,
   "id": "98157f62-f6c3-49d4-817d-36d34e639f1f",
   "metadata": {},
   "outputs": [
    {
     "data": {
      "text/plain": [
       "0    10\n",
       "1    20\n",
       "2    30\n",
       "3    40\n",
       "dtype: int64"
      ]
     },
     "execution_count": 61,
     "metadata": {},
     "output_type": "execute_result"
    }
   ],
   "source": [
    "import pandas as pd\n",
    "\n",
    "s = pd.Series([1, 2, 3, 4])\n",
    "# Multiply each element by 10\n",
    "s.map(lambda x: x * 10)\n"
   ]
  },
  {
   "cell_type": "markdown",
   "id": "f97f655c-4eb4-4213-8890-a07b43ca78da",
   "metadata": {},
   "source": [
    "Use when applying a function to each element of a Series only."
   ]
  },
  {
   "cell_type": "markdown",
   "id": "0d1cede9-ea27-4262-890a-e155b1f3a4fd",
   "metadata": {},
   "source": [
    "You can also use a dictionary to map values:"
   ]
  },
  {
   "cell_type": "code",
   "execution_count": 62,
   "id": "107ff680-3d0c-4324-b459-2d170daf654d",
   "metadata": {},
   "outputs": [
    {
     "data": {
      "text/plain": [
       "0      🐱\n",
       "1      🐶\n",
       "2    NaN\n",
       "dtype: object"
      ]
     },
     "execution_count": 62,
     "metadata": {},
     "output_type": "execute_result"
    }
   ],
   "source": [
    "s = pd.Series(['cat', 'dog', 'mouse'])\n",
    "s.map({'cat': '🐱', 'dog': '🐶'})\n"
   ]
  },
  {
   "cell_type": "markdown",
   "id": "4f06b8fc-09a0-4047-bf0e-02a9740ed240",
   "metadata": {},
   "source": [
    "2. Using apply() – for Series or DataFrame:"
   ]
  },
  {
   "cell_type": "markdown",
   "id": "e502a193-5415-4a88-a69c-1bdd7d29ba73",
   "metadata": {},
   "source": [
    "- On a Series (like map()):"
   ]
  },
  {
   "cell_type": "code",
   "execution_count": 63,
   "id": "5d123c0f-aa91-4214-a4b0-80a4c95747fb",
   "metadata": {},
   "outputs": [
    {
     "data": {
      "text/plain": [
       "0        catcat\n",
       "1        dogdog\n",
       "2    mousemouse\n",
       "dtype: object"
      ]
     },
     "execution_count": 63,
     "metadata": {},
     "output_type": "execute_result"
    }
   ],
   "source": [
    "s.apply(lambda x: x * 2)"
   ]
  },
  {
   "cell_type": "markdown",
   "id": "3bac54e4-107f-46c1-81ed-27b8c49327d3",
   "metadata": {},
   "source": [
    "- On a DataFrame (row-wise or column-wise):"
   ]
  },
  {
   "cell_type": "code",
   "execution_count": 64,
   "id": "de59bf5d-3805-4cb7-a494-bb050f7cf972",
   "metadata": {},
   "outputs": [
    {
     "data": {
      "text/plain": [
       "A     6\n",
       "B    60\n",
       "dtype: int64"
      ]
     },
     "execution_count": 64,
     "metadata": {},
     "output_type": "execute_result"
    }
   ],
   "source": [
    "df = pd.DataFrame({\n",
    "    'A': [1, 2, 3],\n",
    "    'B': [10, 20, 30]\n",
    "})\n",
    "\n",
    "# Apply function to each column (axis=0 is default)\n",
    "df.apply(lambda col: col.sum())\n"
   ]
  },
  {
   "cell_type": "code",
   "execution_count": 65,
   "id": "48e0796d-b193-4dab-b6a8-577cd9700c83",
   "metadata": {},
   "outputs": [
    {
     "data": {
      "text/plain": [
       "0    11\n",
       "1    22\n",
       "2    33\n",
       "dtype: int64"
      ]
     },
     "execution_count": 65,
     "metadata": {},
     "output_type": "execute_result"
    }
   ],
   "source": [
    "# Apply to each row (axis=1)\n",
    "df.apply(lambda row: row['A'] + row['B'], axis=1)\n"
   ]
  },
  {
   "cell_type": "markdown",
   "id": "4bf1d54a-089e-4750-889a-1618c9e3ad6d",
   "metadata": {},
   "source": [
    "**Q 18. What are some advanced features of NumPy?**"
   ]
  },
  {
   "cell_type": "markdown",
   "id": "f76e2c03-6ef8-4ff7-9d3a-132e1dc656b8",
   "metadata": {},
   "source": [
    "**Ans.** Here are some advanced features of NumPy that go beyond basic usage, useful for efficient numerical computing and data manipulation:"
   ]
  },
  {
   "cell_type": "markdown",
   "id": "6b21117e-8fdf-487f-bdf4-5e73eaa373ef",
   "metadata": {},
   "source": [
    "1. Broadcasting: Allows operations on arrays of different shapes without explicit looping."
   ]
  },
  {
   "cell_type": "code",
   "execution_count": 66,
   "id": "aa24c417-90a1-4f0e-89bc-afe5eeddf1de",
   "metadata": {},
   "outputs": [
    {
     "name": "stdout",
     "output_type": "stream",
     "text": [
      "[3 4 5]\n"
     ]
    }
   ],
   "source": [
    "import numpy as np\n",
    "a = np.array([1, 2, 3])\n",
    "b = 2\n",
    "print(a + b)  # Output: [3 4 5]\n"
   ]
  },
  {
   "cell_type": "markdown",
   "id": "d913f973-28fa-4471-9dbf-89b4b5f0a589",
   "metadata": {},
   "source": [
    "2. Vectorization: Avoids Python loops by applying operations to entire arrays at once."
   ]
  },
  {
   "cell_type": "code",
   "execution_count": 67,
   "id": "2fd7183d-b60b-45fe-aefb-e5ad79fa5be9",
   "metadata": {},
   "outputs": [],
   "source": [
    "a = np.array([1, 2, 3, 4])\n",
    "b = a * 2  # Each element multiplied by 2\n"
   ]
  },
  {
   "cell_type": "markdown",
   "id": "5b930695-b538-487b-8f9c-72505fe6fd58",
   "metadata": {},
   "source": [
    "3. Masked Arrays:  Used for handling invalid or missing data."
   ]
  },
  {
   "cell_type": "code",
   "execution_count": 68,
   "id": "e1717de6-9175-4853-a156-7981323611ff",
   "metadata": {},
   "outputs": [],
   "source": [
    "import numpy.ma as ma\n",
    "data = ma.array([1, 2, -99, 4], mask=[0, 0, 1, 0])\n"
   ]
  },
  {
   "cell_type": "markdown",
   "id": "2f27aee4-8614-4a6f-afe4-37ee5de91876",
   "metadata": {},
   "source": [
    "4. Memory Mapping of Arrays: Allows loading large datasets without loading the entire file into memory."
   ]
  },
  {
   "cell_type": "code",
   "execution_count": 73,
   "id": "944b6661-442e-40a0-ad4f-85bc674c2404",
   "metadata": {},
   "outputs": [],
   "source": [
    "mmap_array = np.memmap('data.dat', dtype='float32', mode='r', shape=(1000, 1000))\n"
   ]
  },
  {
   "cell_type": "markdown",
   "id": "f96978e3-8ceb-419e-a7bc-c0a11c3607c3",
   "metadata": {},
   "source": [
    "> Benefit: Works efficiently with large datasets that don't fit in RAM."
   ]
  },
  {
   "cell_type": "markdown",
   "id": "e9cddc26-1ef4-47a6-a5e9-9381c774fb61",
   "metadata": {},
   "source": [
    "5. Advanced Indexing and Slicing: Supports boolean indexing, fancy indexing, and multidimensional slicing."
   ]
  },
  {
   "cell_type": "code",
   "execution_count": 74,
   "id": "f50e7343-d4ea-4222-aed1-f497d4355b78",
   "metadata": {},
   "outputs": [],
   "source": [
    "\n",
    "a = np.array([10, 20, 30, 40])\n",
    "b = a[[0, 2]]  # fancy indexing\n"
   ]
  },
  {
   "cell_type": "markdown",
   "id": "14901739-c605-47fb-af98-ab98385aef58",
   "metadata": {},
   "source": [
    "6. Structured Arrays: Arrays with compound data types (like a database table)."
   ]
  },
  {
   "cell_type": "code",
   "execution_count": 75,
   "id": "071a538f-5431-462e-b5af-307eaf9b1a87",
   "metadata": {},
   "outputs": [],
   "source": [
    "dt = np.dtype([('name', 'U10'), ('age', 'i4')])\n",
    "data = np.array([('Alice', 25), ('Bob', 30)], dtype=dt)\n"
   ]
  },
  {
   "cell_type": "markdown",
   "id": "94cbf84c-395b-4bed-a608-638f3cff26f8",
   "metadata": {},
   "source": [
    "7. Linear Algebra Module:  Efficient support for matrix operations:"
   ]
  },
  {
   "cell_type": "code",
   "execution_count": 76,
   "id": "204669d7-d6c8-42ef-8133-b732691a58fc",
   "metadata": {},
   "outputs": [],
   "source": [
    "from numpy.linalg import inv, eig\n",
    "A = np.array([[1, 2], [3, 4]])\n",
    "inverse = inv(A)\n",
    "eigenvalues, eigenvectors = eig(A)\n"
   ]
  },
  {
   "cell_type": "markdown",
   "id": "9f48654a-f843-4802-bed7-e54a9041d3fb",
   "metadata": {},
   "source": [
    "Benefit: Solves complex mathematical problems efficiently."
   ]
  },
  {
   "cell_type": "markdown",
   "id": "d9d862ea-7bb8-4656-a217-aa2c421d735c",
   "metadata": {},
   "source": [
    "8. Random Number Generation: Advanced random sampling with numpy.random or numpy.random.Generator:"
   ]
  },
  {
   "cell_type": "code",
   "execution_count": 77,
   "id": "5a07aafb-d6a5-45c7-b174-401c9725df42",
   "metadata": {},
   "outputs": [
    {
     "data": {
      "text/plain": [
       "array([[4, 6, 6],\n",
       "       [9, 1, 7]])"
      ]
     },
     "execution_count": 77,
     "metadata": {},
     "output_type": "execute_result"
    }
   ],
   "source": [
    "rng = np.random.default_rng()\n",
    "rng.integers(0, 10, size=(2, 3))\n"
   ]
  },
  {
   "cell_type": "markdown",
   "id": "6071b9a7-a2d6-46c2-ae04-217d4e750b89",
   "metadata": {},
   "source": [
    "Benefit: Reproducibility and better performance in simulations."
   ]
  },
  {
   "cell_type": "markdown",
   "id": "c6fe6e05-155e-41cb-9811-1c5610887415",
   "metadata": {},
   "source": [
    "9. FFT (Fast Fourier Transform): Used for signal processing and frequency analysis."
   ]
  },
  {
   "cell_type": "code",
   "execution_count": 78,
   "id": "78d30498-1338-4206-ab57-1c56dc4aeb5f",
   "metadata": {},
   "outputs": [
    {
     "data": {
      "text/plain": [
       "array([10.+0.j, -2.+2.j, -2.+0.j, -2.-2.j])"
      ]
     },
     "execution_count": 78,
     "metadata": {},
     "output_type": "execute_result"
    }
   ],
   "source": [
    "np.fft.fft([1, 2, 3, 4])\n"
   ]
  },
  {
   "cell_type": "markdown",
   "id": "d7130b65-8140-4543-b578-270c28fdace7",
   "metadata": {},
   "source": [
    "10. Integration with C/Fortran Code: NumPy arrays can be passed directly to C/C++ or Fortran routines for high performance computing."
   ]
  },
  {
   "cell_type": "markdown",
   "id": "4453b0ce-f883-44a5-9400-39ceae0d97ca",
   "metadata": {},
   "source": [
    "11. Universal Functions (ufuncs): Functions that operate element-wise on arrays with broadcasting support."
   ]
  },
  {
   "cell_type": "code",
   "execution_count": 79,
   "id": "c62f45e7-fc67-4e3d-ae27-5d62057d4027",
   "metadata": {},
   "outputs": [
    {
     "data": {
      "text/plain": [
       "array([4, 6])"
      ]
     },
     "execution_count": 79,
     "metadata": {},
     "output_type": "execute_result"
    }
   ],
   "source": [
    "np.add([1, 2], [3, 4])  # ufunc example\n"
   ]
  },
  {
   "cell_type": "markdown",
   "id": "57946063-6786-4619-911e-00e1b03ba509",
   "metadata": {},
   "source": [
    "**Q 19. How does Pandas simplify time series analysis?**"
   ]
  },
  {
   "cell_type": "markdown",
   "id": "82aeb159-b210-492e-aece-a8fa312d22f5",
   "metadata": {},
   "source": [
    "**Ans.** Pandas simplifies time series analysis through powerful, built-in features that handle datetime data efficiently. Here's how it helps:"
   ]
  },
  {
   "cell_type": "markdown",
   "id": "99a0390a-97f5-40f0-adfe-84406fdc21a4",
   "metadata": {},
   "source": [
    "1. DateTime Indexing:  Pandas can use dates as index values (DatetimeIndex), allowing time-aware slicing and operations."
   ]
  },
  {
   "cell_type": "code",
   "execution_count": 81,
   "id": "2467d50c-7fe3-4b08-acb0-356840ad8675",
   "metadata": {},
   "outputs": [
    {
     "name": "stdout",
     "output_type": "stream",
     "text": [
      "2024-01-02    20\n",
      "2024-01-03    30\n",
      "2024-01-04    40\n",
      "Freq: D, dtype: int64\n"
     ]
    }
   ],
   "source": [
    "import pandas as pd\n",
    "date_range = pd.date_range('2024-01-01', periods=5, freq='D')\n",
    "data = pd.Series([10, 20, 30, 40, 50], index=date_range)\n",
    "print(data['2024-01-02':'2024-01-04'])\n"
   ]
  },
  {
   "cell_type": "markdown",
   "id": "7136ce65-9fbb-4f41-be74-44253e5ad4c7",
   "metadata": {},
   "source": [
    "2. Automatic Date Parsing: Pandas automatically converts date strings to datetime objects."
   ]
  },
  {
   "cell_type": "code",
   "execution_count": 93,
   "id": "a8f81dbe-f6e9-412a-9c9c-b977dfda5417",
   "metadata": {},
   "outputs": [],
   "source": [
    "df = pd.read_csv('data.csv', parse_dates=['Date'])\n"
   ]
  },
  {
   "cell_type": "markdown",
   "id": "64747c99-a781-46e2-ac2b-bd6f53a179a3",
   "metadata": {},
   "source": [
    "3. Resampling: You can change the frequency of time series data (e.g., from daily to monthly)."
   ]
  },
  {
   "cell_type": "code",
   "execution_count": 95,
   "id": "99ae5781-d766-45ef-8200-fb49a2164c56",
   "metadata": {},
   "outputs": [],
   "source": [
    "monthly_avg = data.resample('ME').mean()\n"
   ]
  },
  {
   "cell_type": "markdown",
   "id": "cf5dea70-61f3-4357-88d2-2b4daf9ea8d6",
   "metadata": {},
   "source": [
    "4. Shifting and Lagging: Shift time series data forward or backward to create lags or leads."
   ]
  },
  {
   "cell_type": "code",
   "execution_count": 96,
   "id": "751e3d41-2546-4904-9435-b8e5817cb27f",
   "metadata": {},
   "outputs": [
    {
     "data": {
      "text/plain": [
       "2024-01-01     NaN\n",
       "2024-01-02    10.0\n",
       "2024-01-03    20.0\n",
       "2024-01-04    30.0\n",
       "2024-01-05    40.0\n",
       "Freq: D, dtype: float64"
      ]
     },
     "execution_count": 96,
     "metadata": {},
     "output_type": "execute_result"
    }
   ],
   "source": [
    "data.shift(1)  # Previous day’s data\n"
   ]
  },
  {
   "cell_type": "markdown",
   "id": "93a06b10-1837-43f1-bab9-206484bc0e03",
   "metadata": {},
   "source": [
    "5. Rolling and Window Functions: Perform operations over rolling windows, like moving averages."
   ]
  },
  {
   "cell_type": "code",
   "execution_count": 97,
   "id": "78ef32fb-5600-4956-b3e1-549ae57f0124",
   "metadata": {},
   "outputs": [
    {
     "data": {
      "text/plain": [
       "2024-01-01     NaN\n",
       "2024-01-02     NaN\n",
       "2024-01-03    20.0\n",
       "2024-01-04    30.0\n",
       "2024-01-05    40.0\n",
       "Freq: D, dtype: float64"
      ]
     },
     "execution_count": 97,
     "metadata": {},
     "output_type": "execute_result"
    }
   ],
   "source": [
    "data.rolling(window=3).mean()\n"
   ]
  },
  {
   "cell_type": "markdown",
   "id": "815d19f1-4efe-474c-8ee6-617c971da6a5",
   "metadata": {},
   "source": [
    "6. Time Zone Support: Built-in support for time zone conversion and localization."
   ]
  },
  {
   "cell_type": "code",
   "execution_count": 98,
   "id": "ab398b03-e3da-482b-b316-2247cc3c7c43",
   "metadata": {},
   "outputs": [],
   "source": [
    "data = data.tz_localize('UTC').tz_convert('Asia/Kolkata')\n"
   ]
  },
  {
   "cell_type": "markdown",
   "id": "9562147e-e917-4808-945a-47bd5e87130a",
   "metadata": {},
   "source": [
    "7. Period and Timedelta Objects: Work not only with timestamps but also with periods and durations."
   ]
  },
  {
   "cell_type": "code",
   "execution_count": 99,
   "id": "4ded3593-d6f8-489c-bf31-f8e94dd27440",
   "metadata": {},
   "outputs": [
    {
     "data": {
      "text/plain": [
       "Timedelta('7 days 00:00:00')"
      ]
     },
     "execution_count": 99,
     "metadata": {},
     "output_type": "execute_result"
    }
   ],
   "source": [
    "pd.Period('2024-06')\n",
    "pd.Timedelta(days=7)\n"
   ]
  },
  {
   "cell_type": "markdown",
   "id": "dfb85ae7-b07a-4e03-8dbc-8bfc033f89be",
   "metadata": {},
   "source": [
    "8. Built-in Plotting: With matplotlib, you can plot time series directly."
   ]
  },
  {
   "cell_type": "code",
   "execution_count": 100,
   "id": "8e0a6cdb-51e9-425d-938d-1ebde970dfa2",
   "metadata": {},
   "outputs": [
    {
     "data": {
      "text/plain": [
       "<Axes: >"
      ]
     },
     "execution_count": 100,
     "metadata": {},
     "output_type": "execute_result"
    },
    {
     "data": {
      "image/png": "[encoded data removed]",
      "text/plain": [
       "<Figure size 640x480 with 1 Axes>"
      ]
     },
     "metadata": {},
     "output_type": "display_data"
    }
   ],
   "source": [
    "data.plot()\n"
   ]
  },
  {
   "cell_type": "markdown",
   "id": "9615c37b-2618-4a0c-8c9b-239ad2062258",
   "metadata": {},
   "source": [
    "9. Handling Missing Dates: Pandas can easily fill missing time values or interpolate them."
   ]
  },
  {
   "cell_type": "code",
   "execution_count": 101,
   "id": "4264c877-b88a-4d68-b30d-547485c98e2e",
   "metadata": {},
   "outputs": [
    {
     "data": {
      "text/plain": [
       "2024-01-01 05:30:00+05:30    10\n",
       "2024-01-02 05:30:00+05:30    20\n",
       "2024-01-03 05:30:00+05:30    30\n",
       "2024-01-04 05:30:00+05:30    40\n",
       "2024-01-05 05:30:00+05:30    50\n",
       "Freq: D, dtype: int64"
      ]
     },
     "execution_count": 101,
     "metadata": {},
     "output_type": "execute_result"
    }
   ],
   "source": [
    "data.asfreq('D')  # Set daily frequency, fills NaN if missing\n",
    "data.interpolate()\n"
   ]
  },
  {
   "cell_type": "markdown",
   "id": "27680de8-9059-4500-a98e-26f7af45deeb",
   "metadata": {},
   "source": [
    "**Q 20. What is the role of a pivot table in Pandas?**"
   ]
  },
  {
   "cell_type": "markdown",
   "id": "95dc0db5-3829-446a-b682-954d45257374",
   "metadata": {},
   "source": [
    "**Ans.**  Role of a Pivot Table in Pandas:\n",
    "- A pivot table in Pandas is a powerful tool used to summarize, aggregate, and reshape data. It helps in transforming long-format data into a more understandable and analyzable format, especially useful for data exploration, reporting, and time series analysis."
   ]
  },
  {
   "cell_type": "markdown",
   "id": "059eff98-9a91-436e-a5fc-f8876424be3c",
   "metadata": {},
   "source": [
    "**Key Roles and Features of Pivot Tables in Pandas**"
   ]
  },
  {
   "cell_type": "markdown",
   "id": "2101689a-c696-4b22-af9c-d7f2eb44589c",
   "metadata": {},
   "source": [
    "1. Data Summarization: Pivot tables allow you to compute summary statistics (like mean, sum, count) across multiple categories."
   ]
  },
  {
   "cell_type": "code",
   "execution_count": 102,
   "id": "074b12c5-4757-43d1-9017-c7b6c0505271",
   "metadata": {},
   "outputs": [
    {
     "name": "stdout",
     "output_type": "stream",
     "text": [
      "Year        2023  2024\n",
      "Department            \n",
      "HR           100   120\n",
      "Sales        200   250\n"
     ]
    }
   ],
   "source": [
    "import pandas as pd\n",
    "\n",
    "df = pd.DataFrame({\n",
    "    'Department': ['Sales', 'Sales', 'HR', 'HR'],\n",
    "    'Year': [2023, 2024, 2023, 2024],\n",
    "    'Revenue': [200, 250, 100, 120]\n",
    "})\n",
    "\n",
    "pivot = pd.pivot_table(df, values='Revenue', index='Department', columns='Year', aggfunc='sum')\n",
    "print(pivot)\n"
   ]
  },
  {
   "cell_type": "markdown",
   "id": "97ee8a89-06a7-44ff-afe7-edec114c312e",
   "metadata": {},
   "source": [
    "2. Multi-Dimensional Aggregation: You can analyze data across multiple dimensions, like combining categories and time:"
   ]
  },
  {
   "cell_type": "code",
   "execution_count": 103,
   "id": "6442c88c-0694-456f-ac2f-9c8dd0935ae9",
   "metadata": {},
   "outputs": [
    {
     "data": {
      "text/html": [
       "<div>\n",
       "<style scoped>\n",
       "    .dataframe tbody tr th:only-of-type {\n",
       "        vertical-align: middle;\n",
       "    }\n",
       "\n",
       "    .dataframe tbody tr th {\n",
       "        vertical-align: top;\n",
       "    }\n",
       "\n",
       "    .dataframe thead th {\n",
       "        text-align: right;\n",
       "    }\n",
       "</style>\n",
       "<table border=\"1\" class=\"dataframe\">\n",
       "  <thead>\n",
       "    <tr style=\"text-align: right;\">\n",
       "      <th>Year</th>\n",
       "      <th>2023</th>\n",
       "      <th>2024</th>\n",
       "    </tr>\n",
       "    <tr>\n",
       "      <th>Department</th>\n",
       "      <th></th>\n",
       "      <th></th>\n",
       "    </tr>\n",
       "  </thead>\n",
       "  <tbody>\n",
       "    <tr>\n",
       "      <th>HR</th>\n",
       "      <td>100.0</td>\n",
       "      <td>120.0</td>\n",
       "    </tr>\n",
       "    <tr>\n",
       "      <th>Sales</th>\n",
       "      <td>200.0</td>\n",
       "      <td>250.0</td>\n",
       "    </tr>\n",
       "  </tbody>\n",
       "</table>\n",
       "</div>"
      ],
      "text/plain": [
       "Year         2023   2024\n",
       "Department              \n",
       "HR          100.0  120.0\n",
       "Sales       200.0  250.0"
      ]
     },
     "execution_count": 103,
     "metadata": {},
     "output_type": "execute_result"
    }
   ],
   "source": [
    "pd.pivot_table(df, values='Revenue', index=['Department'], columns=['Year'], aggfunc='mean')\n"
   ]
  },
  {
   "cell_type": "markdown",
   "id": "c18da8c0-4326-490f-a345-d4fec47ec45a",
   "metadata": {},
   "source": [
    "3. Custom Aggregation Functions: Use functions like sum, mean, min, max, count, or even custom functions."
   ]
  },
  {
   "cell_type": "code",
   "execution_count": 104,
   "id": "f39bfd19-d838-4037-b114-0b361d7fc872",
   "metadata": {},
   "outputs": [
    {
     "data": {
      "text/html": [
       "<div>\n",
       "<style scoped>\n",
       "    .dataframe tbody tr th:only-of-type {\n",
       "        vertical-align: middle;\n",
       "    }\n",
       "\n",
       "    .dataframe tbody tr th {\n",
       "        vertical-align: top;\n",
       "    }\n",
       "\n",
       "    .dataframe thead th {\n",
       "        text-align: right;\n",
       "    }\n",
       "</style>\n",
       "<table border=\"1\" class=\"dataframe\">\n",
       "  <thead>\n",
       "    <tr style=\"text-align: right;\">\n",
       "      <th></th>\n",
       "      <th>Revenue</th>\n",
       "    </tr>\n",
       "    <tr>\n",
       "      <th>Department</th>\n",
       "      <th></th>\n",
       "    </tr>\n",
       "  </thead>\n",
       "  <tbody>\n",
       "    <tr>\n",
       "      <th>HR</th>\n",
       "      <td>2</td>\n",
       "    </tr>\n",
       "    <tr>\n",
       "      <th>Sales</th>\n",
       "      <td>2</td>\n",
       "    </tr>\n",
       "  </tbody>\n",
       "</table>\n",
       "</div>"
      ],
      "text/plain": [
       "            Revenue\n",
       "Department         \n",
       "HR                2\n",
       "Sales             2"
      ]
     },
     "execution_count": 104,
     "metadata": {},
     "output_type": "execute_result"
    }
   ],
   "source": [
    "pd.pivot_table(df, values='Revenue', index='Department', aggfunc='count')\n"
   ]
  },
  {
   "cell_type": "markdown",
   "id": "5dd18ce6-be37-4382-863a-01cdd3c26afb",
   "metadata": {},
   "source": [
    "4. Handling Missing Data: Fill in missing combinations automatically or with a specified value."
   ]
  },
  {
   "cell_type": "code",
   "execution_count": 105,
   "id": "c18cfe30-a3df-4b80-ac4e-320e0baf86c9",
   "metadata": {},
   "outputs": [
    {
     "data": {
      "text/html": [
       "<div>\n",
       "<style scoped>\n",
       "    .dataframe tbody tr th:only-of-type {\n",
       "        vertical-align: middle;\n",
       "    }\n",
       "\n",
       "    .dataframe tbody tr th {\n",
       "        vertical-align: top;\n",
       "    }\n",
       "\n",
       "    .dataframe thead th {\n",
       "        text-align: right;\n",
       "    }\n",
       "</style>\n",
       "<table border=\"1\" class=\"dataframe\">\n",
       "  <thead>\n",
       "    <tr style=\"text-align: right;\">\n",
       "      <th>Year</th>\n",
       "      <th>2023</th>\n",
       "      <th>2024</th>\n",
       "    </tr>\n",
       "    <tr>\n",
       "      <th>Department</th>\n",
       "      <th></th>\n",
       "      <th></th>\n",
       "    </tr>\n",
       "  </thead>\n",
       "  <tbody>\n",
       "    <tr>\n",
       "      <th>HR</th>\n",
       "      <td>100.0</td>\n",
       "      <td>120.0</td>\n",
       "    </tr>\n",
       "    <tr>\n",
       "      <th>Sales</th>\n",
       "      <td>200.0</td>\n",
       "      <td>250.0</td>\n",
       "    </tr>\n",
       "  </tbody>\n",
       "</table>\n",
       "</div>"
      ],
      "text/plain": [
       "Year         2023   2024\n",
       "Department              \n",
       "HR          100.0  120.0\n",
       "Sales       200.0  250.0"
      ]
     },
     "execution_count": 105,
     "metadata": {},
     "output_type": "execute_result"
    }
   ],
   "source": [
    "pd.pivot_table(df, values='Revenue', index='Department', columns='Year', fill_value=0)\n"
   ]
  },
  {
   "cell_type": "markdown",
   "id": "a1af0126-101f-403e-be59-fd18f4e7f84a",
   "metadata": {},
   "source": [
    "5. Data Reshaping: Transforms a long-format table into a wide-format table—ideal for reports or dashboards."
   ]
  },
  {
   "cell_type": "markdown",
   "id": "e66430f1-452f-4692-bf54-389de79895e4",
   "metadata": {},
   "source": [
    "**Q 21. Why is NumPy’s array slicing faster than Python’s list slicing?**"
   ]
  },
  {
   "cell_type": "markdown",
   "id": "08e8d918-eec6-4104-afc2-5e8eb775e20c",
   "metadata": {},
   "source": [
    "**Ans.** NumPy’s array slicing is significantly faster than Python’s list slicing due to lower-level optimizations, memory layout, and efficient data handling. Here's a detailed breakdown:"
   ]
  },
  {
   "cell_type": "markdown",
   "id": "5de5f626-1772-426e-9fab-caac9191c858",
   "metadata": {},
   "source": [
    "1. **Contiguous Memory Layout:**\n",
    "    - NumPy arrays store data in a single, contiguous block of memory.\n",
    "    - Python lists store references (pointers) to objects, scattered in memory.\n",
    "\n",
    "📌 Result: NumPy can access and slice memory directly using pointer arithmetic, while Python must follow each reference individually."
   ]
  },
  {
   "cell_type": "markdown",
   "id": "541d28b3-4519-4b8f-9c9c-ebe2ce0a2343",
   "metadata": {},
   "source": [
    "2. **Fixed Data Type (Homogeneous Arrays):**\n",
    "    - NumPy arrays hold elements of the same type (e.g., all float64).\n",
    "    - Python lists can store mixed types (int, float, string, etc.).\n",
    "\n",
    "📌 Result: NumPy performs operations using efficient C-level routines without checking the data type of each element."
   ]
  },
  {
   "cell_type": "markdown",
   "id": "904b8947-c420-4079-9652-0fa023a57667",
   "metadata": {},
   "source": [
    "3. **Slicing Returns a View (Not a Copy:**\n",
    "    - NumPy slicing returns a view of the original array (no data copy).\n",
    "    - Python list slicing creates a new list, copying the elements."
   ]
  },
  {
   "cell_type": "code",
   "execution_count": 107,
   "id": "ae9c3037-ff15-40e8-9fe2-41adbdb847ee",
   "metadata": {},
   "outputs": [],
   "source": [
    "import numpy as np\n",
    "a = np.array([1, 2, 3, 4])\n",
    "b = a[1:3]  # No data copied\n"
   ]
  },
  {
   "cell_type": "markdown",
   "id": "00a61b8a-fb24-48c0-9af8-7a2973d1bd30",
   "metadata": {},
   "source": [
    "📌 Result: NumPy avoids the overhead of copying, making slicing fast and memory-efficient."
   ]
  },
  {
   "cell_type": "markdown",
   "id": "6edadf01-cc8a-4914-935d-68262e989397",
   "metadata": {},
   "source": [
    "4. **Vectorized and Compiled Operations:**\n",
    "    - NumPy’s core is written in C and Fortran, allowing fast execution.\n",
    "    - Python list operations are handled in the Python interpreter, which is slower.\n",
    "\n",
    "📌 Result: NumPy avoids the performance overhead of interpreted code."
   ]
  },
  {
   "cell_type": "markdown",
   "id": "037ca7a6-2108-47bd-8412-6be098c991f8",
   "metadata": {},
   "source": [
    "5. **Low-Level Optimizations:**\n",
    "    - NumPy uses SIMD, multi-threading, and other CPU-level optimizations.\n",
    "    - Python lists use general-purpose object handling, not optimized for numerical speed.\n"
   ]
  },
  {
   "cell_type": "markdown",
   "id": "95eab34f-3a17-4b06-b5cc-452535edc367",
   "metadata": {},
   "source": [
    "**Performance Comparison**"
   ]
  },
  {
   "cell_type": "code",
   "execution_count": 108,
   "id": "81e3654c-40b1-4c60-8b30-c4310c0cf99a",
   "metadata": {},
   "outputs": [
    {
     "name": "stdout",
     "output_type": "stream",
     "text": [
      "NumPy slicing time: 0.0028181076049804688\n",
      "Python list slicing time: 0.07233166694641113\n"
     ]
    }
   ],
   "source": [
    "import numpy as np\n",
    "import time\n",
    "\n",
    "# NumPy array\n",
    "a_np = np.arange(1_000_000)\n",
    "start = time.time()\n",
    "b_np = a_np[100000:900000]\n",
    "print(\"NumPy slicing time:\", time.time() - start)\n",
    "\n",
    "# Python list\n",
    "a_list = list(range(1_000_000))\n",
    "start = time.time()\n",
    "b_list = a_list[100000:900000]\n",
    "print(\"Python list slicing time:\", time.time() - start)\n"
   ]
  },
  {
   "cell_type": "markdown",
   "id": "fe40f609-36b7-4ed2-985e-9a78126f8047",
   "metadata": {},
   "source": [
    "**🟢 Result: NumPy slicing is much faster and more efficient on large data.**"
   ]
  },
  {
   "cell_type": "markdown",
   "id": "8fd14bb0-0b34-44b8-bba6-894c76c77911",
   "metadata": {},
   "source": [
    "**Summary Table**\n",
    "\n",
    "| Feature        | NumPy Array              | Python List               |\n",
    "| -------------- | ------------------------ | ------------------------- |\n",
    "| Memory Layout  | Contiguous block         | Non-contiguous (pointers) |\n",
    "| Data Type      | Fixed (homogeneous)      | Dynamic (heterogeneous)   |\n",
    "| Slicing        | Returns a view (no copy) | Returns a new copied list |\n",
    "| Implementation | Compiled C/Fortran       | Pure Python               |\n",
    "| Performance    | High (optimized)         | Slower                    |\n"
   ]
  },
  {
   "cell_type": "markdown",
   "id": "8c120b36-de22-46dc-919b-2152ff681936",
   "metadata": {},
   "source": [
    "**Q 22.  What are some common use cases for Seaborn?**"
   ]
  },
  {
   "cell_type": "markdown",
   "id": "18745ba1-e5bf-468c-b119-b99a59accf88",
   "metadata": {},
   "source": [
    "**Ans.** Seaborn is a powerful Python library built on top of Matplotlib that simplifies the process of creating statistical visualizations. It's widely used in data analysis, exploration, and storytelling."
   ]
  },
  {
   "cell_type": "markdown",
   "id": "b97d50ae-5fe5-4285-9c04-4505f928a399",
   "metadata": {},
   "source": [
    "1. **Exploratory Data Analysis (EDA):**\n",
    "    - Purpose: Quickly understand patterns, distributions, and relationships in your dataset."
   ]
  },
  {
   "cell_type": "markdown",
   "id": "66018b81-48f3-4ea5-ab6d-a360fa3bcc7e",
   "metadata": {},
   "source": [
    "2. **Visualizing Distributions:**\n",
    "    - Purpose: Show how data is distributed using histograms, KDE plots, and more."
   ]
  },
  {
   "cell_type": "markdown",
   "id": "26fa0d1a-7748-464b-a7d9-f7c3d7908a76",
   "metadata": {},
   "source": [
    "3. **Analyzing Relationships Between Variables:**\n",
    "    - Purpose: Identify correlations or trends between two or more variables."
   ]
  },
  {
   "cell_type": "markdown",
   "id": "e2b88137-533b-43f8-b18a-6f0a723a3f80",
   "metadata": {},
   "source": [
    "4. **Categorical Data Visualization:**\n",
    "    - Purpose: Compare values across categories or groups."
   ]
  },
  {
   "cell_type": "markdown",
   "id": "884d429e-e145-4055-82ef-2c7f4fbe7bc3",
   "metadata": {},
   "source": [
    "5. **Heatmaps for Correlation and Grids:**\n",
    "    - Purpose: Show matrix-style data such as correlation matrices."
   ]
  },
  {
   "cell_type": "markdown",
   "id": "e9a58d06-8851-454f-8ed5-91abac5ed58a",
   "metadata": {},
   "source": [
    "6. **Multivariate Analysis:**\n",
    "    - Purpose: Visualize multiple variables at once to see complex relationships."
   ]
  },
  {
   "cell_type": "markdown",
   "id": "11db27b2-a30f-4d98-9866-a8bf68c72018",
   "metadata": {},
   "source": [
    "7. **Time Series Visualization:**\n",
    "    - Purpose: Plot trends over time with enhanced style and clarity."
   ]
  },
  {
   "cell_type": "markdown",
   "id": "f97b1377-0240-42c6-a0f4-78042c4ed4f3",
   "metadata": {},
   "source": [
    " 8. **Data Storytelling and Presentation;**\n",
    "    - Purpose: Create visually attractive and informative plots for reports or dashboards."
   ]
  },
  {
   "cell_type": "markdown",
   "id": "d95f90e9-eb4d-4614-93d1-e955d1038ae3",
   "metadata": {},
   "source": [
    "**Summary Table:**\n",
    "\n",
    "| Use Case                 | Seaborn Plot Type                   |\n",
    "| ------------------------ | ----------------------------------- |\n",
    "| Distribution Analysis    | `histplot`, `kdeplot`, `violinplot` |\n",
    "| Correlation & Heatmaps   | `heatmap`, `clustermap`             |\n",
    "| Trend Analysis           | `lineplot`, `regplot`               |\n",
    "| Categorical Comparison   | `barplot`, `boxplot`, `countplot`   |\n",
    "| Multivariate Exploration | `pairplot`, `catplot`               |\n",
    "| Data Cleaning & EDA      | `pairplot`, `heatmap`, `countplot`  |\n"
   ]
  },
  {
   "cell_type": "markdown",
   "id": "586cfe5e-9b1b-4cfa-b48c-88d8105ce9a1",
   "metadata": {},
   "source": [
    "#     Practical Questions"
   ]
  },
  {
   "cell_type": "markdown",
   "id": "80e09493-4494-4eab-9063-0f5fa6331534",
   "metadata": {},
   "source": [
    "**Q 1.  How do you create a 2D NumPy array and calculate the sum of each row?**"
   ]
  },
  {
   "cell_type": "markdown",
   "id": "c154c00f-d04d-48f2-92ba-0f9b70ae0f5d",
   "metadata": {},
   "source": [
    "**Ans.** To create a 2D NumPy array and calculate the sum of each row, follow these steps:"
   ]
  },
  {
   "cell_type": "code",
   "execution_count": 1,
   "id": "7c08415e-b9ea-4691-a3c5-7a5d4669fc9e",
   "metadata": {},
   "outputs": [
    {
     "name": "stdout",
     "output_type": "stream",
     "text": [
      "2D Array:\n",
      " [[1 2 3]\n",
      " [4 5 6]\n",
      " [7 8 9]]\n",
      "Sum of each row: [ 6 15 24]\n"
     ]
    }
   ],
   "source": [
    "import numpy as np\n",
    "\n",
    "# Step 1: Create a 2D NumPy array\n",
    "array_2d = np.array([[1, 2, 3],\n",
    "                     [4, 5, 6],\n",
    "                     [7, 8, 9]])\n",
    "\n",
    "# Step 2: Calculate the sum of each row\n",
    "row_sums = np.sum(array_2d, axis=1)\n",
    "\n",
    "# Display the result\n",
    "print(\"2D Array:\\n\", array_2d)\n",
    "print(\"Sum of each row:\", row_sums)\n"
   ]
  },
  {
   "cell_type": "markdown",
   "id": "03033140-76c4-4e18-944f-57545eb72320",
   "metadata": {},
   "source": [
    "**Q 2.  Write a Pandas script to find the mean of a specific column in a DataFrame.**"
   ]
  },
  {
   "cell_type": "markdown",
   "id": "b21402a3-29da-4526-a71b-c2382f50a763",
   "metadata": {},
   "source": [
    "**Ans.** Pandas script to find the mean of a specific column in a DataFrame:"
   ]
  },
  {
   "cell_type": "code",
   "execution_count": 2,
   "id": "5c391922-f7c8-4f8d-bfc5-a364f39a3178",
   "metadata": {},
   "outputs": [
    {
     "name": "stdout",
     "output_type": "stream",
     "text": [
      "Mean Salary: 65000.0\n"
     ]
    }
   ],
   "source": [
    "import pandas as pd\n",
    "\n",
    "# Step 1: Create a sample DataFrame\n",
    "data = {\n",
    "    'Name': ['Alice', 'Bob', 'Charlie', 'David'],\n",
    "    'Age': [25, 30, 35, 40],\n",
    "    'Salary': [50000, 60000, 70000, 80000]\n",
    "}\n",
    "\n",
    "df = pd.DataFrame(data)\n",
    "\n",
    "# Step 2: Calculate the mean of the 'Salary' column\n",
    "mean_salary = df['Salary'].mean()\n",
    "\n",
    "# Step 3: Print the result\n",
    "print(\"Mean Salary:\", mean_salary)\n"
   ]
  },
  {
   "cell_type": "markdown",
   "id": "cc19238b-2b9a-41b1-b701-7907b69dcaaa",
   "metadata": {},
   "source": [
    "**Q 3.   Create a scatter plot using Matplotlib.**"
   ]
  },
  {
   "cell_type": "markdown",
   "id": "d0e20d04-ca5d-4900-9e44-e3e72a75478f",
   "metadata": {},
   "source": [
    "**Ans.** Here's a simple script to create a scatter plot using Matplotlib:"
   ]
  },
  {
   "cell_type": "code",
   "execution_count": 3,
   "id": "c7a9f00f-02d6-4e69-8799-9b8127919ec6",
   "metadata": {},
   "outputs": [
    {
     "data": {
      "image/png": "[encoded data removed]",
      "text/plain": [
       "<Figure size 640x480 with 1 Axes>"
      ]
     },
     "metadata": {},
     "output_type": "display_data"
    }
   ],
   "source": [
    "import matplotlib.pyplot as plt\n",
    "\n",
    "# Step 1: Sample data\n",
    "x = [10, 20, 30, 40, 50]\n",
    "y = [15, 25, 35, 30, 45]\n",
    "\n",
    "# Step 2: Create scatter plot\n",
    "plt.scatter(x, y, color='blue', marker='o')\n",
    "\n",
    "# Step 3: Add titles and labels\n",
    "plt.title(\"Sample Scatter Plot\")\n",
    "plt.xlabel(\"X-axis Values\")\n",
    "plt.ylabel(\"Y-axis Values\")\n",
    "\n",
    "# Step 4: Display the plot\n",
    "plt.show()\n"
   ]
  },
  {
   "cell_type": "markdown",
   "id": "98043a93-9740-418b-802f-87c6883ad1db",
   "metadata": {},
   "source": [
    "**Q 4.  How do you calculate the correlation matrix using Seaborn and visualize it with a heatmap.**"
   ]
  },
  {
   "cell_type": "markdown",
   "id": "c3461bdc-a4a1-450d-9e3e-4903dfe7ffc6",
   "metadata": {},
   "source": [
    "**Ans.** To calculate a correlation matrix and visualize it with a heatmap using Seaborn, follow this approach:"
   ]
  },
  {
   "cell_type": "code",
   "execution_count": 4,
   "id": "64baff89-67fe-4eab-9891-e7c27c0ec897",
   "metadata": {},
   "outputs": [
    {
     "data": {
      "image/png": "[encoded data removed]",
      "text/plain": [
       "<Figure size 640x480 with 2 Axes>"
      ]
     },
     "metadata": {},
     "output_type": "display_data"
    }
   ],
   "source": [
    "import pandas as pd\n",
    "import seaborn as sns\n",
    "import matplotlib.pyplot as plt\n",
    "\n",
    "# Step 1: Create a sample DataFrame\n",
    "data = {\n",
    "    'Math': [85, 90, 78, 92, 88],\n",
    "    'Physics': [80, 85, 75, 89, 86],\n",
    "    'Chemistry': [78, 83, 77, 91, 85],\n",
    "    'Biology': [82, 88, 80, 90, 87]\n",
    "}\n",
    "\n",
    "df = pd.DataFrame(data)\n",
    "\n",
    "# Step 2: Calculate the correlation matrix\n",
    "correlation_matrix = df.corr()\n",
    "\n",
    "# Step 3: Create a heatmap\n",
    "sns.heatmap(correlation_matrix, annot=True, cmap='coolwarm', fmt=\".2f\")\n",
    "\n",
    "# Step 4: Add title and show the plot\n",
    "plt.title(\"Correlation Matrix Heatmap\")\n",
    "plt.show()\n"
   ]
  },
  {
   "cell_type": "markdown",
   "id": "68e64a6c-031f-400c-b371-4e17d8e15754",
   "metadata": {},
   "source": [
    "**Q 5.  Generate a bar plot using Plotly.**"
   ]
  },
  {
   "cell_type": "markdown",
   "id": "778acf9f-9791-49ca-9cc6-2c3fef4229ab",
   "metadata": {},
   "source": [
    "**Ans.** Here's how you can generate a bar plot using Plotly (specifically with plotly.express, the high-level interface):"
   ]
  },
  {
   "cell_type": "code",
   "execution_count": 5,
   "id": "1343803d-ea80-4dd7-990e-8dcafc0024de",
   "metadata": {},
   "outputs": [
    {
     "data": {
      "application/vnd.plotly.v1+json": {
       "config": {
        "plotlyServerURL": "https://plot.ly"
       },
       "data": [
        {
         "hovertemplate": "Department=%{x}<br>Employees=%{y}<extra></extra>",
         "legendgroup": "Sales",
         "marker": {
          "color": "#636efa",
          "pattern": {
           "shape": ""
          }
         },
         "name": "Sales",
         "orientation": "v",
         "showlegend": true,
         "textposition": "auto",
         "type": "bar",
         "x": [
          "Sales"
         ],
         "xaxis": "x",
         "y": {
          "_inputArray": {
           "0": 50,
           "bdata": "Mg==",
           "dtype": "i1",
           "shape": "1"
          },
          "bdata": "Mg==",
          "dtype": "i1"
         },
         "yaxis": "y"
        },
        {
         "hovertemplate": "Department=%{x}<br>Employees=%{y}<extra></extra>",
         "legendgroup": "Marketing",
         "marker": {
          "color": "#EF553B",
          "pattern": {
           "shape": ""
          }
         },
         "name": "Marketing",
         "orientation": "v",
         "showlegend": true,
         "textposition": "auto",
         "type": "bar",
         "x": [
          "Marketing"
         ],
         "xaxis": "x",
         "y": {
          "_inputArray": {
           "0": 40,
           "bdata": "KA==",
           "dtype": "i1",
           "shape": "1"
          },
          "bdata": "KA==",
          "dtype": "i1"
         },
         "yaxis": "y"
        },
        {
         "hovertemplate": "Department=%{x}<br>Employees=%{y}<extra></extra>",
         "legendgroup": "HR",
         "marker": {
          "color": "#00cc96",
          "pattern": {
           "shape": ""
          }
         },
         "name": "HR",
         "orientation": "v",
         "showlegend": true,
         "textposition": "auto",
         "type": "bar",
         "x": [
          "HR"
         ],
         "xaxis": "x",
         "y": {
          "_inputArray": {
           "0": 20,
           "bdata": "FA==",
           "dtype": "i1",
           "shape": "1"
          },
          "bdata": "FA==",
          "dtype": "i1"
         },
         "yaxis": "y"
        },
        {
         "hovertemplate": "Department=%{x}<br>Employees=%{y}<extra></extra>",
         "legendgroup": "IT",
         "marker": {
          "color": "#ab63fa",
          "pattern": {
           "shape": ""
          }
         },
         "name": "IT",
         "orientation": "v",
         "showlegend": true,
         "textposition": "auto",
         "type": "bar",
         "x": [
          "IT"
         ],
         "xaxis": "x",
         "y": {
          "_inputArray": {
           "0": 35,
           "bdata": "Iw==",
           "dtype": "i1",
           "shape": "1"
          },
          "bdata": "Iw==",
          "dtype": "i1"
         },
         "yaxis": "y"
        },
        {
         "hovertemplate": "Department=%{x}<br>Employees=%{y}<extra></extra>",
         "legendgroup": "Finance",
         "marker": {
          "color": "#FFA15A",
          "pattern": {
           "shape": ""
          }
         },
         "name": "Finance",
         "orientation": "v",
         "showlegend": true,
         "textposition": "auto",
         "type": "bar",
         "x": [
          "Finance"
         ],
         "xaxis": "x",
         "y": {
          "_inputArray": {
           "0": 25,
           "bdata": "GQ==",
           "dtype": "i1",
           "shape": "1"
          },
          "bdata": "GQ==",
          "dtype": "i1"
         },
         "yaxis": "y"
        }
       ],
       "layout": {
        "autosize": true,
        "barmode": "relative",
        "legend": {
         "title": {
          "text": "Department"
         },
         "tracegroupgap": 0
        },
        "template": {
         "data": {
          "bar": [
           {
            "error_x": {
             "color": "#2a3f5f"
            },
            "error_y": {
             "color": "#2a3f5f"
            },
            "marker": {
             "line": {
              "color": "#E5ECF6",
              "width": 0.5
             },
             "pattern": {
              "fillmode": "overlay",
              "size": 10,
              "solidity": 0.2
             }
            },
            "type": "bar"
           }
          ],
          "barpolar": [
           {
            "marker": {
             "line": {
              "color": "#E5ECF6",
              "width": 0.5
             },
             "pattern": {
              "fillmode": "overlay",
              "size": 10,
              "solidity": 0.2
             }
            },
            "type": "barpolar"
           }
          ],
          "carpet": [
           {
            "aaxis": {
             "endlinecolor": "#2a3f5f",
             "gridcolor": "white",
             "linecolor": "white",
             "minorgridcolor": "white",
             "startlinecolor": "#2a3f5f"
            },
            "baxis": {
             "endlinecolor": "#2a3f5f",
             "gridcolor": "white",
             "linecolor": "white",
             "minorgridcolor": "white",
             "startlinecolor": "#2a3f5f"
            },
            "type": "carpet"
           }
          ],
          "choropleth": [
           {
            "colorbar": {
             "outlinewidth": 0,
             "ticks": ""
            },
            "type": "choropleth"
           }
          ],
          "contour": [
           {
            "colorbar": {
             "outlinewidth": 0,
             "ticks": ""
            },
            "colorscale": [
             [
              0,
              "#0d0887"
             ],
             [
              0.1111111111111111,
              "#46039f"
             ],
             [
              0.2222222222222222,
              "#7201a8"
             ],
             [
              0.3333333333333333,
              "#9c179e"
             ],
             [
              0.4444444444444444,
              "#bd3786"
             ],
             [
              0.5555555555555556,
              "#d8576b"
             ],
             [
              0.6666666666666666,
              "#ed7953"
             ],
             [
              0.7777777777777778,
              "#fb9f3a"
             ],
             [
              0.8888888888888888,
              "#fdca26"
             ],
             [
              1,
              "#f0f921"
             ]
            ],
            "type": "contour"
           }
          ],
          "contourcarpet": [
           {
            "colorbar": {
             "outlinewidth": 0,
             "ticks": ""
            },
            "type": "contourcarpet"
           }
          ],
          "heatmap": [
           {
            "colorbar": {
             "outlinewidth": 0,
             "ticks": ""
            },
            "colorscale": [
             [
              0,
              "#0d0887"
             ],
             [
              0.1111111111111111,
              "#46039f"
             ],
             [
              0.2222222222222222,
              "#7201a8"
             ],
             [
              0.3333333333333333,
              "#9c179e"
             ],
             [
              0.4444444444444444,
              "#bd3786"
             ],
             [
              0.5555555555555556,
              "#d8576b"
             ],
             [
              0.6666666666666666,
              "#ed7953"
             ],
             [
              0.7777777777777778,
              "#fb9f3a"
             ],
             [
              0.8888888888888888,
              "#fdca26"
             ],
             [
              1,
              "#f0f921"
             ]
            ],
            "type": "heatmap"
           }
          ],
          "histogram": [
           {
            "marker": {
             "pattern": {
              "fillmode": "overlay",
              "size": 10,
              "solidity": 0.2
             }
            },
            "type": "histogram"
           }
          ],
          "histogram2d": [
           {
            "colorbar": {
             "outlinewidth": 0,
             "ticks": ""
            },
            "colorscale": [
             [
              0,
              "#0d0887"
             ],
             [
              0.1111111111111111,
              "#46039f"
             ],
             [
              0.2222222222222222,
              "#7201a8"
             ],
             [
              0.3333333333333333,
              "#9c179e"
             ],
             [
              0.4444444444444444,
              "#bd3786"
             ],
             [
              0.5555555555555556,
              "#d8576b"
             ],
             [
              0.6666666666666666,
              "#ed7953"
             ],
             [
              0.7777777777777778,
              "#fb9f3a"
             ],
             [
              0.8888888888888888,
              "#fdca26"
             ],
             [
              1,
              "#f0f921"
             ]
            ],
            "type": "histogram2d"
           }
          ],
          "histogram2dcontour": [
           {
            "colorbar": {
             "outlinewidth": 0,
             "ticks": ""
            },
            "colorscale": [
             [
              0,
              "#0d0887"
             ],
             [
              0.1111111111111111,
              "#46039f"
             ],
             [
              0.2222222222222222,
              "#7201a8"
             ],
             [
              0.3333333333333333,
              "#9c179e"
             ],
             [
              0.4444444444444444,
              "#bd3786"
             ],
             [
              0.5555555555555556,
              "#d8576b"
             ],
             [
              0.6666666666666666,
              "#ed7953"
             ],
             [
              0.7777777777777778,
              "#fb9f3a"
             ],
             [
              0.8888888888888888,
              "#fdca26"
             ],
             [
              1,
              "#f0f921"
             ]
            ],
            "type": "histogram2dcontour"
           }
          ],
          "mesh3d": [
           {
            "colorbar": {
             "outlinewidth": 0,
             "ticks": ""
            },
            "type": "mesh3d"
           }
          ],
          "parcoords": [
           {
            "line": {
             "colorbar": {
              "outlinewidth": 0,
              "ticks": ""
             }
            },
            "type": "parcoords"
           }
          ],
          "pie": [
           {
            "automargin": true,
            "type": "pie"
           }
          ],
          "scatter": [
           {
            "fillpattern": {
             "fillmode": "overlay",
             "size": 10,
             "solidity": 0.2
            },
            "type": "scatter"
           }
          ],
          "scatter3d": [
           {
            "line": {
             "colorbar": {
              "outlinewidth": 0,
              "ticks": ""
             }
            },
            "marker": {
             "colorbar": {
              "outlinewidth": 0,
              "ticks": ""
             }
            },
            "type": "scatter3d"
           }
          ],
          "scattercarpet": [
           {
            "marker": {
             "colorbar": {
              "outlinewidth": 0,
              "ticks": ""
             }
            },
            "type": "scattercarpet"
           }
          ],
          "scattergeo": [
           {
            "marker": {
             "colorbar": {
              "outlinewidth": 0,
              "ticks": ""
             }
            },
            "type": "scattergeo"
           }
          ],
          "scattergl": [
           {
            "marker": {
             "colorbar": {
              "outlinewidth": 0,
              "ticks": ""
             }
            },
            "type": "scattergl"
           }
          ],
          "scattermap": [
           {
            "marker": {
             "colorbar": {
              "outlinewidth": 0,
              "ticks": ""
             }
            },
            "type": "scattermap"
           }
          ],
          "scattermapbox": [
           {
            "marker": {
             "colorbar": {
              "outlinewidth": 0,
              "ticks": ""
             }
            },
            "type": "scattermapbox"
           }
          ],
          "scatterpolar": [
           {
            "marker": {
             "colorbar": {
              "outlinewidth": 0,
              "ticks": ""
             }
            },
            "type": "scatterpolar"
           }
          ],
          "scatterpolargl": [
           {
            "marker": {
             "colorbar": {
              "outlinewidth": 0,
              "ticks": ""
             }
            },
            "type": "scatterpolargl"
           }
          ],
          "scatterternary": [
           {
            "marker": {
             "colorbar": {
              "outlinewidth": 0,
              "ticks": ""
             }
            },
            "type": "scatterternary"
           }
          ],
          "surface": [
           {
            "colorbar": {
             "outlinewidth": 0,
             "ticks": ""
            },
            "colorscale": [
             [
              0,
              "#0d0887"
             ],
             [
              0.1111111111111111,
              "#46039f"
             ],
             [
              0.2222222222222222,
              "#7201a8"
             ],
             [
              0.3333333333333333,
              "#9c179e"
             ],
             [
              0.4444444444444444,
              "#bd3786"
             ],
             [
              0.5555555555555556,
              "#d8576b"
             ],
             [
              0.6666666666666666,
              "#ed7953"
             ],
             [
              0.7777777777777778,
              "#fb9f3a"
             ],
             [
              0.8888888888888888,
              "#fdca26"
             ],
             [
              1,
              "#f0f921"
             ]
            ],
            "type": "surface"
           }
          ],
          "table": [
           {
            "cells": {
             "fill": {
              "color": "#EBF0F8"
             },
             "line": {
              "color": "white"
             }
            },
            "header": {
             "fill": {
              "color": "#C8D4E3"
             },
             "line": {
              "color": "white"
             }
            },
            "type": "table"
           }
          ]
         },
         "layout": {
          "annotationdefaults": {
           "arrowcolor": "#2a3f5f",
           "arrowhead": 0,
           "arrowwidth": 1
          },
          "autotypenumbers": "strict",
          "coloraxis": {
           "colorbar": {
            "outlinewidth": 0,
            "ticks": ""
           }
          },
          "colorscale": {
           "diverging": [
            [
             0,
             "#8e0152"
            ],
            [
             0.1,
             "#c51b7d"
            ],
            [
             0.2,
             "#de77ae"
            ],
            [
             0.3,
             "#f1b6da"
            ],
            [
             0.4,
             "#fde0ef"
            ],
            [
             0.5,
             "#f7f7f7"
            ],
            [
             0.6,
             "#e6f5d0"
            ],
            [
             0.7,
             "#b8e186"
            ],
            [
             0.8,
             "#7fbc41"
            ],
            [
             0.9,
             "#4d9221"
            ],
            [
             1,
             "#276419"
            ]
           ],
           "sequential": [
            [
             0,
             "#0d0887"
            ],
            [
             0.1111111111111111,
             "#46039f"
            ],
            [
             0.2222222222222222,
             "#7201a8"
            ],
            [
             0.3333333333333333,
             "#9c179e"
            ],
            [
             0.4444444444444444,
             "#bd3786"
            ],
            [
             0.5555555555555556,
             "#d8576b"
            ],
            [
             0.6666666666666666,
             "#ed7953"
            ],
            [
             0.7777777777777778,
             "#fb9f3a"
            ],
            [
             0.8888888888888888,
             "#fdca26"
            ],
            [
             1,
             "#f0f921"
            ]
           ],
           "sequentialminus": [
            [
             0,
             "#0d0887"
            ],
            [
             0.1111111111111111,
             "#46039f"
            ],
            [
             0.2222222222222222,
             "#7201a8"
            ],
            [
             0.3333333333333333,
             "#9c179e"
            ],
            [
             0.4444444444444444,
             "#bd3786"
            ],
            [
             0.5555555555555556,
             "#d8576b"
            ],
            [
             0.6666666666666666,
             "#ed7953"
            ],
            [
             0.7777777777777778,
             "#fb9f3a"
            ],
            [
             0.8888888888888888,
             "#fdca26"
            ],
            [
             1,
             "#f0f921"
            ]
           ]
          },
          "colorway": [
           "#636efa",
           "#EF553B",
           "#00cc96",
           "#ab63fa",
           "#FFA15A",
           "#19d3f3",
           "#FF6692",
           "#B6E880",
           "#FF97FF",
           "#FECB52"
          ],
          "font": {
           "color": "#2a3f5f"
          },
          "geo": {
           "bgcolor": "white",
           "lakecolor": "white",
           "landcolor": "#E5ECF6",
           "showlakes": true,
           "showland": true,
           "subunitcolor": "white"
          },
          "hoverlabel": {
           "align": "left"
          },
          "hovermode": "closest",
          "mapbox": {
           "style": "light"
          },
          "paper_bgcolor": "white",
          "plot_bgcolor": "#E5ECF6",
          "polar": {
           "angularaxis": {
            "gridcolor": "white",
            "linecolor": "white",
            "ticks": ""
           },
           "bgcolor": "#E5ECF6",
           "radialaxis": {
            "gridcolor": "white",
            "linecolor": "white",
            "ticks": ""
           }
          },
          "scene": {
           "xaxis": {
            "backgroundcolor": "#E5ECF6",
            "gridcolor": "white",
            "gridwidth": 2,
            "linecolor": "white",
            "showbackground": true,
            "ticks": "",
            "zerolinecolor": "white"
           },
           "yaxis": {
            "backgroundcolor": "#E5ECF6",
            "gridcolor": "white",
            "gridwidth": 2,
            "linecolor": "white",
            "showbackground": true,
            "ticks": "",
            "zerolinecolor": "white"
           },
           "zaxis": {
            "backgroundcolor": "#E5ECF6",
            "gridcolor": "white",
            "gridwidth": 2,
            "linecolor": "white",
            "showbackground": true,
            "ticks": "",
            "zerolinecolor": "white"
           }
          },
          "shapedefaults": {
           "line": {
            "color": "#2a3f5f"
           }
          },
          "ternary": {
           "aaxis": {
            "gridcolor": "white",
            "linecolor": "white",
            "ticks": ""
           },
           "baxis": {
            "gridcolor": "white",
            "linecolor": "white",
            "ticks": ""
           },
           "bgcolor": "#E5ECF6",
           "caxis": {
            "gridcolor": "white",
            "linecolor": "white",
            "ticks": ""
           }
          },
          "title": {
           "x": 0.05
          },
          "xaxis": {
           "automargin": true,
           "gridcolor": "white",
           "linecolor": "white",
           "ticks": "",
           "title": {
            "standoff": 15
           },
           "zerolinecolor": "white",
           "zerolinewidth": 2
          },
          "yaxis": {
           "automargin": true,
           "gridcolor": "white",
           "linecolor": "white",
           "ticks": "",
           "title": {
            "standoff": 15
           },
           "zerolinecolor": "white",
           "zerolinewidth": 2
          }
         }
        },
        "title": {
         "text": "Number of Employees by Department"
        },
        "xaxis": {
         "anchor": "y",
         "autorange": true,
         "categoryarray": [
          "Sales",
          "Marketing",
          "HR",
          "IT",
          "Finance"
         ],
         "categoryorder": "array",
         "domain": [
          0,
          1
         ],
         "range": [
          -0.5,
          4.5
         ],
         "title": {
          "text": "Department"
         },
         "type": "category"
        },
        "yaxis": {
         "anchor": "x",
         "autorange": true,
         "domain": [
          0,
          1
         ],
         "range": [
          0,
          52.63157894736842
         ],
         "title": {
          "text": "Employees"
         },
         "type": "linear"
        }
       }
      },
      "image/png": "[encoded data removed]"
     },
     "metadata": {},
     "output_type": "display_data"
    }
   ],
   "source": [
    "import plotly.express as px\n",
    "import pandas as pd\n",
    "\n",
    "# Step 1: Create sample data\n",
    "data = {\n",
    "    'Department': ['Sales', 'Marketing', 'HR', 'IT', 'Finance'],\n",
    "    'Employees': [50, 40, 20, 35, 25]\n",
    "}\n",
    "\n",
    "df = pd.DataFrame(data)\n",
    "\n",
    "# Step 2: Create bar plot\n",
    "fig = px.bar(df, x='Department', y='Employees', title='Number of Employees by Department', color='Department')\n",
    "\n",
    "# Step 3: Show the plot\n",
    "fig.show()\n"
   ]
  },
  {
   "cell_type": "markdown",
   "id": "31bc5f68-eb74-4066-8955-b8f9b2deeebe",
   "metadata": {},
   "source": [
    "**Q 6.  Create a DataFrame and add a new column based on an existing column.**"
   ]
  },
  {
   "cell_type": "markdown",
   "id": "245f1ed3-c06a-4d04-809b-555e263b6b3b",
   "metadata": {},
   "source": [
    "**Ans.** Create a DataFrame and add a new column based on an existing column using Pandas:"
   ]
  },
  {
   "cell_type": "code",
   "execution_count": 8,
   "id": "cd2abe3a-2d00-4141-8a44-529118044a3f",
   "metadata": {},
   "outputs": [
    {
     "name": "stdout",
     "output_type": "stream",
     "text": [
      "    Name  Salary     Tax\n",
      "0   Umer   50000  5000.0\n",
      "1    Bob   60000  6000.0\n",
      "2   Asif   70000  7000.0\n",
      "3  David   80000  8000.0\n"
     ]
    }
   ],
   "source": [
    "import pandas as pd\n",
    "\n",
    "# Step 1: Create a sample DataFrame\n",
    "data = {\n",
    "    'Name': ['Umer', 'Bob', 'Asif', 'David'],\n",
    "    'Salary': [50000, 60000, 70000, 80000]\n",
    "}\n",
    "\n",
    "df = pd.DataFrame(data)\n",
    "\n",
    "# Step 2: Add a new column 'Tax' as 10% of 'Salary'\n",
    "df['Tax'] = df['Salary'] * 0.10\n",
    "\n",
    "# Step 3: Print the updated DataFrame\n",
    "print(df)\n"
   ]
  },
  {
   "cell_type": "markdown",
   "id": "3ee9c099-0e13-4896-b03c-e1b9400cb71c",
   "metadata": {},
   "source": [
    "**Q 7.  Write a program to perform element-wise multiplication of two NumPy arrays.**"
   ]
  },
  {
   "cell_type": "markdown",
   "id": "37d99fe6-1b94-42a8-b6c8-2deba042b4ff",
   "metadata": {},
   "source": [
    "**Ans.** Python program to perform element-wise multiplication of two NumPy arrays:"
   ]
  },
  {
   "cell_type": "code",
   "execution_count": 9,
   "id": "8e48b32f-0b24-4945-bcf9-f9c5a1366940",
   "metadata": {},
   "outputs": [
    {
     "name": "stdout",
     "output_type": "stream",
     "text": [
      "Array 1: [1 2 3 4]\n",
      "Array 2: [5 6 7 8]\n",
      "Element-wise Multiplication: [ 5 12 21 32]\n"
     ]
    }
   ],
   "source": [
    "import numpy as np\n",
    "\n",
    "# Step 1: Create two NumPy arrays\n",
    "array1 = np.array([1, 2, 3, 4])\n",
    "array2 = np.array([5, 6, 7, 8])\n",
    "\n",
    "# Step 2: Perform element-wise multiplication\n",
    "result = array1 * array2\n",
    "\n",
    "# Step 3: Display the result\n",
    "print(\"Array 1:\", array1)\n",
    "print(\"Array 2:\", array2)\n",
    "print(\"Element-wise Multiplication:\", result)\n"
   ]
  },
  {
   "cell_type": "markdown",
   "id": "44121747-3c45-448c-a111-66cf106cbcb4",
   "metadata": {},
   "source": [
    "**Q 8.  Create a line plot with multiple lines using Matplotlib.**"
   ]
  },
  {
   "cell_type": "markdown",
   "id": "9a308534-7115-4f0e-bfa0-b05eb6ca0cb2",
   "metadata": {},
   "source": [
    "**Ans.** Create a line plot with multiple lines using Matplotlib: "
   ]
  },
  {
   "cell_type": "code",
   "execution_count": 10,
   "id": "e070da57-6770-417b-9fe0-66dbe6c529ae",
   "metadata": {},
   "outputs": [
    {
     "data": {
      "image/png": "[encoded data removed]",
      "text/plain": [
       "<Figure size 640x480 with 1 Axes>"
      ]
     },
     "metadata": {},
     "output_type": "display_data"
    }
   ],
   "source": [
    "import matplotlib.pyplot as plt\n",
    "\n",
    "# Step 1: Sample data\n",
    "months = ['Jan', 'Feb', 'Mar', 'Apr', 'May']\n",
    "product_A_sales = [100, 120, 130, 90, 150]\n",
    "product_B_sales = [80, 110, 120, 100, 140]\n",
    "\n",
    "# Step 2: Create line plot\n",
    "plt.plot(months, product_A_sales, label='Product A', marker='o')\n",
    "plt.plot(months, product_B_sales, label='Product B', marker='s')\n",
    "\n",
    "# Step 3: Add labels, title, and legend\n",
    "plt.xlabel('Month')\n",
    "plt.ylabel('Sales')\n",
    "plt.title('Monthly Sales Comparison')\n",
    "plt.legend()\n",
    "\n",
    "# Step 4: Show the plot\n",
    "plt.grid(True)\n",
    "plt.show()\n"
   ]
  },
  {
   "cell_type": "markdown",
   "id": "d9cd0c2a-6372-4f83-8d09-835bbb21831e",
   "metadata": {},
   "source": [
    "**Q 9.   Generate a Pandas DataFrame and filter rows where a column value is greater than a threshold.**"
   ]
  },
  {
   "cell_type": "markdown",
   "id": "fb64d3d3-1a14-4727-8240-f0b1f3e9fa73",
   "metadata": {},
   "source": [
    "**Ans.** A simple way to generate a Pandas DataFrame and filter rows where a column’s value is greater than a threshold:"
   ]
  },
  {
   "cell_type": "code",
   "execution_count": 11,
   "id": "3e81afc3-b531-4e4b-a369-ddc677c933e1",
   "metadata": {},
   "outputs": [
    {
     "name": "stdout",
     "output_type": "stream",
     "text": [
      "      Name  Score\n",
      "0    Alice     85\n",
      "2  Charlie     95\n"
     ]
    }
   ],
   "source": [
    "import pandas as pd\n",
    "\n",
    "# Step 1: Create sample DataFrame\n",
    "data = {\n",
    "    'Name': ['Alice', 'Bob', 'Charlie', 'David'],\n",
    "    'Score': [85, 70, 95, 60]\n",
    "}\n",
    "\n",
    "df = pd.DataFrame(data)\n",
    "\n",
    "# Step 2: Filter rows where 'Score' > 75\n",
    "filtered_df = df[df['Score'] > 75]\n",
    "\n",
    "# Step 3: Display the filtered DataFrame\n",
    "print(filtered_df)\n"
   ]
  },
  {
   "cell_type": "markdown",
   "id": "ea83eb1a-e553-4b64-ba3e-a863301101c7",
   "metadata": {},
   "source": [
    "**Q 10.   Create a histogram using Seaborn to visualize a distribution.**"
   ]
  },
  {
   "cell_type": "markdown",
   "id": "c138a718-fbec-4574-bd86-cf13ee8985c6",
   "metadata": {},
   "source": [
    "**Ans.**  Create a histogram using Seaborn to visualize the distribution of data:"
   ]
  },
  {
   "cell_type": "code",
   "execution_count": 12,
   "id": "ed491898-34a4-48b9-9fb6-5cbb60a2a2d4",
   "metadata": {},
   "outputs": [
    {
     "data": {
      "image/png": "[encoded data removed]",
      "text/plain": [
       "<Figure size 640x480 with 1 Axes>"
      ]
     },
     "metadata": {},
     "output_type": "display_data"
    }
   ],
   "source": [
    "import seaborn as sns\n",
    "import matplotlib.pyplot as plt\n",
    "import pandas as pd\n",
    "\n",
    "# Step 1: Sample data\n",
    "data = {\n",
    "    'Scores': [55, 60, 65, 70, 70, 75, 80, 85, 85, 90, 95, 100, 100, 100]\n",
    "}\n",
    "\n",
    "df = pd.DataFrame(data)\n",
    "\n",
    "# Step 2: Create histogram\n",
    "sns.histplot(df['Scores'], bins=8, kde=True, color='skyblue')\n",
    "\n",
    "# Step 3: Add labels and title\n",
    "plt.title('Distribution of Scores')\n",
    "plt.xlabel('Score')\n",
    "plt.ylabel('Frequency')\n",
    "\n",
    "# Step 4: Show plot\n",
    "plt.show()\n"
   ]
  },
  {
   "cell_type": "markdown",
   "id": "2954794e-6171-449e-853a-92a46bd45cc8",
   "metadata": {},
   "source": [
    "**Q 11.  Perform matrix multiplication using NumPy.**"
   ]
  },
  {
   "cell_type": "markdown",
   "id": "c8f604da-5e42-4253-a811-be7185f9bb19",
   "metadata": {},
   "source": [
    "**Ans.** "
   ]
  },
  {
   "cell_type": "code",
   "execution_count": 13,
   "id": "d84e78f3-f6ff-4d97-9357-42d843a900ad",
   "metadata": {},
   "outputs": [
    {
     "name": "stdout",
     "output_type": "stream",
     "text": [
      "Matrix A:\n",
      " [[1 2 3]\n",
      " [4 5 6]]\n",
      "Matrix B:\n",
      " [[ 7  8]\n",
      " [ 9 10]\n",
      " [11 12]]\n",
      "Result of A x B:\n",
      " [[ 58  64]\n",
      " [139 154]]\n"
     ]
    }
   ],
   "source": [
    "import numpy as np\n",
    "\n",
    "# Step 1: Define two 2D arrays (matrices)\n",
    "A = np.array([[1, 2, 3],\n",
    "              [4, 5, 6]])\n",
    "\n",
    "B = np.array([[7, 8],\n",
    "              [9, 10],\n",
    "              [11, 12]])\n",
    "\n",
    "# Step 2: Perform matrix multiplication\n",
    "result = np.dot(A, B)\n",
    "\n",
    "# Alternatively, with Python 3.5+, you can use the @ operator:\n",
    "# result = A @ B\n",
    "\n",
    "# Step 3: Print the result\n",
    "print(\"Matrix A:\\n\", A)\n",
    "print(\"Matrix B:\\n\", B)\n",
    "print(\"Result of A x B:\\n\", result)\n"
   ]
  },
  {
   "cell_type": "markdown",
   "id": "50981497-6a91-4ff5-b45c-91425dd70125",
   "metadata": {},
   "source": [
    "**Q 12.  Use Pandas to load a CSV file and display its first 5 rows.**"
   ]
  },
  {
   "cell_type": "markdown",
   "id": "b7735f86-3d3b-438e-9497-14b2fb2bb8ee",
   "metadata": {},
   "source": [
    "**Ans.** "
   ]
  },
  {
   "cell_type": "code",
   "execution_count": 16,
   "id": "c9cc2ef8-b892-479b-acd6-6bc6627238d0",
   "metadata": {},
   "outputs": [
    {
     "name": "stdout",
     "output_type": "stream",
     "text": [
      "   age  income      height     weight  score  gender region product  sales  \\\n",
      "0   56   59544  152.894704  68.267899     19  Female   West       C   4393   \n",
      "1   46   36399  171.189785  82.475629     61    Male  South       B   1467   \n",
      "2   32   57140  180.004856  65.209674     54    Male  South       C   2755   \n",
      "3   60   69554  171.524209  66.930752     39    Male  South       C   1074   \n",
      "4   25   53173  163.986028  74.065926     91    Male  South       A   1003   \n",
      "\n",
      "   day  total_bill     sex     species        date  \n",
      "0  Thu   85.500828  Female   Virginica  2024-01-01  \n",
      "1  Wed   21.219641  Female  Versicolor  2024-01-02  \n",
      "2  Fri   92.875769    Male      Setosa  2024-01-03  \n",
      "3  Fri   88.290673    Male      Setosa  2024-01-04  \n",
      "4  Fri   56.695425  Female   Virginica  2024-01-05  \n"
     ]
    }
   ],
   "source": [
    "import pandas as pd\n",
    "\n",
    "# Step 1: Load CSV file into DataFrame\n",
    "df = pd.read_csv('sample_seaborn_data.csv')\n",
    "\n",
    "# Step 2: Display the first 5 rows\n",
    "print(df.head())\n"
   ]
  },
  {
   "cell_type": "markdown",
   "id": "87035e4f-bf84-4613-8571-eb14d9c5f244",
   "metadata": {},
   "source": [
    "**Q 13.   Create a 3D scatter plot using Plotly.**"
   ]
  },
  {
   "cell_type": "markdown",
   "id": "c199ba43-eb49-4fb1-b40e-a6306eaeef45",
   "metadata": {},
   "source": [
    "**Ans.** "
   ]
  },
  {
   "cell_type": "code",
   "execution_count": 19,
   "id": "e11c023a-9e4f-4919-82a2-4e036ef27729",
   "metadata": {},
   "outputs": [
    {
     "data": {
      "application/vnd.plotly.v1+json": {
       "config": {
        "plotlyServerURL": "https://plot.ly"
       },
       "data": [
        {
         "hovertemplate": "Category=A<br>X=%{x}<br>Y=%{y}<br>Z=%{z}<extra></extra>",
         "legendgroup": "A",
         "marker": {
          "color": "#636efa",
          "symbol": "circle"
         },
         "mode": "markers",
         "name": "A",
         "scene": "scene",
         "showlegend": true,
         "type": "scatter3d",
         "x": {
          "_inputArray": {
           "0": 1,
           "1": 3,
           "2": 5,
           "bdata": "AQMF",
           "dtype": "i1",
           "shape": "3"
          },
          "bdata": "AQMF",
          "dtype": "i1"
         },
         "y": {
          "_inputArray": {
           "0": 10,
           "1": 12,
           "2": 14,
           "bdata": "CgwO",
           "dtype": "i1",
           "shape": "3"
          },
          "bdata": "CgwO",
          "dtype": "i1"
         },
         "z": {
          "_inputArray": {
           "0": 5,
           "1": 3,
           "2": 1,
           "bdata": "BQMB",
           "dtype": "i1",
           "shape": "3"
          },
          "bdata": "BQMB",
          "dtype": "i1"
         }
        },
        {
         "hovertemplate": "Category=B<br>X=%{x}<br>Y=%{y}<br>Z=%{z}<extra></extra>",
         "legendgroup": "B",
         "marker": {
          "color": "#EF553B",
          "symbol": "diamond"
         },
         "mode": "markers",
         "name": "B",
         "scene": "scene",
         "showlegend": true,
         "type": "scatter3d",
         "x": {
          "_inputArray": {
           "0": 2,
           "1": 4,
           "bdata": "AgQ=",
           "dtype": "i1",
           "shape": "2"
          },
          "bdata": "AgQ=",
          "dtype": "i1"
         },
         "y": {
          "_inputArray": {
           "0": 11,
           "1": 13,
           "bdata": "Cw0=",
           "dtype": "i1",
           "shape": "2"
          },
          "bdata": "Cw0=",
          "dtype": "i1"
         },
         "z": {
          "_inputArray": {
           "0": 4,
           "1": 2,
           "bdata": "BAI=",
           "dtype": "i1",
           "shape": "2"
          },
          "bdata": "BAI=",
          "dtype": "i1"
         }
        }
       ],
       "layout": {
        "autosize": true,
        "legend": {
         "title": {
          "text": "Category"
         },
         "tracegroupgap": 0
        },
        "scene": {
         "aspectmode": "auto",
         "aspectratio": {
          "x": 1,
          "y": 1,
          "z": 1
         },
         "domain": {
          "x": [
           0,
           1
          ],
          "y": [
           0,
           1
          ]
         },
         "xaxis": {
          "title": {
           "text": "X"
          },
          "type": "linear"
         },
         "yaxis": {
          "title": {
           "text": "Y"
          },
          "type": "linear"
         },
         "zaxis": {
          "title": {
           "text": "Z"
          },
          "type": "linear"
         }
        },
        "template": {
         "data": {
          "bar": [
           {
            "error_x": {
             "color": "#2a3f5f"
            },
            "error_y": {
             "color": "#2a3f5f"
            },
            "marker": {
             "line": {
              "color": "#E5ECF6",
              "width": 0.5
             },
             "pattern": {
              "fillmode": "overlay",
              "size": 10,
              "solidity": 0.2
             }
            },
            "type": "bar"
           }
          ],
          "barpolar": [
           {
            "marker": {
             "line": {
              "color": "#E5ECF6",
              "width": 0.5
             },
             "pattern": {
              "fillmode": "overlay",
              "size": 10,
              "solidity": 0.2
             }
            },
            "type": "barpolar"
           }
          ],
          "carpet": [
           {
            "aaxis": {
             "endlinecolor": "#2a3f5f",
             "gridcolor": "white",
             "linecolor": "white",
             "minorgridcolor": "white",
             "startlinecolor": "#2a3f5f"
            },
            "baxis": {
             "endlinecolor": "#2a3f5f",
             "gridcolor": "white",
             "linecolor": "white",
             "minorgridcolor": "white",
             "startlinecolor": "#2a3f5f"
            },
            "type": "carpet"
           }
          ],
          "choropleth": [
           {
            "colorbar": {
             "outlinewidth": 0,
             "ticks": ""
            },
            "type": "choropleth"
           }
          ],
          "contour": [
           {
            "colorbar": {
             "outlinewidth": 0,
             "ticks": ""
            },
            "colorscale": [
             [
              0,
              "#0d0887"
             ],
             [
              0.1111111111111111,
              "#46039f"
             ],
             [
              0.2222222222222222,
              "#7201a8"
             ],
             [
              0.3333333333333333,
              "#9c179e"
             ],
             [
              0.4444444444444444,
              "#bd3786"
             ],
             [
              0.5555555555555556,
              "#d8576b"
             ],
             [
              0.6666666666666666,
              "#ed7953"
             ],
             [
              0.7777777777777778,
              "#fb9f3a"
             ],
             [
              0.8888888888888888,
              "#fdca26"
             ],
             [
              1,
              "#f0f921"
             ]
            ],
            "type": "contour"
           }
          ],
          "contourcarpet": [
           {
            "colorbar": {
             "outlinewidth": 0,
             "ticks": ""
            },
            "type": "contourcarpet"
           }
          ],
          "heatmap": [
           {
            "colorbar": {
             "outlinewidth": 0,
             "ticks": ""
            },
            "colorscale": [
             [
              0,
              "#0d0887"
             ],
             [
              0.1111111111111111,
              "#46039f"
             ],
             [
              0.2222222222222222,
              "#7201a8"
             ],
             [
              0.3333333333333333,
              "#9c179e"
             ],
             [
              0.4444444444444444,
              "#bd3786"
             ],
             [
              0.5555555555555556,
              "#d8576b"
             ],
             [
              0.6666666666666666,
              "#ed7953"
             ],
             [
              0.7777777777777778,
              "#fb9f3a"
             ],
             [
              0.8888888888888888,
              "#fdca26"
             ],
             [
              1,
              "#f0f921"
             ]
            ],
            "type": "heatmap"
           }
          ],
          "histogram": [
           {
            "marker": {
             "pattern": {
              "fillmode": "overlay",
              "size": 10,
              "solidity": 0.2
             }
            },
            "type": "histogram"
           }
          ],
          "histogram2d": [
           {
            "colorbar": {
             "outlinewidth": 0,
             "ticks": ""
            },
            "colorscale": [
             [
              0,
              "#0d0887"
             ],
             [
              0.1111111111111111,
              "#46039f"
             ],
             [
              0.2222222222222222,
              "#7201a8"
             ],
             [
              0.3333333333333333,
              "#9c179e"
             ],
             [
              0.4444444444444444,
              "#bd3786"
             ],
             [
              0.5555555555555556,
              "#d8576b"
             ],
             [
              0.6666666666666666,
              "#ed7953"
             ],
             [
              0.7777777777777778,
              "#fb9f3a"
             ],
             [
              0.8888888888888888,
              "#fdca26"
             ],
             [
              1,
              "#f0f921"
             ]
            ],
            "type": "histogram2d"
           }
          ],
          "histogram2dcontour": [
           {
            "colorbar": {
             "outlinewidth": 0,
             "ticks": ""
            },
            "colorscale": [
             [
              0,
              "#0d0887"
             ],
             [
              0.1111111111111111,
              "#46039f"
             ],
             [
              0.2222222222222222,
              "#7201a8"
             ],
             [
              0.3333333333333333,
              "#9c179e"
             ],
             [
              0.4444444444444444,
              "#bd3786"
             ],
             [
              0.5555555555555556,
              "#d8576b"
             ],
             [
              0.6666666666666666,
              "#ed7953"
             ],
             [
              0.7777777777777778,
              "#fb9f3a"
             ],
             [
              0.8888888888888888,
              "#fdca26"
             ],
             [
              1,
              "#f0f921"
             ]
            ],
            "type": "histogram2dcontour"
           }
          ],
          "mesh3d": [
           {
            "colorbar": {
             "outlinewidth": 0,
             "ticks": ""
            },
            "type": "mesh3d"
           }
          ],
          "parcoords": [
           {
            "line": {
             "colorbar": {
              "outlinewidth": 0,
              "ticks": ""
             }
            },
            "type": "parcoords"
           }
          ],
          "pie": [
           {
            "automargin": true,
            "type": "pie"
           }
          ],
          "scatter": [
           {
            "fillpattern": {
             "fillmode": "overlay",
             "size": 10,
             "solidity": 0.2
            },
            "type": "scatter"
           }
          ],
          "scatter3d": [
           {
            "line": {
             "colorbar": {
              "outlinewidth": 0,
              "ticks": ""
             }
            },
            "marker": {
             "colorbar": {
              "outlinewidth": 0,
              "ticks": ""
             }
            },
            "type": "scatter3d"
           }
          ],
          "scattercarpet": [
           {
            "marker": {
             "colorbar": {
              "outlinewidth": 0,
              "ticks": ""
             }
            },
            "type": "scattercarpet"
           }
          ],
          "scattergeo": [
           {
            "marker": {
             "colorbar": {
              "outlinewidth": 0,
              "ticks": ""
             }
            },
            "type": "scattergeo"
           }
          ],
          "scattergl": [
           {
            "marker": {
             "colorbar": {
              "outlinewidth": 0,
              "ticks": ""
             }
            },
            "type": "scattergl"
           }
          ],
          "scattermap": [
           {
            "marker": {
             "colorbar": {
              "outlinewidth": 0,
              "ticks": ""
             }
            },
            "type": "scattermap"
           }
          ],
          "scattermapbox": [
           {
            "marker": {
             "colorbar": {
              "outlinewidth": 0,
              "ticks": ""
             }
            },
            "type": "scattermapbox"
           }
          ],
          "scatterpolar": [
           {
            "marker": {
             "colorbar": {
              "outlinewidth": 0,
              "ticks": ""
             }
            },
            "type": "scatterpolar"
           }
          ],
          "scatterpolargl": [
           {
            "marker": {
             "colorbar": {
              "outlinewidth": 0,
              "ticks": ""
             }
            },
            "type": "scatterpolargl"
           }
          ],
          "scatterternary": [
           {
            "marker": {
             "colorbar": {
              "outlinewidth": 0,
              "ticks": ""
             }
            },
            "type": "scatterternary"
           }
          ],
          "surface": [
           {
            "colorbar": {
             "outlinewidth": 0,
             "ticks": ""
            },
            "colorscale": [
             [
              0,
              "#0d0887"
             ],
             [
              0.1111111111111111,
              "#46039f"
             ],
             [
              0.2222222222222222,
              "#7201a8"
             ],
             [
              0.3333333333333333,
              "#9c179e"
             ],
             [
              0.4444444444444444,
              "#bd3786"
             ],
             [
              0.5555555555555556,
              "#d8576b"
             ],
             [
              0.6666666666666666,
              "#ed7953"
             ],
             [
              0.7777777777777778,
              "#fb9f3a"
             ],
             [
              0.8888888888888888,
              "#fdca26"
             ],
             [
              1,
              "#f0f921"
             ]
            ],
            "type": "surface"
           }
          ],
          "table": [
           {
            "cells": {
             "fill": {
              "color": "#EBF0F8"
             },
             "line": {
              "color": "white"
             }
            },
            "header": {
             "fill": {
              "color": "#C8D4E3"
             },
             "line": {
              "color": "white"
             }
            },
            "type": "table"
           }
          ]
         },
         "layout": {
          "annotationdefaults": {
           "arrowcolor": "#2a3f5f",
           "arrowhead": 0,
           "arrowwidth": 1
          },
          "autotypenumbers": "strict",
          "coloraxis": {
           "colorbar": {
            "outlinewidth": 0,
            "ticks": ""
           }
          },
          "colorscale": {
           "diverging": [
            [
             0,
             "#8e0152"
            ],
            [
             0.1,
             "#c51b7d"
            ],
            [
             0.2,
             "#de77ae"
            ],
            [
             0.3,
             "#f1b6da"
            ],
            [
             0.4,
             "#fde0ef"
            ],
            [
             0.5,
             "#f7f7f7"
            ],
            [
             0.6,
             "#e6f5d0"
            ],
            [
             0.7,
             "#b8e186"
            ],
            [
             0.8,
             "#7fbc41"
            ],
            [
             0.9,
             "#4d9221"
            ],
            [
             1,
             "#276419"
            ]
           ],
           "sequential": [
            [
             0,
             "#0d0887"
            ],
            [
             0.1111111111111111,
             "#46039f"
            ],
            [
             0.2222222222222222,
             "#7201a8"
            ],
            [
             0.3333333333333333,
             "#9c179e"
            ],
            [
             0.4444444444444444,
             "#bd3786"
            ],
            [
             0.5555555555555556,
             "#d8576b"
            ],
            [
             0.6666666666666666,
             "#ed7953"
            ],
            [
             0.7777777777777778,
             "#fb9f3a"
            ],
            [
             0.8888888888888888,
             "#fdca26"
            ],
            [
             1,
             "#f0f921"
            ]
           ],
           "sequentialminus": [
            [
             0,
             "#0d0887"
            ],
            [
             0.1111111111111111,
             "#46039f"
            ],
            [
             0.2222222222222222,
             "#7201a8"
            ],
            [
             0.3333333333333333,
             "#9c179e"
            ],
            [
             0.4444444444444444,
             "#bd3786"
            ],
            [
             0.5555555555555556,
             "#d8576b"
            ],
            [
             0.6666666666666666,
             "#ed7953"
            ],
            [
             0.7777777777777778,
             "#fb9f3a"
            ],
            [
             0.8888888888888888,
             "#fdca26"
            ],
            [
             1,
             "#f0f921"
            ]
           ]
          },
          "colorway": [
           "#636efa",
           "#EF553B",
           "#00cc96",
           "#ab63fa",
           "#FFA15A",
           "#19d3f3",
           "#FF6692",
           "#B6E880",
           "#FF97FF",
           "#FECB52"
          ],
          "font": {
           "color": "#2a3f5f"
          },
          "geo": {
           "bgcolor": "white",
           "lakecolor": "white",
           "landcolor": "#E5ECF6",
           "showlakes": true,
           "showland": true,
           "subunitcolor": "white"
          },
          "hoverlabel": {
           "align": "left"
          },
          "hovermode": "closest",
          "mapbox": {
           "style": "light"
          },
          "paper_bgcolor": "white",
          "plot_bgcolor": "#E5ECF6",
          "polar": {
           "angularaxis": {
            "gridcolor": "white",
            "linecolor": "white",
            "ticks": ""
           },
           "bgcolor": "#E5ECF6",
           "radialaxis": {
            "gridcolor": "white",
            "linecolor": "white",
            "ticks": ""
           }
          },
          "scene": {
           "xaxis": {
            "backgroundcolor": "#E5ECF6",
            "gridcolor": "white",
            "gridwidth": 2,
            "linecolor": "white",
            "showbackground": true,
            "ticks": "",
            "zerolinecolor": "white"
           },
           "yaxis": {
            "backgroundcolor": "#E5ECF6",
            "gridcolor": "white",
            "gridwidth": 2,
            "linecolor": "white",
            "showbackground": true,
            "ticks": "",
            "zerolinecolor": "white"
           },
           "zaxis": {
            "backgroundcolor": "#E5ECF6",
            "gridcolor": "white",
            "gridwidth": 2,
            "linecolor": "white",
            "showbackground": true,
            "ticks": "",
            "zerolinecolor": "white"
           }
          },
          "shapedefaults": {
           "line": {
            "color": "#2a3f5f"
           }
          },
          "ternary": {
           "aaxis": {
            "gridcolor": "white",
            "linecolor": "white",
            "ticks": ""
           },
           "baxis": {
            "gridcolor": "white",
            "linecolor": "white",
            "ticks": ""
           },
           "bgcolor": "#E5ECF6",
           "caxis": {
            "gridcolor": "white",
            "linecolor": "white",
            "ticks": ""
           }
          },
          "title": {
           "x": 0.05
          },
          "xaxis": {
           "automargin": true,
           "gridcolor": "white",
           "linecolor": "white",
           "ticks": "",
           "title": {
            "standoff": 15
           },
           "zerolinecolor": "white",
           "zerolinewidth": 2
          },
          "yaxis": {
           "automargin": true,
           "gridcolor": "white",
           "linecolor": "white",
           "ticks": "",
           "title": {
            "standoff": 15
           },
           "zerolinecolor": "white",
           "zerolinewidth": 2
          }
         }
        },
        "title": {
         "text": "3D Scatter Plot Example"
        }
       }
      },
      "image/png": "[encoded data removed]"
     },
     "metadata": {},
     "output_type": "display_data"
    }
   ],
   "source": [
    "import plotly.express as px\n",
    "import pandas as pd\n",
    "\n",
    "# Sample data\n",
    "data = {\n",
    "    'X': [1, 2, 3, 4, 5],\n",
    "    'Y': [10, 11, 12, 13, 14],\n",
    "    'Z': [5, 4, 3, 2, 1],\n",
    "    'Category': ['A', 'B', 'A', 'B', 'A']\n",
    "}\n",
    "\n",
    "df = pd.DataFrame(data)\n",
    "\n",
    "# Create 3D scatter plot\n",
    "fig = px.scatter_3d(df, x='X', y='Y', z='Z', color='Category',\n",
    "                    title='3D Scatter Plot Example',\n",
    "                    symbol='Category', size_max=10)\n",
    "\n",
    "fig.show()\n"
   ]
  },
  {
   "cell_type": "code",
   "execution_count": null,
   "id": "5443e5ce-12f0-4090-b9f1-114b45c13a6c",
   "metadata": {},
   "outputs": [],
   "source": []
  }
 ],
 "metadata": {
  "kernelspec": {
   "display_name": "Python 3 (ipykernel)",
   "language": "python",
   "name": "python3"
  },
  "language_info": {
   "codemirror_mode": {
    "name": "ipython",
    "version": 3
   },
   "file_extension": ".py",
   "mimetype": "text/x-python",
   "name": "python",
   "nbconvert_exporter": "python",
   "pygments_lexer": "ipython3",
   "version": "3.13.3"
  }
 },
 "nbformat": 4,
 "nbformat_minor": 5
}
