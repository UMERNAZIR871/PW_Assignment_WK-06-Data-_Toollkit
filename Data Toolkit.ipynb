{
 "cells": [
  {
   "cell_type": "markdown",
   "id": "3292c021-7fe2-41de-bd5d-be4cd7601337",
   "metadata": {},
   "source": [
    "# DATA TOOLKIT ASSIGNMENT"
   ]
  },
  {
   "cell_type": "markdown",
   "id": "a3eb1f79-f4e7-41d2-8e17-4bec085761a0",
   "metadata": {},
   "source": [
    "#     Theory Questions"
   ]
  },
  {
   "cell_type": "markdown",
   "id": "47a7dd21-784c-492d-96dd-845505490f25",
   "metadata": {},
   "source": [
    "**Q 1. What is NumPy, and why is it widely used in Python?**"
   ]
  },
  {
   "cell_type": "markdown",
   "id": "975507a0-472e-4194-a2a9-65bf8c244731",
   "metadata": {},
   "source": [
    "**Ans,** NumPy (short for Numerical Python) is a powerful open-source Python library primarily used for numerical computations and scientific computing. It provides support for large, multi-dimensional arrays and matrices, along with a collection of mathematical functions to operate on these arrays efficiently.\n",
    "\n",
    "\n",
    "> Key Features of NumPy:\n",
    "\n",
    "1. Ndarray Object:\n",
    "    - The core of NumPy is the ndarray, a fast, flexible, and powerful N-dimensional array object.\n",
    "    - Much more efficient than Python's built-in list when dealing with numerical data.\n",
    "\n",
    "2. Broadcasting:\n",
    "    - Allows arithmetic operations on arrays of different shapes without explicit looping.\n",
    "\n",
    "3. Vectorized Operations:\n",
    "    - Eliminates the need for many loops, making code faster and more concise.\n",
    "    - Uses C under the hood, so it's much faster than standard Python loops.\n",
    "\n",
    "4. Mathematical Functions:\n",
    "    - Includes tools for linear algebra, Fourier transforms, statistics, random number generation, etc.\n",
    "\n",
    "5. Integration:\n",
    "    - Works well with other libraries like Pandas, Matplotlib, SciPy, and TensorFlow.\n",
    "\n",
    "\n",
    "> Why is NumPy Widely Used?\n",
    "\n",
    "| Reason                | Explanation                                                                 |\n",
    "| --------------------- | --------------------------------------------------------------------------- |\n",
    "| **Performance**       | Operations are implemented in C and optimized for speed.                    |\n",
    "| **Simplicity**        | Easy syntax and array operations streamline code development.               |\n",
    "| **Memory Efficiency** | Arrays use less memory than Python lists for large datasets.                |\n",
    "| **Ecosystem Support** | Foundation for many data science and machine learning libraries.            |\n",
    "| **Data Analysis**     | Essential for handling structured and unstructured data in arrays/matrices. |\n",
    "\n"
   ]
  },
  {
   "cell_type": "code",
   "execution_count": 3,
   "id": "aaede6d9-4083-43f6-a071-1c8ca345c0ac",
   "metadata": {},
   "outputs": [
    {
     "name": "stdout",
     "output_type": "stream",
     "text": [
      "[5 7 9]\n"
     ]
    }
   ],
   "source": [
    "# Example \n",
    "\n",
    "import numpy as np\n",
    "\n",
    "# Create an array\n",
    "a = np.array([1, 2, 3])\n",
    "b = np.array([4, 5, 6])\n",
    "\n",
    "# Element-wise addition\n",
    "result = a + b\n",
    "print(result)  # Output: [5 7 9]\n"
   ]
  },
  {
   "cell_type": "markdown",
   "id": "8339a4f6-4a9c-4031-a101-71ac7a06f56a",
   "metadata": {},
   "source": [
    "**Q 2. How does broadcasting work in NumPy?**"
   ]
  },
  {
   "cell_type": "markdown",
   "id": "6ebff5c4-7769-4d5a-ae6c-afa64e4942db",
   "metadata": {},
   "source": [
    "**Ans.** Broadcasting in NumPy is a powerful mechanism that allows operations between arrays of different shapes without writing explicit loops."
   ]
  },
  {
   "cell_type": "markdown",
   "id": "22c8e3ba-f418-4322-9f24-377df3ed028e",
   "metadata": {},
   "source": [
    "Instead of manually expanding the smaller array to match the shape of the larger one, NumPy automatically \"broadcasts\" it, following a set of rules."
   ]
  },
  {
   "cell_type": "markdown",
   "id": "67967307-a0c6-4965-893b-2b26d784b203",
   "metadata": {},
   "source": [
    "Why Broadcasting:  To perform element-wise operations (like addition, subtraction"
   ]
  },
  {
   "cell_type": "markdown",
   "id": "d8ef7410-98e1-4686-bdbd-1ff0397bcacb",
   "metadata": {},
   "source": [
    "Broadcasting Rules:\n",
    "1. Compare shapes from right to left.\n",
    "2. Two dimensions are compatible when:\n",
    "    - They are equal, or\n",
    "    - One of them is 1\n",
    "\n",
    "If the shapes are compatible, NumPy stretches the smaller array along the mismatched dimension(s)."
   ]
  },
  {
   "cell_type": "markdown",
   "id": "58b3d8c5-f63e-4010-8b6c-0fd65ceaed23",
   "metadata": {},
   "source": [
    "Examples:"
   ]
  },
  {
   "cell_type": "markdown",
   "id": "72c30de8-8223-4ced-b659-6b0b70664af8",
   "metadata": {},
   "source": [
    "1. Scalar and Array:"
   ]
  },
  {
   "cell_type": "code",
   "execution_count": 4,
   "id": "12894648-9087-45ae-8ac3-d185bfdad0fd",
   "metadata": {},
   "outputs": [
    {
     "name": "stdout",
     "output_type": "stream",
     "text": [
      "[11 12 13]\n"
     ]
    }
   ],
   "source": [
    "import numpy as np\n",
    "\n",
    "a = np.array([1, 2, 3])\n",
    "b = 10\n",
    "\n",
    "print(a + b)\n",
    "# Output: [11 12 13]\n"
   ]
  },
  {
   "cell_type": "markdown",
   "id": "214925ca-dc6f-4e54-a053-55905ad61013",
   "metadata": {},
   "source": [
    "Here, scalar b is broadcast to match shape (3,)."
   ]
  },
  {
   "cell_type": "markdown",
   "id": "8a580e94-f308-4c0e-b06d-420f54403e68",
   "metadata": {},
   "source": [
    "2. 2D and 1D Array;"
   ]
  },
  {
   "cell_type": "code",
   "execution_count": 5,
   "id": "522f5d17-5a98-4baa-8339-bc774cd60a7d",
   "metadata": {},
   "outputs": [
    {
     "name": "stdout",
     "output_type": "stream",
     "text": [
      "[[11 22 33]\n",
      " [14 25 36]]\n"
     ]
    }
   ],
   "source": [
    "a = np.array([[1, 2, 3],\n",
    "              [4, 5, 6]])  # Shape: (2, 3)\n",
    "\n",
    "b = np.array([10, 20, 30])  # Shape: (3,)\n",
    "\n",
    "print(a + b)\n"
   ]
  },
  {
   "cell_type": "markdown",
   "id": "48a401a2-5edb-47ff-8d12-e01294250b7a",
   "metadata": {},
   "source": [
    "Broadcast Result: b is \"stretched\" to shape (2, 3)"
   ]
  },
  {
   "cell_type": "markdown",
   "id": "067efaa0-b435-49e7-8602-a8bb8a235f9a",
   "metadata": {},
   "source": [
    "3. Incompatible Shapes (Error):"
   ]
  },
  {
   "cell_type": "code",
   "execution_count": 6,
   "id": "1a82f059-1596-49a1-a4f4-d94b2c4a2db6",
   "metadata": {},
   "outputs": [
    {
     "ename": "ValueError",
     "evalue": "operands could not be broadcast together with shapes (2,2) (3,) ",
     "output_type": "error",
     "traceback": [
      "\u001b[1;31m---------------------------------------------------------------------------\u001b[0m",
      "\u001b[1;31mValueError\u001b[0m                                Traceback (most recent call last)",
      "Cell \u001b[1;32mIn[6], line 4\u001b[0m\n\u001b[0;32m      1\u001b[0m a \u001b[38;5;241m=\u001b[39m np\u001b[38;5;241m.\u001b[39marray([[\u001b[38;5;241m1\u001b[39m, \u001b[38;5;241m2\u001b[39m], [\u001b[38;5;241m3\u001b[39m, \u001b[38;5;241m4\u001b[39m]])  \u001b[38;5;66;03m# Shape: (2, 2)\u001b[39;00m\n\u001b[0;32m      2\u001b[0m b \u001b[38;5;241m=\u001b[39m np\u001b[38;5;241m.\u001b[39marray([\u001b[38;5;241m1\u001b[39m, \u001b[38;5;241m2\u001b[39m, \u001b[38;5;241m3\u001b[39m])         \u001b[38;5;66;03m# Shape: (3,)\u001b[39;00m\n\u001b[1;32m----> 4\u001b[0m \u001b[43ma\u001b[49m\u001b[43m \u001b[49m\u001b[38;5;241;43m+\u001b[39;49m\u001b[43m \u001b[49m\u001b[43mb\u001b[49m  \u001b[38;5;66;03m# ❌ Raises ValueError: shapes (2,2) and (3,) not compatible\u001b[39;00m\n",
      "\u001b[1;31mValueError\u001b[0m: operands could not be broadcast together with shapes (2,2) (3,) "
     ]
    }
   ],
   "source": [
    "a = np.array([[1, 2], [3, 4]])  # Shape: (2, 2)\n",
    "b = np.array([1, 2, 3])         # Shape: (3,)\n",
    "\n",
    "a + b  # ❌ Raises ValueError: shapes (2,2) and (3,) not compatible\n"
   ]
  },
  {
   "cell_type": "markdown",
   "id": "5950f151-a8e7-46e1-9d48-848e0360da3a",
   "metadata": {},
   "source": [
    "Visual Summary:\n",
    "\n",
    "| Array A shape | Array B shape | Result Shape | Works? |\n",
    "| ------------- | ------------- | ------------ | ------ |\n",
    "| (3, 4)        | (4,)          | (3, 4)       | ✅      |\n",
    "| (5, 1)        | (1, 6)        | (5, 6)       | ✅      |\n",
    "| (2, 3)        | (3, 2)        | ❌            | ❌      |\n"
   ]
  },
  {
   "cell_type": "markdown",
   "id": "9addd64f-5256-40df-9ca7-719834f71a45",
   "metadata": {},
   "source": [
    "**Q 3. What is a Pandas DataFrame?**"
   ]
  },
  {
   "cell_type": "markdown",
   "id": "632a72e7-aa9c-4ff9-9692-c339b9de8b87",
   "metadata": {},
   "source": [
    "**Ans.** A Pandas DataFrame is a two-dimensional, labeled, tabular data structure in Python—similar to a spreadsheet, SQL table, or an Excel sheet."
   ]
  },
  {
   "cell_type": "markdown",
   "id": "e84e2f68-c9c0-4510-8778-6d062fc64016",
   "metadata": {},
   "source": [
    "It is one of the core data structures provided by the Pandas library, widely used for data analysis, cleaning, and manipulation."
   ]
  },
  {
   "cell_type": "markdown",
   "id": "35f136f3-45e7-4342-8544-11a712e83009",
   "metadata": {},
   "source": [
    "Key Features of a DataFrame:\n",
    "\n",
    "\n",
    "| Feature                 | Description                                                        |\n",
    "| ----------------------- | ------------------------------------------------------------------ |\n",
    "| **Rows and Columns**    | Data is organized in rows (axis=0) and columns (axis=1).           |\n",
    "| **Labeled Axes**        | Both rows and columns have labels (like indexes and column names). |\n",
    "| **Mixed Data Types**    | Columns can hold different data types (e.g., int, float, string).  |\n",
    "| **Size Mutable**        | Can insert or delete columns/rows easily.                          |\n",
    "| **Powerful Operations** | Supports filtering, grouping, merging, reshaping, and more.        |\n"
   ]
  },
  {
   "cell_type": "markdown",
   "id": "6f12fcb8-8718-4fa0-a87f-7f05ec60546c",
   "metadata": {},
   "source": [
    "> Creating a Simple DataFrame:"
   ]
  },
  {
   "cell_type": "code",
   "execution_count": 9,
   "id": "0193c698-06e9-4eb9-89ad-7b5a102b266a",
   "metadata": {},
   "outputs": [
    {
     "name": "stdout",
     "output_type": "stream",
     "text": [
      "      Name  Age    City\n",
      "0     Umer   25   Delhi\n",
      "1      Bob   30  Mumbai\n",
      "2  Charlie   35   Jammu\n"
     ]
    }
   ],
   "source": [
    "import pandas as pd\n",
    "\n",
    "data = {\n",
    "    'Name': ['Umer', 'Bob', 'Charlie'],\n",
    "    'Age': [25, 30, 35],\n",
    "    'City': ['Delhi', 'Mumbai', 'Jammu']\n",
    "}\n",
    "\n",
    "df = pd.DataFrame(data)\n",
    "\n",
    "print(df)\n"
   ]
  },
  {
   "cell_type": "markdown",
   "id": "37bffb0b-f525-4239-90f3-757cd08458e6",
   "metadata": {},
   "source": [
    "Important Attributes & Methods:\n",
    "\n",
    "| Attribute/Method         | Description                                    |\n",
    "| ------------------------ | ---------------------------------------------- |\n",
    "| `df.shape`               | Returns number of rows and columns             |\n",
    "| `df.columns`             | Returns column names                           |\n",
    "| `df.head()`              | Shows first 5 rows                             |\n",
    "| `df.info()`              | Summary of the DataFrame                       |\n",
    "| `df.describe()`          | Statistical summary (for numeric columns)      |\n",
    "| `df.loc[]` / `df.iloc[]` | Access rows/columns by label or index position |\n"
   ]
  },
  {
   "cell_type": "markdown",
   "id": "ec61c580-c615-4c51-b91b-ac5ac8e6facc",
   "metadata": {},
   "source": [
    "Example Use Case: Reading a CSV and filtering data:"
   ]
  },
  {
   "cell_type": "code",
   "execution_count": 13,
   "id": "5c748e91-9240-4264-b287-625618e2603a",
   "metadata": {},
   "outputs": [
    {
     "data": {
      "text/html": [
       "<div>\n",
       "<style scoped>\n",
       "    .dataframe tbody tr th:only-of-type {\n",
       "        vertical-align: middle;\n",
       "    }\n",
       "\n",
       "    .dataframe tbody tr th {\n",
       "        vertical-align: top;\n",
       "    }\n",
       "\n",
       "    .dataframe thead th {\n",
       "        text-align: right;\n",
       "    }\n",
       "</style>\n",
       "<table border=\"1\" class=\"dataframe\">\n",
       "  <thead>\n",
       "    <tr style=\"text-align: right;\">\n",
       "      <th></th>\n",
       "      <th>Product</th>\n",
       "      <th>Sales</th>\n",
       "      <th>Region</th>\n",
       "    </tr>\n",
       "  </thead>\n",
       "  <tbody>\n",
       "    <tr>\n",
       "      <th>2</th>\n",
       "      <td>Keyboard</td>\n",
       "      <td>14500</td>\n",
       "      <td>East</td>\n",
       "    </tr>\n",
       "    <tr>\n",
       "      <th>4</th>\n",
       "      <td>Printer</td>\n",
       "      <td>15000</td>\n",
       "      <td>North</td>\n",
       "    </tr>\n",
       "  </tbody>\n",
       "</table>\n",
       "</div>"
      ],
      "text/plain": [
       "    Product  Sales Region\n",
       "2  Keyboard  14500   East\n",
       "4   Printer  15000  North"
      ]
     },
     "execution_count": 13,
     "metadata": {},
     "output_type": "execute_result"
    }
   ],
   "source": [
    "df = pd.read_csv('sales.csv')\n",
    "df[df['Sales'] > 5000]\n"
   ]
  },
  {
   "cell_type": "markdown",
   "id": "b03ed65d-99a4-476d-a56b-da9ef7e96d29",
   "metadata": {},
   "source": [
    "**Q 4. Explain the use of the groupby() method in Pandas?**"
   ]
  },
  {
   "cell_type": "markdown",
   "id": "a15b0493-e241-46ea-8fb8-92258b0466ff",
   "metadata": {},
   "source": [
    "**Ans.** The groupby() method in Pandas is used to split data into groups based on one or more columns, perform operations on each group independently (like sum(), mean(), count()), and then combine the results."
   ]
  },
  {
   "cell_type": "markdown",
   "id": "56673e1a-a693-4ac3-b382-9747c6842d8a",
   "metadata": {},
   "source": [
    "This is extremely useful for data analysis, aggregation, and reporting."
   ]
  },
  {
   "cell_type": "markdown",
   "id": "fe3633ba-3a59-4f99-9e18-62a85254f822",
   "metadata": {},
   "source": [
    "Syntax: \n",
    "\n",
    "\n",
    "df.groupby('column_name')\n"
   ]
  },
  {
   "cell_type": "code",
   "execution_count": 14,
   "id": "2ba2b414-b983-402d-a039-e8186bc1b33f",
   "metadata": {},
   "outputs": [
    {
     "name": "stdout",
     "output_type": "stream",
     "text": [
      "Product\n",
      "A    380\n",
      "B    450\n",
      "C    300\n",
      "Name: Sales, dtype: int64\n"
     ]
    }
   ],
   "source": [
    "import pandas as pd\n",
    "\n",
    "data = {\n",
    "    'Product': ['A', 'B', 'A', 'C', 'B', 'A'],\n",
    "    'Region': ['North', 'North', 'South', 'South', 'North', 'South'],\n",
    "    'Sales': [100, 200, 150, 300, 250, 130]\n",
    "}\n",
    "\n",
    "df = pd.DataFrame(data)\n",
    "\n",
    "# Group by Product and calculate total sales\n",
    "grouped = df.groupby('Product')['Sales'].sum()\n",
    "print(grouped)\n"
   ]
  },
  {
   "cell_type": "markdown",
   "id": "82a1d400-cb0f-417c-a67b-6ba85705776a",
   "metadata": {},
   "source": [
    "Common Aggregations with groupby():\n",
    "\n",
    "\n",
    "| Operation          | Example                                      |\n",
    "| ------------------ | -------------------------------------------- |\n",
    "| Sum per group      | `df.groupby('Region')['Sales'].sum()`        |\n",
    "| Mean per group     | `df.groupby('Product')['Sales'].mean()`      |\n",
    "| Count per group    | `df.groupby('Product').count()`              |\n",
    "| Multiple functions | `df.groupby('Product').agg(['sum', 'mean'])` |\n",
    "| Group by multiple  | `df.groupby(['Region', 'Product']).sum()`    |"
   ]
  },
  {
   "cell_type": "markdown",
   "id": "d90c8bdb-c1c3-4dd0-ac71-491b404aa9b5",
   "metadata": {},
   "source": [
    "Example with Multiple Aggregations:"
   ]
  },
  {
   "cell_type": "code",
   "execution_count": 15,
   "id": "7a5a2a0b-b4f1-42aa-9546-aeeff24e44e0",
   "metadata": {},
   "outputs": [
    {
     "data": {
      "text/html": [
       "<div>\n",
       "<style scoped>\n",
       "    .dataframe tbody tr th:only-of-type {\n",
       "        vertical-align: middle;\n",
       "    }\n",
       "\n",
       "    .dataframe tbody tr th {\n",
       "        vertical-align: top;\n",
       "    }\n",
       "\n",
       "    .dataframe thead tr th {\n",
       "        text-align: left;\n",
       "    }\n",
       "\n",
       "    .dataframe thead tr:last-of-type th {\n",
       "        text-align: right;\n",
       "    }\n",
       "</style>\n",
       "<table border=\"1\" class=\"dataframe\">\n",
       "  <thead>\n",
       "    <tr>\n",
       "      <th></th>\n",
       "      <th colspan=\"3\" halign=\"left\">Sales</th>\n",
       "    </tr>\n",
       "    <tr>\n",
       "      <th></th>\n",
       "      <th>sum</th>\n",
       "      <th>mean</th>\n",
       "      <th>max</th>\n",
       "    </tr>\n",
       "    <tr>\n",
       "      <th>Product</th>\n",
       "      <th></th>\n",
       "      <th></th>\n",
       "      <th></th>\n",
       "    </tr>\n",
       "  </thead>\n",
       "  <tbody>\n",
       "    <tr>\n",
       "      <th>A</th>\n",
       "      <td>380</td>\n",
       "      <td>126.666667</td>\n",
       "      <td>150</td>\n",
       "    </tr>\n",
       "    <tr>\n",
       "      <th>B</th>\n",
       "      <td>450</td>\n",
       "      <td>225.000000</td>\n",
       "      <td>250</td>\n",
       "    </tr>\n",
       "    <tr>\n",
       "      <th>C</th>\n",
       "      <td>300</td>\n",
       "      <td>300.000000</td>\n",
       "      <td>300</td>\n",
       "    </tr>\n",
       "  </tbody>\n",
       "</table>\n",
       "</div>"
      ],
      "text/plain": [
       "        Sales                 \n",
       "          sum        mean  max\n",
       "Product                       \n",
       "A         380  126.666667  150\n",
       "B         450  225.000000  250\n",
       "C         300  300.000000  300"
      ]
     },
     "execution_count": 15,
     "metadata": {},
     "output_type": "execute_result"
    }
   ],
   "source": [
    "df.groupby('Product').agg({\n",
    "    'Sales': ['sum', 'mean', 'max']\n",
    "})"
   ]
  },
  {
   "cell_type": "markdown",
   "id": "5bdfa125-d411-4c9a-a79b-d33b45dbc15d",
   "metadata": {},
   "source": [
    "**Q 5.  Why is Seaborn preferred for statistical visualizations?**"
   ]
  },
  {
   "cell_type": "markdown",
   "id": "85720ef1-657f-43ce-a686-0236f3ba47b6",
   "metadata": {},
   "source": [
    "**Ans.** Seaborn is preferred for statistical visualizations in Python because it is a high-level interface built on top of Matplotlib, designed specifically to make statistical graphics easier and more beautiful."
   ]
  },
  {
   "cell_type": "markdown",
   "id": "f2237b9d-adf0-48c7-a8dc-11a50b5a9cfb",
   "metadata": {},
   "source": [
    "Seaborn is Preferred based on:\n",
    "\n",
    "\n",
    "| Feature                       | Explanation                                                                                     |\n",
    "| ----------------------------- | ----------------------------------------------------------------------------------------------- |\n",
    "| 🎯 **Statistical Focus**      | Built-in support for visualizing **distributions**, **regressions**, **categorical data**, etc. |\n",
    "| 🎨 **Beautiful Defaults**     | Automatically uses **aesthetically pleasing styles** and color palettes.                        |\n",
    "| 📊 **Simplified Syntax**      | Fewer lines of code needed to create **complex visualizations**.                                |\n",
    "| 🔄 **Built-in Aggregation**   | Automatically computes and plots **summaries (mean, confidence intervals)**.                    |\n",
    "| 🤝 **Works Well with Pandas** | Accepts Pandas DataFrames directly and understands **column names as variables**.               |\n",
    "| 📈 **Complex Plots Easily**   | Makes **facet plots**, **heatmaps**, **pairplots**, and **regression plots** with ease.         |\n"
   ]
  },
  {
   "cell_type": "markdown",
   "id": "bb964da0-22d0-44ed-bd6d-8edb29ca33ca",
   "metadata": {},
   "source": [
    "Example: Comparing with Matplotlib"
   ]
  },
  {
   "cell_type": "markdown",
   "id": "7257dc51-d07a-463c-a8d3-4c55a6c4cf29",
   "metadata": {},
   "source": [
    "With Matplotlib:"
   ]
  },
  {
   "cell_type": "code",
   "execution_count": 17,
   "id": "01204a2d-ed8e-46ce-866f-3b819ef4d1f6",
   "metadata": {},
   "outputs": [
    {
     "data": {
      "image/png": "[encoded data removed]",
      "text/plain": [
       "<Figure size 640x480 with 1 Axes>"
      ]
     },
     "metadata": {},
     "output_type": "display_data"
    }
   ],
   "source": [
    "import matplotlib.pyplot as plt\n",
    "import pandas as pd\n",
    "\n",
    "df = pd.DataFrame({'x': [1, 2, 3], 'y': [2, 5, 7]})\n",
    "\n",
    "plt.plot(df['x'], df['y'])\n",
    "plt.title('Line Plot')\n",
    "plt.show()\n"
   ]
  },
  {
   "cell_type": "markdown",
   "id": "5cde88ff-a4f7-49a0-9fc7-9e9993309f65",
   "metadata": {},
   "source": [
    "With Seaborn:"
   ]
  },
  {
   "cell_type": "code",
   "execution_count": 19,
   "id": "91ea91f4-0812-4c37-8d7d-94a245e998c0",
   "metadata": {},
   "outputs": [
    {
     "data": {
      "text/plain": [
       "<Axes: xlabel='x', ylabel='y'>"
      ]
     },
     "execution_count": 19,
     "metadata": {},
     "output_type": "execute_result"
    },
    {
     "data": {
      "image/png": "[encoded data removed]",
      "text/plain": [
       "<Figure size 640x480 with 1 Axes>"
      ]
     },
     "metadata": {},
     "output_type": "display_data"
    }
   ],
   "source": [
    "import seaborn as sns\n",
    "import pandas as pd\n",
    "\n",
    "df = pd.DataFrame({'x': [1, 2, 3], 'y': [2, 5, 7]})\n",
    "\n",
    "sns.lineplot(data=df, x='x', y='y')\n"
   ]
  },
  {
   "cell_type": "markdown",
   "id": "8e739176-26ae-46a8-8c43-287bf77706b7",
   "metadata": {},
   "source": [
    "`Same plot with less effort and better design.`"
   ]
  },
  {
   "cell_type": "markdown",
   "id": "d5f5232e-acc1-4fa5-b9af-ad567e7936bc",
   "metadata": {},
   "source": [
    "**Types of Plots Easily Created in Seaborn:**"
   ]
  },
  {
   "cell_type": "markdown",
   "id": "46e3e1f1-ba77-4469-9abb-22b37513108d",
   "metadata": {},
   "source": [
    "| Plot Type         | Function            |\n",
    "| ----------------- | ------------------- |\n",
    "| Distribution plot | `sns.histplot()`    |\n",
    "| Box plot          | `sns.boxplot()`     |\n",
    "| Violin plot       | `sns.violinplot()`  |\n",
    "| Bar plot          | `sns.barplot()`     |\n",
    "| Line plot         | `sns.lineplot()`    |\n",
    "| Scatter plot      | `sns.scatterplot()` |\n",
    "| Heatmap           | `sns.heatmap()`     |\n",
    "| Pair plot         | `sns.pairplot()`    |\n",
    "| Regression plot   | `sns.regplot()`     |\n"
   ]
  },
  {
   "cell_type": "markdown",
   "id": "9a468935-fc34-4c9b-8735-b5f11e72853b",
   "metadata": {},
   "source": [
    "**Q 6. What are the differences between NumPy arrays and Python lists?**"
   ]
  },
  {
   "cell_type": "markdown",
   "id": "02386473-5694-48a7-b2a7-8f4b7cbe02f6",
   "metadata": {},
   "source": [
    "**Ans.** "
   ]
  },
  {
   "cell_type": "markdown",
   "id": "1136ee23-46ce-4a02-a402-e8964d0997c3",
   "metadata": {},
   "source": [
    "Maint Point of digfference between Numpy & Python List:\n",
    "\n",
    "| Feature           | NumPy Array     | Python List         |\n",
    "| ----------------- | --------------- | ------------------- |\n",
    "| Speed             | Fast            | Slow                |\n",
    "| Memory Efficiency | High            | Low                 |\n",
    "| Data Type         | Same type only  | Mixed types allowed |\n",
    "| Multidimensional  | Yes             | With nesting        |\n",
    "| Math Operations   | Built-in        | Manual              |\n",
    "| Use Case          | Scientific data | General data        |\n"
   ]
  },
  {
   "cell_type": "code",
   "execution_count": 20,
   "id": "a9c40410-cc0d-4459-9913-94b7eadcff02",
   "metadata": {},
   "outputs": [
    {
     "name": "stdout",
     "output_type": "stream",
     "text": [
      "[6 7 8]\n",
      "[6, 7, 8]\n"
     ]
    }
   ],
   "source": [
    "import numpy as np\n",
    "\n",
    "# NumPy array\n",
    "a = np.array([1, 2, 3])\n",
    "print(a + 5)  # Output: [6 7 8]\n",
    "\n",
    "# Python list\n",
    "b = [1, 2, 3]\n",
    "# print(b + 5) ❌ Error\n",
    "print([x + 5 for x in b])  # ✅ [6, 7, 8]\n"
   ]
  },
  {
   "cell_type": "code",
   "execution_count": null,
   "id": "13e092ba-3367-486f-80f6-002d9a3739a6",
   "metadata": {},
   "outputs": [],
   "source": []
  },
  {
   "cell_type": "code",
   "execution_count": null,
   "id": "71bb1557-922d-4c1e-8428-7f7cf552724b",
   "metadata": {},
   "outputs": [],
   "source": []
  },
  {
   "cell_type": "code",
   "execution_count": null,
   "id": "072a4115-f5f3-44d1-bc2b-613f126432b8",
   "metadata": {},
   "outputs": [],
   "source": []
  },
  {
   "cell_type": "code",
   "execution_count": null,
   "id": "380326ba-a0c0-459e-8dcc-48f28a5382c5",
   "metadata": {},
   "outputs": [],
   "source": []
  },
  {
   "cell_type": "code",
   "execution_count": null,
   "id": "88c9d37f-a236-40c7-8040-a9eea77f9e5a",
   "metadata": {},
   "outputs": [],
   "source": []
  },
  {
   "cell_type": "code",
   "execution_count": null,
   "id": "9be0c866-9473-4fdc-8195-912b3aea20d2",
   "metadata": {},
   "outputs": [],
   "source": []
  },
  {
   "cell_type": "code",
   "execution_count": null,
   "id": "b1404607-5b6d-4e64-9393-209b48be512f",
   "metadata": {},
   "outputs": [],
   "source": []
  }
 ],
 "metadata": {
  "kernelspec": {
   "display_name": "Python 3 (ipykernel)",
   "language": "python",
   "name": "python3"
  },
  "language_info": {
   "codemirror_mode": {
    "name": "ipython",
    "version": 3
   },
   "file_extension": ".py",
   "mimetype": "text/x-python",
   "name": "python",
   "nbconvert_exporter": "python",
   "pygments_lexer": "ipython3",
   "version": "3.13.3"
  }
 },
 "nbformat": 4,
 "nbformat_minor": 5
}
